{
 "cells": [
  {
   "cell_type": "code",
   "execution_count": null,
   "metadata": {},
   "outputs": [],
   "source": [
    "# Importação dos pacotes python\n",
    "import pandas as pd\n",
    "import matplotlib.pyplot as mlp\n",
    "import numpy as np"
   ]
  },
  {
   "cell_type": "code",
   "execution_count": null,
   "metadata": {},
   "outputs": [],
   "source": [
    "# Carregando o arquivo\n",
    "arquivo = \"dados_compras.json\"\n",
    "base = pd.read_json(arquivo, orient = \"records\")\n",
    "base.head()# retorna as 5 primeiras linhas da base de dados"
   ]
  },
  {
   "cell_type": "markdown",
   "metadata": {},
   "source": [
    "## Informações Sobre os Consumidores"
   ]
  },
  {
   "cell_type": "code",
   "execution_count": null,
   "metadata": {},
   "outputs": [],
   "source": [
    "#localizar se nos dados há mais de uma venda por consumidor\n",
    "dados_demo = base.loc[:,[\"Login\",\"Sexo\",\"Idade\"]] #retornar todas as linhas das colunas selecionadas\n",
    "dados_demo = dados_demo.drop_duplicates()#retira todas os usuário que tiveram mais de uma compra\n",
    "dados_demo.head()"
   ]
  },
  {
   "cell_type": "code",
   "execution_count": null,
   "metadata": {},
   "outputs": [],
   "source": [
    "total_usuários = dados_demo[\"Login\"].count()\n",
    "quantidade_vendas = base[\"Valor\"].count()\n",
    "media_vendas = base[\"Valor\"].mean()# graneza escalar por ter uma unidade de medida\n",
    "total_vendas = base[\"Valor\"].sum()\n",
    "\n",
    "#criar um dataframe para juntar todas as variáveis criadas\n",
    "\n",
    "vendas = pd.DataFrame({\"Quantidade total de usuários\":total_usuários,\n",
    "                      \"Quantidade de Vendas\":quantidade_vendas,\n",
    "                      \"Valor Médio de Vendas\": [media_vendas],#valor escalar entre []\n",
    "                      \"Total de vendas\":total_vendas\n",
    "                       })\n",
    "\n",
    "#ajustar formato dos numeros com função map\n",
    "vendas[\"Quantidade total de usuários\"] = vendas[\"Quantidade total de usuários\"].map(\"R$ {:,.2f}\".format)\n",
    "vendas[\"Quantidade de Vendas\"] = vendas[\"Quantidade de Vendas\"].map(\"{:}\".format)\n",
    "vendas[\"Valor Médio de Vendas\"] = vendas[\"Valor Médio de Vendas\"].map(\"R$ {:,.2f}\".format)\n",
    "vendas[\"Total de vendas\"] = vendas[\"Total de vendas\"].map(\"R$ {:,.2f}\".format)\n",
    "\n",
    "display(vendas)#display apresenta os dados em formato de tabela\n",
    "#todo - Alinhar texto do dataframe\n"
   ]
  },
  {
   "cell_type": "markdown",
   "metadata": {},
   "source": [
    "## Análise Geral de Compras"
   ]
  },
  {
   "cell_type": "code",
   "execution_count": null,
   "metadata": {},
   "outputs": [],
   "source": [
    "# Implemente aqui sua solução"
   ]
  },
  {
   "cell_type": "markdown",
   "metadata": {},
   "source": [
    "## Análise Demográfica"
   ]
  },
  {
   "cell_type": "code",
   "execution_count": null,
   "metadata": {},
   "outputs": [],
   "source": [
    "# Implemente aqui sua solução"
   ]
  },
  {
   "cell_type": "markdown",
   "metadata": {},
   "source": [
    "## Informações Demográficas Por Gênero"
   ]
  },
  {
   "cell_type": "code",
   "execution_count": null,
   "metadata": {},
   "outputs": [],
   "source": [
    "# Implemente aqui sua solução"
   ]
  },
  {
   "cell_type": "markdown",
   "metadata": {},
   "source": [
    "## Análise de Compras Por Gênero"
   ]
  },
  {
   "cell_type": "code",
   "execution_count": null,
   "metadata": {},
   "outputs": [],
   "source": [
    "# Implemente aqui sua solução"
   ]
  },
  {
   "cell_type": "markdown",
   "metadata": {},
   "source": [
    "## Consumidores Mais Populares (Top 5)"
   ]
  },
  {
   "cell_type": "code",
   "execution_count": null,
   "metadata": {},
   "outputs": [],
   "source": [
    "# Implemente aqui sua solução"
   ]
  },
  {
   "cell_type": "markdown",
   "metadata": {},
   "source": [
    "## Itens Mais Populares"
   ]
  },
  {
   "cell_type": "code",
   "execution_count": null,
   "metadata": {},
   "outputs": [],
   "source": [
    "# Implemente aqui sua solução"
   ]
  },
  {
   "cell_type": "markdown",
   "metadata": {},
   "source": [
    "## Itens Mais Lucrativos"
   ]
  },
  {
   "cell_type": "code",
   "execution_count": null,
   "metadata": {},
   "outputs": [],
   "source": [
    "# Implemente aqui sua solução"
   ]
  }
 ],
 "metadata": {
  "kernelspec": {
   "display_name": "base",
   "language": "python",
   "name": "python3"
  },
  "language_info": {
   "codemirror_mode": {
    "name": "ipython",
    "version": 3
   },
   "file_extension": ".py",
   "mimetype": "text/x-python",
   "name": "python",
   "nbconvert_exporter": "python",
   "pygments_lexer": "ipython3",
   "version": "3.9.12"
  },
  "vscode": {
   "interpreter": {
    "hash": "fb8bbe35ce05a967cc1765cb51a1a815dfdecdfebe5b24f692427b5b8ca49088"
   }
  }
 },
 "nbformat": 4,
 "nbformat_minor": 2
}
