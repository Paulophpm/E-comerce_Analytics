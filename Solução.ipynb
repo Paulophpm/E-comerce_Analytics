{
 "cells": [
  {
   "cell_type": "code",
   "execution_count": null,
   "metadata": {},
   "outputs": [],
   "source": [
    "# Importação\n",
    "import pandas as pd\n",
    "import numpy as np\n",
    "import matplotlib.pyplot as plt\n",
    "from matplotlib import rcParams"
   ]
  },
  {
   "cell_type": "code",
   "execution_count": null,
   "metadata": {},
   "outputs": [],
   "source": [
    "# configuração dos parâmetros do Pandas\n",
    "pd.set_option(\"mode.copy_on_write\", True)"
   ]
  },
  {
   "cell_type": "code",
   "execution_count": null,
   "metadata": {},
   "outputs": [],
   "source": [
    "# configurar os plots do matplotlib\n",
    "rcParams['figure.figsize'] = 12, 4 # tamanho da grade da figura a ser criada\n",
    "rcParams['lines.linewidth'] = 3 # quantidade de linhas\n",
    "rcParams['xtick.labelsize'] = 'x-large' # largura do eixo x é o total da tela disponível\n",
    "rcParams['ytick.labelsize'] = 'x-large' # largura do eixo y é o total da tela disponível"
   ]
  },
  {
   "cell_type": "code",
   "execution_count": null,
   "metadata": {},
   "outputs": [],
   "source": [
    "#Carregando o arquivo JSON\n",
    "arquivo = \"Dados/dados_compras.json\"\n",
    "base = pd.read_json(arquivo, orient = \"records\")"
   ]
  },
  {
   "attachments": {},
   "cell_type": "markdown",
   "metadata": {},
   "source": [
    "### EDA 1 - Análise Geral de Compras\n",
    "\n",
    "* Número total de consumidores\n",
    "* Preço médio de compra\n",
    "* Número total de compras\n",
    "* Rendimento total"
   ]
  },
  {
   "cell_type": "code",
   "execution_count": null,
   "metadata": {},
   "outputs": [],
   "source": [
    "dados_demo = base[[\"Login\",\"Sexo\",\"Valor\"]] # retornar todas as linhas das colunas selecionadas\n",
    "dados_demo = dados_demo.drop_duplicates(\"Login\")# retira todas os usuário que tiveram mais de uma compra\n",
    "\n",
    "total_usuários = dados_demo[\"Login\"].count()# Total de usuários da base demográfica\n",
    "quantidade_vendas = base[\"Valor\"].count()# Quantidade de vendas realizadas\n",
    "media_vendas = base[\"Valor\"].mean()# Médidas das vendas realizadas\n",
    "total_vendas = base[\"Valor\"].sum()# Somatório das vendas realizadas\n",
    "\n",
    "# criar um dataframe para juntar todas as variáveis criadas \n",
    "vendas = pd.DataFrame({\"Numero Total de Usuários\":total_usuários,\n",
    "                      \"Quantidade de Vendas\":quantidade_vendas,\n",
    "                      \"Valor Médio de Vendas\": media_vendas,\n",
    "                      \"Total de vendas\":total_vendas},\n",
    "                       index= [\"Total\"])\n",
    "\n",
    "# ajustar formato dos numeros com função map (só funciona com pd)\n",
    "vendas[\"Numero Total de Usuários\"] = vendas[\"Numero Total de Usuários\"].map(\"{:,}\".format)\n",
    "vendas[\"Quantidade de Vendas\"] = vendas[\"Quantidade de Vendas\"].map(\"{:}\".format)\n",
    "vendas[\"Valor Médio de Vendas\"] = vendas[\"Valor Médio de Vendas\"].map(\"R$ {:,.2f}\".format)\n",
    "vendas[\"Total de vendas\"] = vendas[\"Total de vendas\"].map(\"R$ {:,.2f}\".format)\n",
    "\n",
    "display(vendas)"
   ]
  },
  {
   "attachments": {},
   "cell_type": "markdown",
   "metadata": {},
   "source": [
    "### EDA 2 - Análise Demográfica por Gênero\n",
    "\n",
    "* Porcentagem e contagem de compradores masculinos\n",
    "* Porcentagem e contagem de compradores do sexo feminino\n",
    "* Porcentagem e contagem de outros / não divulgados"
   ]
  },
  {
   "cell_type": "code",
   "execution_count": null,
   "metadata": {},
   "outputs": [],
   "source": [
    "# Localizar todas as linhas das colunas sexo e valor agrupa-las por sexo\n",
    "vendas_sexo = pd.DataFrame(base[[\"Sexo\",\"Valor\"]].groupby(\"Sexo\").count())\n",
    "#realizar a porcentagem da variável anterior\n",
    "vendas_sexo_por = pd.DataFrame(base[[\"Sexo\",\"Valor\"]].groupby(\"Sexo\").count()/total_vendas*100)\n",
    "#Realizar a média das vendas por gênero\n",
    "vendas_sexo_me = base.loc[:,[\"Sexo\",\"Valor\"]].groupby(\"Sexo\").mean()\n",
    "\n",
    "# Concatenar valores em um único Dataframe\n",
    "novas_vendas = pd.concat(\n",
    "                        [vendas_sexo,vendas_sexo_por,vendas_sexo_me], \n",
    "                        axis= 1, \n",
    "                        keys= [\"Total de Vendas\", \"Porcetagem das Vendas\", \"Media de vendas\"])\n",
    "# axis = 1 indica que o dataframe será concatenado em colunas\n",
    "# Keys para definir o nome dos títulos\n",
    "\n",
    "# Formatação dos valores\n",
    "# Todo ajuste de formatação dos valores\n",
    "# Todo: testar o assign para criar colunas personalizadas de Porcentagem e Média\n",
    "# Todo: Retirar Valor e Sexo do Dataframe\n",
    "# Todo: Alinhar o texto do dataframe # documentção\n",
    "\n",
    "display(novas_vendas)"
   ]
  },
  {
   "cell_type": "code",
   "execution_count": null,
   "metadata": {},
   "outputs": [],
   "source": [
    "# todo - colocar um for para fazer os gráficos de forma automática\n",
    "eg = [\"Feminino\",\"Masculino\",\"Outros/Não Divulgados\"]\n",
    "val = [133, 633, 11]\n",
    "\n",
    "fig, ax = plt.subplots()\n",
    "bar_colors = ['tab:red', 'tab:blue', 'tab:orange'] # colors\n",
    "bar_container = ax.bar(eg, val, color = bar_colors)\n",
    "ax.set(ylabel='Total de Vendas', title='Total por Gênero', ylim=(0, 700))\n",
    "ax.bar_label(bar_container, fmt='{:,.0f}')\n",
    "# todo - colocar a porcentagem no gráfico"
   ]
  },
  {
   "attachments": {},
   "cell_type": "markdown",
   "metadata": {},
   "source": [
    "### EDA 3 - Análise de Compras Por Gênero\n",
    "\n",
    "* Número de compras\n",
    "* Preço médio de compra\n",
    "* Valor Total de Compra\n",
    "* Compras for faixa etária"
   ]
  },
  {
   "cell_type": "code",
   "execution_count": null,
   "metadata": {},
   "outputs": [],
   "source": [
    "# Restringir a base de Dados para facilitar a análise\n",
    "base_genero = base[[\"Sexo\",\"Valor\"]]\n",
    "\n",
    "#agrupar valores por genero com o groupyby\n",
    "total_gen = base_genero.groupby(\"Sexo\").sum()\n",
    "total_qntd = base_genero.groupby(\"Sexo\").count()\n",
    "total_gen_media = base_genero.groupby(\"Sexo\").mean()\n",
    "total_gen_por = base_genero.groupby(\"Sexo\").sum()/ total_vendas*100\n",
    "\n",
    "# Concatenar todas as tabelas em um único Dataframe\n",
    "genero = pd.concat([total_gen,total_qntd,total_gen_media,total_gen_por], \n",
    "                   keys= [\"Total de Vendas por Gênero\", \"Quantidade de Vendas\", \"Media de Vendas\", \"Porcentagem\"], \n",
    "                   axis = 1)\n",
    "\n",
    "#genero.assign()\n",
    "# Todo: testar o assign para criar colunas personalizadas\n",
    "# Todo: Retirar Valor e Sexo do Dataframe\n",
    "# Todo: Alinhar o texto do dataframe\n",
    "\n",
    "display(genero)"
   ]
  },
  {
   "cell_type": "code",
   "execution_count": null,
   "metadata": {},
   "outputs": [],
   "source": [
    "# colocar um for para fazer 4 Plots\n",
    "\n",
    "# colocar algum plot com graficos\n",
    "v0 = total_gen.v\n",
    "#v1 =\n",
    "#v2 = \n",
    "\n",
    "data_p = {'Feminino': 10, 'Masculino': 15, 'Outro': 5}\n",
    "names = [\"Feminino\",\"Masculino\",\"Outro\"]\n",
    "#names = list(data_p.keys())\n",
    "values = list(data_p.values())\n",
    "\n",
    "fig, axs = plt.subplots(1, 3, figsize=(12, 4), sharey=True)\n",
    "axs[0].bar(names, v0) # Primeiro eixo do Plot\n",
    "\n",
    "axs[1].scatter(names, values) # segundo eixo do plot\n",
    "\n",
    "axs[2].plot(names, values) # terceito eixo do plot\n",
    "\n",
    "fig.suptitle('Vendas por Gênero') # Título do Plot\n"
   ]
  },
  {
   "cell_type": "code",
   "execution_count": null,
   "metadata": {},
   "outputs": [],
   "source": [
    "# Plot # FInalizar configuração\n",
    "# data from https://allisonhorst.github.io/palmerpenguins/\n",
    "\n",
    "leg = (\"Total de Vendas por Gênero\", \"Quantidade de Vendas\", \"Media de Vendas\")\n",
    "legdata = {\n",
    "    'Masculino': (1867.68,633,2.95),\n",
    "    'Feminino': (382.91,136,2.81),\n",
    "    'Outro / Não Divulgado': (35.74,11,3.24),\n",
    "}\n",
    "\n",
    "x = np.arange(len(leg))  # local das legendas\n",
    "width = 0.25  # tamanho das barras\n",
    "multiplier = 0\n",
    "\n",
    "fig, ax = plt.subplots(layout='constrained')\n",
    "\n",
    "for attribute, measurement in legdata.items():\n",
    "    offset = width * multiplier\n",
    "    rects = ax.bar(x + offset, measurement, width, label=attribute)\n",
    "    ax.bar_label(rects, padding=3)\n",
    "    multiplier += 1\n",
    "    \n",
    "\n",
    "# Add some text for labels, title and custom x-axis tick labels, etc.\n",
    "# ax.set_ylabel('valor')\n",
    "ax.set_title('Vendas por Gênero') # Tìtulo do Gráfico\n",
    "ax.set_xticks(x + width, leg)\n",
    "ax.legend(loc='upper left', ncols=3)\n",
    "ax.set_ylim(0, 2200) # faixa do eixo y do valor\n",
    "\n",
    "plt.show()"
   ]
  },
  {
   "cell_type": "code",
   "execution_count": null,
   "metadata": {},
   "outputs": [],
   "source": [
    "# adicionando nova coluna para criar grupo de idades\n",
    "base['Faixa Idade'] = np.where((base['Idade'] > 1) & (base['Idade'] <= 20), \"1-20\",\n",
    "                np.where((base['Idade'] > 20) & (base['Idade'] <= 40), \"21-40\",\n",
    "                np.where((base['Idade'] > 40) & (base['Idade'] <= 60), \"41-60\",\n",
    "                np.where((base['Idade'] > 60) & (base['Idade'] <= 80), \"61-80\",\n",
    "                np.where((base['Idade'] > 80) & (base['Idade'] <= 100), \"80-100\", \"Acima de 100\")))))"
   ]
  },
  {
   "cell_type": "code",
   "execution_count": null,
   "metadata": {},
   "outputs": [],
   "source": [
    "# Plot das idades\n",
    "base_idade = base[[\"Faixa Idade\",\"Valor\"]]\n",
    "\n",
    "total_id = base_idade.groupby(\"Faixa Idade\").sum();\n",
    "total_qntd_id = base_idade.groupby(\"Faixa Idade\").count()\n",
    "total_gen_media_id = base_idade.groupby(\"Faixa Idade\").mean()\n",
    "total_gen_id = base_idade.groupby(\"Faixa Idade\").sum()/ total_vendas*100\n",
    "\n",
    "idade = pd.concat([total_id,total_qntd_id,total_gen_media_id,total_gen_id], \n",
    "                   keys= [\"Total de Vendas por Faixa Etária\", \"Quantidade de Vendas\", \"Media de Vendas\", \"Porcentagem\"], \n",
    "                   axis = 1)\n",
    "\n",
    "display(idade)"
   ]
  },
  {
   "attachments": {},
   "cell_type": "markdown",
   "metadata": {},
   "source": [
    "#### EDA 5 -  Consumidores Mais Populares (Top 5)\n",
    "### Identifique os 5 principais compradores pelo valor total de compra e, em seguida, liste (em uma tabela): **\n",
    "\n",
    "* Login\n",
    "* Número de compras\n",
    "* Preço médio de compra\n",
    "* Valor Total de Compra\n",
    "* Itens mais populares"
   ]
  },
  {
   "cell_type": "code",
   "execution_count": null,
   "metadata": {},
   "outputs": [],
   "source": [
    "# Restringir a base de Dados para facilitar a análise\n",
    "base_consumidores = base[[\"Login\",\"Valor\",\"Nome do Item\"]]\n",
    "\n",
    "# Agrupar o total de vendas realizado por cada consumidor, ordenandos na ordem decresente do valor total de vendas\n",
    "top5_tot = pd.DataFrame(base_consumidores.groupby(\"Login\").sum(\"Valor\")).sort_values(by = \"Valor\", ascending= False)\n",
    "top5_cont = pd.DataFrame(base_consumidores.groupby(\"Login\")[\"Valor\"].count())\n",
    "top5_med = pd.DataFrame(base_consumidores.groupby(\"Login\").mean(\"Valor\"))\n",
    "top5_item = pd.DataFrame(base_consumidores.groupby(\"Nome do Item\")[\"Login\"]) # verificar o index a ser colocado\n",
    "\n",
    "comp5 = pd.concat([top5_tot,top5_cont,top5_med,top5_item],axis = 1, keys=  [\"Valor Total\", \"Numero de Compras\", \"Preço Médio de Compra\",\"Item mais Comprado\"])\n",
    "\n",
    "display(comp5.head(5))\n"
   ]
  },
  {
   "cell_type": "code",
   "execution_count": null,
   "metadata": {},
   "outputs": [],
   "source": [
    "# Plot"
   ]
  },
  {
   "attachments": {},
   "cell_type": "markdown",
   "metadata": {},
   "source": [
    "### EDA 6 - Itens Mais Populares\n",
    "### Identifique os 5 itens mais populares por contagem de compras e, em seguida, liste (em uma tabela):\n",
    "\n",
    "* ID do item\n",
    "* Nome do item\n",
    "* Número de compras\n",
    "* Preço do item\n",
    "* Valor Total de Compra\n",
    "* Itens mais lucrativos"
   ]
  },
  {
   "cell_type": "code",
   "execution_count": null,
   "metadata": {},
   "outputs": [],
   "source": [
    "# Restringir a base de Dados para facilitar a análise\n",
    "base_consumidores = base[[\"Item ID\",\"Nome do Item\",\"Valor\"]]\n",
    "\n",
    "# Agrupar oos items pelo ID e pelo total de vednas realizada\n",
    "item5_tot = pd.DataFrame(base_consumidores.groupby(\"Item ID\").sum(\"Valor\")).sort_values(by = \"Valor\", ascending= False)\n",
    "item5_cont = pd.DataFrame(base_consumidores.groupby(\"Item ID\")[\"Valor\"].count())\n",
    "item5_med = pd.DataFrame(base_consumidores.groupby(\"Item ID\").mean(\"Valor\"))\n",
    "item5_item = pd.DataFrame(base_consumidores.groupby(\"Item ID\")[\"Nome do Item\"]) # verificar o index a ser colocado\n",
    "\n",
    "item5 = pd.concat([item5_tot,item5_cont,item5_med,item5_item],axis = 1, keys=[\"Valor Total\", \"Numero de Compras\", \"Preço Médio de Compra\",\"Item mais Comprado\"])\n",
    "\n",
    "display(item5.head(5))"
   ]
  },
  {
   "attachments": {},
   "cell_type": "markdown",
   "metadata": {},
   "source": [
    "### EDA 7 - Itens Mais Lucrativos\n",
    "### Identifique os 5 itens mais lucrativos pelo valor total de compra e, em seguida, liste (em uma tabela): **\n",
    "\n",
    "* ID do item\n",
    "* Nome do item\n",
    "* Número de compras\n",
    "* Preço do item\n",
    "* Valor Total de Compra"
   ]
  },
  {
   "cell_type": "markdown",
   "metadata": {},
   "source": [
    "ML 1 - Engenharia de Atributo"
   ]
  }
 ],
 "metadata": {
  "kernelspec": {
   "display_name": "Python 3",
   "language": "python",
   "name": "python3"
  },
  "language_info": {
   "codemirror_mode": {
    "name": "ipython",
    "version": 3
   },
   "file_extension": ".py",
   "mimetype": "text/x-python",
   "name": "python",
   "nbconvert_exporter": "python",
   "pygments_lexer": "ipython3",
   "version": "3.10.4"
  },
  "vscode": {
   "interpreter": {
    "hash": "3ad933181bd8a04b432d3370b9dc3b0662ad032c4dfaa4e4f1596c548f763858"
   }
  }
 },
 "nbformat": 4,
 "nbformat_minor": 2
}
