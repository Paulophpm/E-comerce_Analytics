{
 "cells": [
  {
   "attachments": {},
   "cell_type": "markdown",
   "metadata": {},
   "source": [
    "\n",
    "** Análise Geral de Compras **\n",
    "\n",
    "* Número total de consumidores\n",
    "* Preço médio de compra\n",
    "* Número total de compras\n",
    "* Rendimento total\n",
    "\n",
    "\n",
    "** Informações Demográficas Por Gênero **\n",
    "\n",
    "* Porcentagem e contagem de compradores masculinos\n",
    "* Porcentagem e contagem de compradores do sexo feminino\n",
    "* Porcentagem e contagem de outros / não divulgados\n",
    "\n",
    "\n",
    "** Análise de Compras Por Gênero **\n",
    "\n",
    "* Número de compras\n",
    "* Preço médio de compra\n",
    "* Valor Total de Compra\n",
    "* Compras for faixa etária\n",
    "\n",
    "\n",
    "** Identifique os 5 principais compradores pelo valor total de compra e, em seguida, liste (em uma tabela): **\n",
    "\n",
    "* Login\n",
    "* Número de compras\n",
    "* Preço médio de compra\n",
    "* Valor Total de Compra\n",
    "* Itens mais populares\n",
    "\n",
    "\n",
    "** Identifique os 5 itens mais populares por contagem de compras e, em seguida, liste (em uma tabela): **\n",
    "\n",
    "* ID do item\n",
    "* Nome do item\n",
    "* Número de compras\n",
    "* Preço do item\n",
    "* Valor Total de Compra\n",
    "* Itens mais lucrativos\n",
    "\n",
    "\n",
    "** Identifique os 5 itens mais lucrativos pelo valor total de compra e, em seguida, liste (em uma tabela): **\n",
    "\n",
    "* ID do item\n",
    "* Nome do item\n",
    "* Número de compras\n",
    "* Preço do item\n",
    "* Valor Total de Compra"
   ]
  },
  {
   "cell_type": "code",
   "execution_count": null,
   "metadata": {},
   "outputs": [],
   "source": [
    "# Importação dos pacotes python\n",
    "import pandas as pd\n",
    "import matplotlib.pyplot as mlp\n",
    "import numpy as np"
   ]
  },
  {
   "cell_type": "markdown",
   "metadata": {},
   "source": []
  },
  {
   "cell_type": "code",
   "execution_count": null,
   "metadata": {},
   "outputs": [],
   "source": [
    "# Carregando o arquivo\n",
    "arquivo = \"dados_compras.json\"\n",
    "base = pd.read_json(arquivo, orient = \"records\")\n",
    "base.head()# retorna as 5 primeiras linhas da base de dados"
   ]
  },
  {
   "attachments": {},
   "cell_type": "markdown",
   "metadata": {},
   "source": [
    "## Análise Geral de Compras"
   ]
  },
  {
   "cell_type": "code",
   "execution_count": null,
   "metadata": {},
   "outputs": [],
   "source": [
    "#localizar se nos dados há mais de uma venda por consumidor\n",
    "dados_demo = base.loc[:,[\"Login\",\"Sexo\",\"Valor\"]] #retornar todas as linhas das colunas selecionadas\n",
    "dados_demo = dados_demo.drop_duplicates(\"Login\")#retira todas os usuário que tiveram mais de uma compra"
   ]
  },
  {
   "cell_type": "code",
   "execution_count": null,
   "metadata": {},
   "outputs": [],
   "source": [
    "total_usuários = dados_demo[\"Login\"].count()# Total de usuários da base demográfica\n",
    "quantidade_vendas = base[\"Valor\"].count()# Quantidade de vendas realizadas\n",
    "media_vendas = base[\"Valor\"].mean()# Médidas das vendas realizadas\n",
    "total_vendas = base[\"Valor\"].sum()# Somatório das vendas realizadas\n",
    "\n",
    "#criar um dataframe para juntar todas as variáveis criadas \n",
    "vendas = pd.DataFrame({\"Numero Total de Usuários\":total_usuários,\n",
    "                      \"Quantidade de Vendas\":quantidade_vendas,\n",
    "                      \"Valor Médio de Vendas\": [media_vendas],# valor escalar entre []\n",
    "                      \"Total de vendas\":total_vendas},\n",
    "                       index= [\"Total\"])\n",
    "\n",
    "#ajustar formato dos numeros com função map\n",
    "vendas[\"Numero Total de Usuários\"] = vendas[\"Numero Total de Usuários\"].map(\"{:,}\".format)\n",
    "vendas[\"Quantidade de Vendas\"] = vendas[\"Quantidade de Vendas\"].map(\"{:}\".format)\n",
    "vendas[\"Valor Médio de Vendas\"] = vendas[\"Valor Médio de Vendas\"].map(\"R$ {:,.2f}\".format)\n",
    "vendas[\"Total de vendas\"] = vendas[\"Total de vendas\"].map(\"R$ {:,.2f}\".format)\n",
    "\n",
    "display(vendas)#display apresenta os dados em formato de tabela\n",
    "#todo - Alinhar texto do dataframe"
   ]
  },
  {
   "attachments": {},
   "cell_type": "markdown",
   "metadata": {},
   "source": [
    "## Análise Demográfica por Gênero"
   ]
  },
  {
   "cell_type": "code",
   "execution_count": null,
   "metadata": {},
   "outputs": [],
   "source": [
    "#Localizar todas as linhas das colunas sexo e valor agrupa-las por sexo\n",
    "vendas_sexo = pd.DataFrame(base.loc[:,[\"Sexo\",\"Valor\"]].groupby(\"Sexo\").count())\n",
    "#realizar a porcentagem da variável anterior\n",
    "vendas_sexo_por = pd.DataFrame(base.loc[:,[\"Sexo\",\"Valor\"]].groupby(\"Sexo\").count()/total_vendas*100)\n",
    "#Realizar a média das vendas por gênero\n",
    "vendas_sexo = base.loc[:,[\"Sexo\",\"Valor\"]].groupby(\"Sexo\").mean()\n",
    "\n",
    "analise = pd.concat([vendas_sexo,vendas_sexo_por], axis= 0, ignore_index= True)\n",
    "\n",
    "display(analise)\n",
    "#todo como colocar dois group by em um dataframe\n",
    "#Todo ajuste de formatação dos valores"
   ]
  },
  {
   "cell_type": "code",
   "execution_count": null,
   "metadata": {},
   "outputs": [],
   "source": [
    "# Criar dois dataframes exemplo\n",
    "df1 = pd.DataFrame({'coluna1': ['A', 'B', 'C'], 'valor1': [1, 2, 3]})\n",
    "df2 = pd.DataFrame({'coluna1': ['D', 'E', 'F'], 'valor2': [4, 5, 6]})\n",
    "\n",
    "# Concatenar os dois dataframes verticalmente\n",
    "result = pd.concat([df1, df2], axis=0, ignore_index=True)\n",
    "#result = pd.merge(df1, df2, on='coluna1')\n",
    "\n",
    "display(result)"
   ]
  },
  {
   "cell_type": "code",
   "execution_count": null,
   "metadata": {},
   "outputs": [],
   "source": [
    "#contagem de compradores\n",
    "total_masc = len(base.loc[base[\"Sexo\"] == \"Masculino\"])\n",
    "total_fem = len(base.loc[base[\"Sexo\"] == \"Feminino\"])\n",
    "total_outro = len(base.loc[base[\"Sexo\"] == \"Outro / Não Divulgado\"])\n",
    "\n",
    "#% de cada gênero\n",
    "por_masc = (total_masc / (base[\"Sexo\"].count()))*100\n",
    "por_fem = (total_fem / (base[\"Sexo\"].count()))*100\n",
    "por_outros = (total_outro / (base[\"Sexo\"].count()))*100\n",
    "\n",
    "#Dataframe\n",
    "sexo = pd.DataFrame({ \n",
    "                    \"Total\":[total_masc,total_fem,total_outro],\n",
    "                    \"%\":[por_masc,por_fem,por_outros]},\n",
    "                    index= [\"Masculino\",\"Feminino\", \"Outros / Não Divulgado\"])\n",
    "\n",
    "#Formatação de Números usando a função map reduce\n",
    "sexo[\"%\"] = sexo[\"%\"].map(\"{:,.2f}\".format)\n",
    "#Todo: alinhar texto do Dataframe\n",
    "\n",
    "#Display\n",
    "display(sexo)"
   ]
  },
  {
   "cell_type": "code",
   "execution_count": null,
   "metadata": {},
   "outputs": [],
   "source": [
    "#Tipo de plot\n",
    "fig, ax = mlp.subplots()\n",
    "\n",
    "#dados do plot\n",
    "gen = ['Masculino','Feminino','Outro / Não Divulgado']\n",
    "counts = sexo[\"Total\"]\n",
    "bar_colors = ['tab:red', 'tab:blue','tab:orange']\n",
    "\n",
    "#eixo x\n",
    "ax.bar(gen, counts, color=bar_colors)\n",
    "\n",
    "#eixo y\n",
    "ax.set_ylabel('Qntd')\n",
    "\n",
    "#título\n",
    "ax.set_title('Qntd por Gênero')\n",
    "\n",
    "#show\n",
    "mlp.show()"
   ]
  },
  {
   "cell_type": "code",
   "execution_count": null,
   "metadata": {},
   "outputs": [],
   "source": [
    "#plot das porcentagens\n",
    "\n",
    "labels = 'Masculino', 'Feminino', 'Outros / Não Divulgado'\n",
    "sizes = sexo[\"Total\"]\n",
    "explode = (0.2, 0.1, 0.1)  \n",
    "\n",
    "fig1, ax1 = mlp.subplots()\n",
    "ax1.pie(sizes, explode=explode, labels=labels, autopct='%1.1f%%',\n",
    "        shadow=True, startangle=90)\n",
    "ax1.axis('equal')  # Equal aspect ratio ensures that pie is drawn as a circle.\n",
    "\n",
    "mlp.show()"
   ]
  },
  {
   "cell_type": "markdown",
   "metadata": {},
   "source": [
    "## Análise de Compras Por Gênero"
   ]
  },
  {
   "cell_type": "code",
   "execution_count": null,
   "metadata": {},
   "outputs": [],
   "source": [
    "# Análise de compras por gênero\n",
    "base_gen = base.loc[:,[\"Sexo\",\"Valor\"]]\n",
    "display(base_gen)"
   ]
  },
  {
   "cell_type": "code",
   "execution_count": null,
   "metadata": {},
   "outputs": [],
   "source": [
    "#agrupar valores por genero com o groupyby\n",
    "total_gen = base_gen.groupby(\"Sexo\").sum()\n",
    "total_me = base_gen.groupby(\"Sexo\").mean()\n",
    "total_ = base_gen.groupby(\"Sexo\").sum()/ total_vendas*100\n",
    "\n",
    "display(total_me)"
   ]
  },
  {
   "cell_type": "markdown",
   "metadata": {},
   "source": [
    "## Consumidores Mais Populares (Top 5)"
   ]
  },
  {
   "cell_type": "code",
   "execution_count": null,
   "metadata": {},
   "outputs": [],
   "source": [
    "# Implemente aqui sua solução"
   ]
  },
  {
   "cell_type": "markdown",
   "metadata": {},
   "source": [
    "## Itens Mais Populares"
   ]
  },
  {
   "cell_type": "code",
   "execution_count": null,
   "metadata": {},
   "outputs": [],
   "source": [
    "# Implemente aqui sua solução"
   ]
  },
  {
   "cell_type": "markdown",
   "metadata": {},
   "source": [
    "## Itens Mais Lucrativos"
   ]
  },
  {
   "cell_type": "code",
   "execution_count": null,
   "metadata": {},
   "outputs": [],
   "source": [
    "# Implemente aqui sua solução"
   ]
  }
 ],
 "metadata": {
  "kernelspec": {
   "display_name": "base",
   "language": "python",
   "name": "python3"
  },
  "language_info": {
   "codemirror_mode": {
    "name": "ipython",
    "version": 3
   },
   "file_extension": ".py",
   "mimetype": "text/x-python",
   "name": "python",
   "nbconvert_exporter": "python",
   "pygments_lexer": "ipython3",
   "version": "3.9.12"
  },
  "vscode": {
   "interpreter": {
    "hash": "fb8bbe35ce05a967cc1765cb51a1a815dfdecdfebe5b24f692427b5b8ca49088"
   }
  }
 },
 "nbformat": 4,
 "nbformat_minor": 2
}
