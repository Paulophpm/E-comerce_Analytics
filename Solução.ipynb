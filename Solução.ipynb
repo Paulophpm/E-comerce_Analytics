{
 "cells": [
  {
   "cell_type": "code",
   "execution_count": 1,
   "metadata": {},
   "outputs": [],
   "source": [
    "# Importação dos pacotes python\n",
    "import pandas as pd\n",
    "import matplotlib.pyplot as mlp"
   ]
  },
  {
   "cell_type": "code",
   "execution_count": 2,
   "metadata": {},
   "outputs": [],
   "source": [
    "#Carregando o arquivo\n",
    "arquivo = \"Dados/dados_compras.json\"\n",
    "base = pd.read_json(arquivo, orient = \"records\")"
   ]
  },
  {
   "attachments": {},
   "cell_type": "markdown",
   "metadata": {},
   "source": [
    "### EDA 1 - Análise Geral de Compras\n",
    "\n",
    "* Número total de consumidores\n",
    "* Preço médio de compra\n",
    "* Número total de compras\n",
    "* Rendimento total"
   ]
  },
  {
   "cell_type": "code",
   "execution_count": 3,
   "metadata": {},
   "outputs": [],
   "source": [
    "# Restringir a base de Dados para facilitar a análise\n",
    "dados_demo = base.loc[:,[\"Login\",\"Sexo\",\"Valor\"]] #retornar todas as linhas das colunas selecionadas\n",
    "dados_demo = dados_demo.drop_duplicates(\"Login\")#retira todas os usuário que tiveram mais de uma compra"
   ]
  },
  {
   "cell_type": "code",
   "execution_count": 4,
   "metadata": {},
   "outputs": [
    {
     "data": {
      "text/html": [
       "<div>\n",
       "<style scoped>\n",
       "    .dataframe tbody tr th:only-of-type {\n",
       "        vertical-align: middle;\n",
       "    }\n",
       "\n",
       "    .dataframe tbody tr th {\n",
       "        vertical-align: top;\n",
       "    }\n",
       "\n",
       "    .dataframe thead th {\n",
       "        text-align: right;\n",
       "    }\n",
       "</style>\n",
       "<table border=\"1\" class=\"dataframe\">\n",
       "  <thead>\n",
       "    <tr style=\"text-align: right;\">\n",
       "      <th></th>\n",
       "      <th>Numero Total de Usuários</th>\n",
       "      <th>Quantidade de Vendas</th>\n",
       "      <th>Valor Médio de Vendas</th>\n",
       "      <th>Total de vendas</th>\n",
       "    </tr>\n",
       "  </thead>\n",
       "  <tbody>\n",
       "    <tr>\n",
       "      <th>Total</th>\n",
       "      <td>573</td>\n",
       "      <td>780</td>\n",
       "      <td>R$ 2.93</td>\n",
       "      <td>R$ 2,286.33</td>\n",
       "    </tr>\n",
       "  </tbody>\n",
       "</table>\n",
       "</div>"
      ],
      "text/plain": [
       "      Numero Total de Usuários Quantidade de Vendas Valor Médio de Vendas  \\\n",
       "Total                      573                  780               R$ 2.93   \n",
       "\n",
       "      Total de vendas  \n",
       "Total     R$ 2,286.33  "
      ]
     },
     "metadata": {},
     "output_type": "display_data"
    }
   ],
   "source": [
    "total_usuários = dados_demo[\"Login\"].count()# Total de usuários da base demográfica\n",
    "quantidade_vendas = base[\"Valor\"].count()# Quantidade de vendas realizadas\n",
    "media_vendas = base[\"Valor\"].mean()# Médidas das vendas realizadas\n",
    "total_vendas = base[\"Valor\"].sum()# Somatório das vendas realizadas\n",
    "\n",
    "#criar um dataframe para juntar todas as variáveis criadas \n",
    "vendas = pd.DataFrame({\"Numero Total de Usuários\":total_usuários,\n",
    "                      \"Quantidade de Vendas\":quantidade_vendas,\n",
    "                      \"Valor Médio de Vendas\": media_vendas,\n",
    "                      \"Total de vendas\":total_vendas},\n",
    "                       index= [\"Total\"])\n",
    "\n",
    "#ajustar formato dos numeros com função map (só funciona com pd)\n",
    "vendas[\"Numero Total de Usuários\"] = vendas[\"Numero Total de Usuários\"].map(\"{:,}\".format)\n",
    "vendas[\"Quantidade de Vendas\"] = vendas[\"Quantidade de Vendas\"].map(\"{:}\".format)\n",
    "vendas[\"Valor Médio de Vendas\"] = vendas[\"Valor Médio de Vendas\"].map(\"R$ {:,.2f}\".format)\n",
    "vendas[\"Total de vendas\"] = vendas[\"Total de vendas\"].map(\"R$ {:,.2f}\".format)\n",
    "\n",
    "display(vendas)#display apresenta os dados em formato de tabela\n",
    "#todo - Alinhar texto do dataframe"
   ]
  },
  {
   "attachments": {},
   "cell_type": "markdown",
   "metadata": {},
   "source": [
    "### EDA 2 - Análise Demográfica por Gênero\n",
    "\n",
    "* Porcentagem e contagem de compradores masculinos\n",
    "* Porcentagem e contagem de compradores do sexo feminino\n",
    "* Porcentagem e contagem de outros / não divulgados"
   ]
  },
  {
   "cell_type": "code",
   "execution_count": 5,
   "metadata": {},
   "outputs": [
    {
     "data": {
      "text/html": [
       "<div>\n",
       "<style scoped>\n",
       "    .dataframe tbody tr th:only-of-type {\n",
       "        vertical-align: middle;\n",
       "    }\n",
       "\n",
       "    .dataframe tbody tr th {\n",
       "        vertical-align: top;\n",
       "    }\n",
       "\n",
       "    .dataframe thead tr th {\n",
       "        text-align: left;\n",
       "    }\n",
       "\n",
       "    .dataframe thead tr:last-of-type th {\n",
       "        text-align: right;\n",
       "    }\n",
       "</style>\n",
       "<table border=\"1\" class=\"dataframe\">\n",
       "  <thead>\n",
       "    <tr>\n",
       "      <th></th>\n",
       "      <th>Total de Vendas</th>\n",
       "      <th>Porcetagem das Vendas</th>\n",
       "      <th>Media de vendas</th>\n",
       "    </tr>\n",
       "    <tr>\n",
       "      <th></th>\n",
       "      <th>Valor</th>\n",
       "      <th>Valor</th>\n",
       "      <th>Valor</th>\n",
       "    </tr>\n",
       "    <tr>\n",
       "      <th>Sexo</th>\n",
       "      <th></th>\n",
       "      <th></th>\n",
       "      <th></th>\n",
       "    </tr>\n",
       "  </thead>\n",
       "  <tbody>\n",
       "    <tr>\n",
       "      <th>Feminino</th>\n",
       "      <td>136</td>\n",
       "      <td>5.948398</td>\n",
       "      <td>2.815515</td>\n",
       "    </tr>\n",
       "    <tr>\n",
       "      <th>Masculino</th>\n",
       "      <td>633</td>\n",
       "      <td>27.686292</td>\n",
       "      <td>2.950521</td>\n",
       "    </tr>\n",
       "    <tr>\n",
       "      <th>Outro / Não Divulgado</th>\n",
       "      <td>11</td>\n",
       "      <td>0.481120</td>\n",
       "      <td>3.249091</td>\n",
       "    </tr>\n",
       "  </tbody>\n",
       "</table>\n",
       "</div>"
      ],
      "text/plain": [
       "                      Total de Vendas Porcetagem das Vendas Media de vendas\n",
       "                                Valor                 Valor           Valor\n",
       "Sexo                                                                       \n",
       "Feminino                          136              5.948398        2.815515\n",
       "Masculino                         633             27.686292        2.950521\n",
       "Outro / Não Divulgado              11              0.481120        3.249091"
      ]
     },
     "metadata": {},
     "output_type": "display_data"
    }
   ],
   "source": [
    "# Localizar todas as linhas das colunas sexo e valor agrupa-las por sexo\n",
    "vendas_sexo = pd.DataFrame(base.loc[:,[\"Sexo\",\"Valor\"]].groupby(\"Sexo\").count())\n",
    "#realizar a porcentagem da variável anterior\n",
    "vendas_sexo_por = pd.DataFrame(base.loc[:,[\"Sexo\",\"Valor\"]].groupby(\"Sexo\").count()/total_vendas*100)\n",
    "#Realizar a média das vendas por gênero\n",
    "vendas_sexo_me = base.loc[:,[\"Sexo\",\"Valor\"]].groupby(\"Sexo\").mean()\n",
    "\n",
    "# Concatenar valores em um único Dataframe\n",
    "novas_vendas = pd.concat(\n",
    "                        [vendas_sexo,vendas_sexo_por,vendas_sexo_me], \n",
    "                        axis= 1, \n",
    "                        keys= [\"Total de Vendas\", \"Porcetagem das Vendas\", \"Media de vendas\"])\n",
    "# axis = 1 indica que o dataframe será concatenado em colunas\n",
    "# Keys para definir o nome dos títulos\n",
    "\n",
    "# Formatação dos valores\n",
    "# Todo ajuste de formatação dos valores\n",
    "# Todo: testar o assign para criar colunas personalizadas de Porcentagem e Média\n",
    "# Todo: Retirar Valor e Sexo do Dataframe\n",
    "# Todo: Alinhar o texto do dataframe\n",
    "\n",
    "display(novas_vendas)\n"
   ]
  },
  {
   "attachments": {},
   "cell_type": "markdown",
   "metadata": {},
   "source": [
    "### EDA 3 - Análise de Compras Por Gênero\n",
    "\n",
    "* Número de compras\n",
    "* Preço médio de compra\n",
    "* Valor Total de Compra\n",
    "* Compras for faixa etária"
   ]
  },
  {
   "cell_type": "code",
   "execution_count": 12,
   "metadata": {},
   "outputs": [
    {
     "data": {
      "text/html": [
       "<div>\n",
       "<style scoped>\n",
       "    .dataframe tbody tr th:only-of-type {\n",
       "        vertical-align: middle;\n",
       "    }\n",
       "\n",
       "    .dataframe tbody tr th {\n",
       "        vertical-align: top;\n",
       "    }\n",
       "\n",
       "    .dataframe thead tr th {\n",
       "        text-align: left;\n",
       "    }\n",
       "\n",
       "    .dataframe thead tr:last-of-type th {\n",
       "        text-align: right;\n",
       "    }\n",
       "</style>\n",
       "<table border=\"1\" class=\"dataframe\">\n",
       "  <thead>\n",
       "    <tr>\n",
       "      <th></th>\n",
       "      <th>Total de Vendas por Gênero</th>\n",
       "      <th>Quantidade de Vendas</th>\n",
       "      <th>Media de Vendas</th>\n",
       "      <th>Porcentagem</th>\n",
       "    </tr>\n",
       "    <tr>\n",
       "      <th></th>\n",
       "      <th>Valor</th>\n",
       "      <th>Valor</th>\n",
       "      <th>Valor</th>\n",
       "      <th>Valor</th>\n",
       "    </tr>\n",
       "    <tr>\n",
       "      <th>Sexo</th>\n",
       "      <th></th>\n",
       "      <th></th>\n",
       "      <th></th>\n",
       "      <th></th>\n",
       "    </tr>\n",
       "  </thead>\n",
       "  <tbody>\n",
       "    <tr>\n",
       "      <th>Feminino</th>\n",
       "      <td>382.91</td>\n",
       "      <td>136</td>\n",
       "      <td>2.815515</td>\n",
       "      <td>16.747801</td>\n",
       "    </tr>\n",
       "    <tr>\n",
       "      <th>Masculino</th>\n",
       "      <td>1867.68</td>\n",
       "      <td>633</td>\n",
       "      <td>2.950521</td>\n",
       "      <td>81.688995</td>\n",
       "    </tr>\n",
       "    <tr>\n",
       "      <th>Outro / Não Divulgado</th>\n",
       "      <td>35.74</td>\n",
       "      <td>11</td>\n",
       "      <td>3.249091</td>\n",
       "      <td>1.563204</td>\n",
       "    </tr>\n",
       "  </tbody>\n",
       "</table>\n",
       "</div>"
      ],
      "text/plain": [
       "                      Total de Vendas por Gênero Quantidade de Vendas  \\\n",
       "                                           Valor                Valor   \n",
       "Sexo                                                                    \n",
       "Feminino                                  382.91                  136   \n",
       "Masculino                                1867.68                  633   \n",
       "Outro / Não Divulgado                      35.74                   11   \n",
       "\n",
       "                      Media de Vendas Porcentagem  \n",
       "                                Valor       Valor  \n",
       "Sexo                                               \n",
       "Feminino                     2.815515   16.747801  \n",
       "Masculino                    2.950521   81.688995  \n",
       "Outro / Não Divulgado        3.249091    1.563204  "
      ]
     },
     "metadata": {},
     "output_type": "display_data"
    }
   ],
   "source": [
    "# Restringir a base de Dados para facilitar a análise\n",
    "base_genero = base.loc[:,[\"Sexo\",\"Valor\"]]\n",
    "\n",
    "#agrupar valores por genero com o groupyby\n",
    "total_gen = base_genero.groupby(\"Sexo\").sum()\n",
    "total_qntd = base_genero.groupby(\"Sexo\").count()\n",
    "total_gen_media = base_genero.groupby(\"Sexo\").mean()\n",
    "total_gen_por = base_genero.groupby(\"Sexo\").sum()/ total_vendas*100\n",
    "\n",
    "# Concatenar todas as tabelas em um único Dataframe\n",
    "genero = pd.concat([total_gen,total_qntd,total_gen_media,total_gen_por], \n",
    "                   keys= [\"Total de Vendas por Gênero\", \"Quantidade de Vendas\", \"Media de Vendas\", \"Porcentagem\"], \n",
    "                   axis = 1)\n",
    "\n",
    "#genero.assign()\n",
    "# Todo: testar o assign para criar colunas personalizadas\n",
    "# Todo: Retirar Valor e Sexo do Dataframe\n",
    "# Todo: Alinhar o texto do dataframe\n",
    "\n",
    "display(genero)"
   ]
  },
  {
   "cell_type": "code",
   "execution_count": 14,
   "metadata": {
    "tags": []
   },
   "outputs": [
    {
     "ename": "ValueError",
     "evalue": "Input array must be 1 dimensional",
     "output_type": "error",
     "traceback": [
      "\u001b[0;31m---------------------------------------------------------------------------\u001b[0m",
      "\u001b[0;31mValueError\u001b[0m                                Traceback (most recent call last)",
      "Cell \u001b[0;32mIn[14], line 11\u001b[0m\n\u001b[1;32m      8\u001b[0m faixa_idade \u001b[39m=\u001b[39m [\u001b[39m\"\u001b[39m\u001b[39m1-20\u001b[39m\u001b[39m\"\u001b[39m,\u001b[39m\"\u001b[39m\u001b[39m21-40\u001b[39m\u001b[39m\"\u001b[39m,\u001b[39m\"\u001b[39m\u001b[39m41-60\u001b[39m\u001b[39m\"\u001b[39m,\u001b[39m\"\u001b[39m\u001b[39m61-80\u001b[39m\u001b[39m\"\u001b[39m]\n\u001b[1;32m     10\u001b[0m \u001b[39m# Agrupar a soma dos valores de idade\u001b[39;00m\n\u001b[0;32m---> 11\u001b[0m base_idade[\u001b[39m\"\u001b[39m\u001b[39mFaixa de Idade\u001b[39m\u001b[39m\"\u001b[39m] \u001b[39m=\u001b[39m pd\u001b[39m.\u001b[39;49mcut(base_idade,\n\u001b[1;32m     12\u001b[0m                                         id1,\n\u001b[1;32m     13\u001b[0m                                         labels \u001b[39m=\u001b[39;49m faixa_idade,\n\u001b[1;32m     14\u001b[0m                                         right \u001b[39m=\u001b[39;49m \u001b[39mFalse\u001b[39;49;00m)\n\u001b[1;32m     15\u001b[0m display(base_idade)\n",
      "File \u001b[0;32m~/.local/lib/python3.10/site-packages/pandas/core/reshape/tile.py:242\u001b[0m, in \u001b[0;36mcut\u001b[0;34m(x, bins, right, labels, retbins, precision, include_lowest, duplicates, ordered)\u001b[0m\n\u001b[1;32m    239\u001b[0m \u001b[39m# NOTE: this binning code is changed a bit from histogram for var(x) == 0\u001b[39;00m\n\u001b[1;32m    241\u001b[0m original \u001b[39m=\u001b[39m x\n\u001b[0;32m--> 242\u001b[0m x \u001b[39m=\u001b[39m _preprocess_for_cut(x)\n\u001b[1;32m    243\u001b[0m x, dtype \u001b[39m=\u001b[39m _coerce_to_type(x)\n\u001b[1;32m    245\u001b[0m \u001b[39mif\u001b[39;00m \u001b[39mnot\u001b[39;00m np\u001b[39m.\u001b[39miterable(bins):\n",
      "File \u001b[0;32m~/.local/lib/python3.10/site-packages/pandas/core/reshape/tile.py:602\u001b[0m, in \u001b[0;36m_preprocess_for_cut\u001b[0;34m(x)\u001b[0m\n\u001b[1;32m    600\u001b[0m     x \u001b[39m=\u001b[39m np\u001b[39m.\u001b[39masarray(x)\n\u001b[1;32m    601\u001b[0m \u001b[39mif\u001b[39;00m x\u001b[39m.\u001b[39mndim \u001b[39m!=\u001b[39m \u001b[39m1\u001b[39m:\n\u001b[0;32m--> 602\u001b[0m     \u001b[39mraise\u001b[39;00m \u001b[39mValueError\u001b[39;00m(\u001b[39m\"\u001b[39m\u001b[39mInput array must be 1 dimensional\u001b[39m\u001b[39m\"\u001b[39m)\n\u001b[1;32m    604\u001b[0m \u001b[39mreturn\u001b[39;00m x\n",
      "\u001b[0;31mValueError\u001b[0m: Input array must be 1 dimensional"
     ]
    }
   ],
   "source": [
    "# Restringir a base de Dados para facilitar a análise\n",
    "base_idade = base.loc[:,[\"Idade\"]]\n",
    "\n",
    "id1 = [1,2,3,4]\n",
    "id2 = [21,22,23,24,25,26,27,28,29,30,31,32,33,34,35,36,37,38,39,40]\n",
    "id3 = [41,42,43,44,45,46,47,48,49,50,51,52,53,54,55,56,57,58,59,60]\n",
    "id4 = [61,62,63,64,65,66,67,68,69,70,71,72,73,74,75,76,77,78,79,80]\n",
    "faixa_idade = [\"1-20\",\"21-40\",\"41-60\",\"61-80\"]\n",
    "\n",
    "# Agrupar a soma dos valores de idade\n",
    "base_idade[\"Faixa de Idade\"] = pd.cut(base_idade,\n",
    "                                        id1,\n",
    "                                        labels = faixa_idade,\n",
    "                                        right = False)\n",
    "display(base_idade)"
   ]
  },
  {
   "attachments": {},
   "cell_type": "markdown",
   "metadata": {},
   "source": [
    "#### EDA 5 -  Consumidores Mais Populares (Top 5)\n",
    "### Identifique os 5 principais compradores pelo valor total de compra e, em seguida, liste (em uma tabela): **\n",
    "\n",
    "* Login\n",
    "* Número de compras\n",
    "* Preço médio de compra\n",
    "* Valor Total de Compra\n",
    "* Itens mais populares"
   ]
  },
  {
   "cell_type": "code",
   "execution_count": 17,
   "metadata": {},
   "outputs": [
    {
     "name": "stderr",
     "output_type": "stream",
     "text": [
      "/tmp/ipykernel_3589/1694926960.py:5: FutureWarning: The default value of numeric_only in DataFrameGroupBy.sum is deprecated. In a future version, numeric_only will default to False. Either specify numeric_only or select only columns which should be valid for the function.\n",
      "  top5_tot = pd.DataFrame(base_consumidores.groupby(\"Login\").sum()).sort_values(by = \"Valor\", ascending= False)\n",
      "/tmp/ipykernel_3589/1694926960.py:7: FutureWarning: The default value of numeric_only in DataFrameGroupBy.mean is deprecated. In a future version, numeric_only will default to False. Either specify numeric_only or select only columns which should be valid for the function.\n",
      "  top5_med = pd.DataFrame(base_consumidores.groupby(\"Login\").mean())\n"
     ]
    },
    {
     "data": {
      "text/html": [
       "<div>\n",
       "<style scoped>\n",
       "    .dataframe tbody tr th:only-of-type {\n",
       "        vertical-align: middle;\n",
       "    }\n",
       "\n",
       "    .dataframe tbody tr th {\n",
       "        vertical-align: top;\n",
       "    }\n",
       "\n",
       "    .dataframe thead tr th {\n",
       "        text-align: left;\n",
       "    }\n",
       "\n",
       "    .dataframe thead tr:last-of-type th {\n",
       "        text-align: right;\n",
       "    }\n",
       "</style>\n",
       "<table border=\"1\" class=\"dataframe\">\n",
       "  <thead>\n",
       "    <tr>\n",
       "      <th></th>\n",
       "      <th>Valor Total</th>\n",
       "      <th colspan=\"2\" halign=\"left\">Numero de Compras</th>\n",
       "      <th>Preço Médio de Compra</th>\n",
       "    </tr>\n",
       "    <tr>\n",
       "      <th></th>\n",
       "      <th>Valor</th>\n",
       "      <th>Valor</th>\n",
       "      <th>Nome do Item</th>\n",
       "      <th>Valor</th>\n",
       "    </tr>\n",
       "    <tr>\n",
       "      <th>Login</th>\n",
       "      <th></th>\n",
       "      <th></th>\n",
       "      <th></th>\n",
       "      <th></th>\n",
       "    </tr>\n",
       "  </thead>\n",
       "  <tbody>\n",
       "    <tr>\n",
       "      <th>Undirrala66</th>\n",
       "      <td>17.06</td>\n",
       "      <td>5</td>\n",
       "      <td>5</td>\n",
       "      <td>3.412000</td>\n",
       "    </tr>\n",
       "    <tr>\n",
       "      <th>Saedue76</th>\n",
       "      <td>13.56</td>\n",
       "      <td>4</td>\n",
       "      <td>4</td>\n",
       "      <td>3.390000</td>\n",
       "    </tr>\n",
       "    <tr>\n",
       "      <th>Mindimnya67</th>\n",
       "      <td>12.74</td>\n",
       "      <td>4</td>\n",
       "      <td>4</td>\n",
       "      <td>3.185000</td>\n",
       "    </tr>\n",
       "    <tr>\n",
       "      <th>Haellysu29</th>\n",
       "      <td>12.73</td>\n",
       "      <td>3</td>\n",
       "      <td>3</td>\n",
       "      <td>4.243333</td>\n",
       "    </tr>\n",
       "    <tr>\n",
       "      <th>Eoda93</th>\n",
       "      <td>11.58</td>\n",
       "      <td>3</td>\n",
       "      <td>3</td>\n",
       "      <td>3.860000</td>\n",
       "    </tr>\n",
       "  </tbody>\n",
       "</table>\n",
       "</div>"
      ],
      "text/plain": [
       "            Valor Total Numero de Compras              Preço Médio de Compra\n",
       "                  Valor             Valor Nome do Item                 Valor\n",
       "Login                                                                       \n",
       "Undirrala66       17.06                 5            5              3.412000\n",
       "Saedue76          13.56                 4            4              3.390000\n",
       "Mindimnya67       12.74                 4            4              3.185000\n",
       "Haellysu29        12.73                 3            3              4.243333\n",
       "Eoda93            11.58                 3            3              3.860000"
      ]
     },
     "metadata": {},
     "output_type": "display_data"
    }
   ],
   "source": [
    "# Restringir a base de Dados para facilitar a análise\n",
    "base_consumidores = base.loc[:,[\"Login\",\"Valor\",\"Nome do Item\"]]\n",
    "\n",
    "# Agrupar o total de vendas realizado por cada consumidor, ordenandos na ordem decresente do valor total de vendas\n",
    "top5_tot = pd.DataFrame(base_consumidores.groupby(\"Login\").sum()).sort_values(by = \"Valor\", ascending= False)\n",
    "top5_cont = pd.DataFrame(base_consumidores.groupby(\"Login\").count())\n",
    "top5_med = pd.DataFrame(base_consumidores.groupby(\"Login\").mean())\n",
    "\n",
    "\n",
    "# Contenar dataframes\n",
    "top5 = pd.concat([top5_tot,top5_cont,top5_med], axis = 1, keys= [\"Valor Total\", \"Numero de Compras\", \"Preço Médio de Compra\"])\n",
    "\n",
    "# Todo: Como retornar o nomme do item vendido\n",
    "# Todo: testar o assign para criar colunas personalizadas\n",
    "# Todo: Retirar Valor e Sexo do Dataframe\n",
    "# Todo: Alinhar o texto do dataframe\n",
    "\n",
    "# Demonstrar apenas os 5 primeiros valores de dataframe\n",
    "display(top5.head(5))"
   ]
  },
  {
   "attachments": {},
   "cell_type": "markdown",
   "metadata": {},
   "source": [
    "### EDA 6 - Itens Mais Populares\n",
    "### Identifique os 5 itens mais populares por contagem de compras e, em seguida, liste (em uma tabela):\n",
    "\n",
    "* ID do item\n",
    "* Nome do item\n",
    "* Número de compras\n",
    "* Preço do item\n",
    "* Valor Total de Compra\n",
    "* Itens mais lucrativos"
   ]
  },
  {
   "cell_type": "code",
   "execution_count": null,
   "metadata": {},
   "outputs": [],
   "source": [
    "# Restringir a base de Dados para facilitar a análise\n",
    "base_itens = base.loc[:,[\"Item ID\",\"Nome do Item\", \"Valor\"]]\n",
    "display(base_itens)"
   ]
  },
  {
   "attachments": {},
   "cell_type": "markdown",
   "metadata": {},
   "source": [
    "### EDA 7 - Itens Mais Lucrativos\n",
    "### Identifique os 5 itens mais lucrativos pelo valor total de compra e, em seguida, liste (em uma tabela): **\n",
    "\n",
    "* ID do item\n",
    "* Nome do item\n",
    "* Número de compras\n",
    "* Preço do item\n",
    "* Valor Total de Compra"
   ]
  },
  {
   "cell_type": "code",
   "execution_count": null,
   "metadata": {},
   "outputs": [],
   "source": [
    "# Restringir a base de Dados para facilitar a análise"
   ]
  },
  {
   "cell_type": "code",
   "execution_count": null,
   "metadata": {},
   "outputs": [],
   "source": [
    "# agrupar os items mais lucrativo\n",
    "item = pd.DataFrame(base_itens.groupby(\"Nome do Item\").sum(\"Valor\")).sort_values(by= \"Valor\",ascending=False)\n",
    "\n",
    "# \n",
    "\n",
    "display(item.head(5))"
   ]
  },
  {
   "cell_type": "markdown",
   "metadata": {},
   "source": [
    "ML 1 - Engenharia de Atributo"
   ]
  }
 ],
 "metadata": {
  "kernelspec": {
   "display_name": "Python 3 (ipykernel)",
   "language": "python",
   "name": "python3"
  },
  "language_info": {
   "codemirror_mode": {
    "name": "ipython",
    "version": 3
   },
   "file_extension": ".py",
   "mimetype": "text/x-python",
   "name": "python",
   "nbconvert_exporter": "python",
   "pygments_lexer": "ipython3",
   "version": "3.10.4"
  },
  "vscode": {
   "interpreter": {
    "hash": "fb8bbe35ce05a967cc1765cb51a1a815dfdecdfebe5b24f692427b5b8ca49088"
   }
  }
 },
 "nbformat": 4,
 "nbformat_minor": 2
}
