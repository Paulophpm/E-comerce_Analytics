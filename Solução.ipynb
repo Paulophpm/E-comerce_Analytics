{
 "cells": [
  {
   "cell_type": "code",
   "execution_count": 1,
   "metadata": {},
   "outputs": [],
   "source": [
    "# Importação dos pacotes python\n",
    "import pandas as pd\n",
    "import numpy as np\n",
    "import matplotlib.pyplot as plt\n",
    "from matplotlib import rcParams"
   ]
  },
  {
   "cell_type": "code",
   "execution_count": 32,
   "metadata": {},
   "outputs": [],
   "source": [
    "pd.set_option(\"mode.copy_on_write\", True)"
   ]
  },
  {
   "cell_type": "code",
   "execution_count": 33,
   "metadata": {},
   "outputs": [],
   "source": [
    "# configurar os plots do matplotlib\n",
    "rcParams['figure.figsize'] = 12, 4 # tamanho da grade da figura a ser criada\n",
    "rcParams['lines.linewidth'] = 3 # quantidade de linhas\n",
    "rcParams['xtick.labelsize'] = 'x-large' # largura do eixo x é o total da tela disponível\n",
    "rcParams['ytick.labelsize'] = 'x-large' # largura do eixo y é o total da tela disponível"
   ]
  },
  {
   "cell_type": "code",
   "execution_count": 34,
   "metadata": {},
   "outputs": [],
   "source": [
    "#Carregando o arquivo\n",
    "arquivo = \"Dados/dados_compras.json\"\n",
    "base = pd.read_json(arquivo, orient = \"records\")"
   ]
  },
  {
   "attachments": {},
   "cell_type": "markdown",
   "metadata": {},
   "source": [
    "### EDA 1 - Análise Geral de Compras\n",
    "\n",
    "* Número total de consumidores\n",
    "* Preço médio de compra\n",
    "* Número total de compras\n",
    "* Rendimento total"
   ]
  },
  {
   "cell_type": "code",
   "execution_count": 35,
   "metadata": {},
   "outputs": [
    {
     "data": {
      "text/html": [
       "<div>\n",
       "<style scoped>\n",
       "    .dataframe tbody tr th:only-of-type {\n",
       "        vertical-align: middle;\n",
       "    }\n",
       "\n",
       "    .dataframe tbody tr th {\n",
       "        vertical-align: top;\n",
       "    }\n",
       "\n",
       "    .dataframe thead th {\n",
       "        text-align: right;\n",
       "    }\n",
       "</style>\n",
       "<table border=\"1\" class=\"dataframe\">\n",
       "  <thead>\n",
       "    <tr style=\"text-align: right;\">\n",
       "      <th></th>\n",
       "      <th>Numero Total de Usuários</th>\n",
       "      <th>Quantidade de Vendas</th>\n",
       "      <th>Valor Médio de Vendas</th>\n",
       "      <th>Total de vendas</th>\n",
       "    </tr>\n",
       "  </thead>\n",
       "  <tbody>\n",
       "    <tr>\n",
       "      <th>Total</th>\n",
       "      <td>573</td>\n",
       "      <td>780</td>\n",
       "      <td>R$ 2.93</td>\n",
       "      <td>R$ 2,286.33</td>\n",
       "    </tr>\n",
       "  </tbody>\n",
       "</table>\n",
       "</div>"
      ],
      "text/plain": [
       "      Numero Total de Usuários Quantidade de Vendas Valor Médio de Vendas  \\\n",
       "Total                      573                  780               R$ 2.93   \n",
       "\n",
       "      Total de vendas  \n",
       "Total     R$ 2,286.33  "
      ]
     },
     "metadata": {},
     "output_type": "display_data"
    }
   ],
   "source": [
    "dados_demo = base[[\"Login\",\"Sexo\",\"Valor\"]] # retornar todas as linhas das colunas selecionadas\n",
    "dados_demo = dados_demo.drop_duplicates(\"Login\")# retira todas os usuário que tiveram mais de uma compra\n",
    "\n",
    "total_usuários = dados_demo[\"Login\"].count()# Total de usuários da base demográfica\n",
    "quantidade_vendas = base[\"Valor\"].count()# Quantidade de vendas realizadas\n",
    "media_vendas = base[\"Valor\"].mean()# Médidas das vendas realizadas\n",
    "total_vendas = base[\"Valor\"].sum()# Somatório das vendas realizadas\n",
    "\n",
    "#criar um dataframe para juntar todas as variáveis criadas \n",
    "vendas = pd.DataFrame({\"Numero Total de Usuários\":total_usuários,\n",
    "                      \"Quantidade de Vendas\":quantidade_vendas,\n",
    "                      \"Valor Médio de Vendas\": media_vendas,\n",
    "                      \"Total de vendas\":total_vendas},\n",
    "                       index= [\"Total\"])\n",
    "\n",
    "#ajustar formato dos numeros com função map (só funciona com pd)\n",
    "vendas[\"Numero Total de Usuários\"] = vendas[\"Numero Total de Usuários\"].map(\"{:,}\".format)\n",
    "vendas[\"Quantidade de Vendas\"] = vendas[\"Quantidade de Vendas\"].map(\"{:}\".format)\n",
    "vendas[\"Valor Médio de Vendas\"] = vendas[\"Valor Médio de Vendas\"].map(\"R$ {:,.2f}\".format)\n",
    "vendas[\"Total de vendas\"] = vendas[\"Total de vendas\"].map(\"R$ {:,.2f}\".format)\n",
    "\n",
    "display(vendas)"
   ]
  },
  {
   "cell_type": "code",
   "execution_count": null,
   "metadata": {},
   "outputs": [],
   "source": [
    "# plot\n",
    "\n"
   ]
  },
  {
   "attachments": {},
   "cell_type": "markdown",
   "metadata": {},
   "source": [
    "### EDA 2 - Análise Demográfica por Gênero\n",
    "\n",
    "* Porcentagem e contagem de compradores masculinos\n",
    "* Porcentagem e contagem de compradores do sexo feminino\n",
    "* Porcentagem e contagem de outros / não divulgados"
   ]
  },
  {
   "cell_type": "code",
   "execution_count": 36,
   "metadata": {},
   "outputs": [
    {
     "data": {
      "text/html": [
       "<div>\n",
       "<style scoped>\n",
       "    .dataframe tbody tr th:only-of-type {\n",
       "        vertical-align: middle;\n",
       "    }\n",
       "\n",
       "    .dataframe tbody tr th {\n",
       "        vertical-align: top;\n",
       "    }\n",
       "\n",
       "    .dataframe thead tr th {\n",
       "        text-align: left;\n",
       "    }\n",
       "\n",
       "    .dataframe thead tr:last-of-type th {\n",
       "        text-align: right;\n",
       "    }\n",
       "</style>\n",
       "<table border=\"1\" class=\"dataframe\">\n",
       "  <thead>\n",
       "    <tr>\n",
       "      <th></th>\n",
       "      <th>Total de Vendas</th>\n",
       "      <th>Porcetagem das Vendas</th>\n",
       "      <th>Media de vendas</th>\n",
       "    </tr>\n",
       "    <tr>\n",
       "      <th></th>\n",
       "      <th>Valor</th>\n",
       "      <th>Valor</th>\n",
       "      <th>Valor</th>\n",
       "    </tr>\n",
       "    <tr>\n",
       "      <th>Sexo</th>\n",
       "      <th></th>\n",
       "      <th></th>\n",
       "      <th></th>\n",
       "    </tr>\n",
       "  </thead>\n",
       "  <tbody>\n",
       "    <tr>\n",
       "      <th>Feminino</th>\n",
       "      <td>136</td>\n",
       "      <td>5.948398</td>\n",
       "      <td>2.815515</td>\n",
       "    </tr>\n",
       "    <tr>\n",
       "      <th>Masculino</th>\n",
       "      <td>633</td>\n",
       "      <td>27.686292</td>\n",
       "      <td>2.950521</td>\n",
       "    </tr>\n",
       "    <tr>\n",
       "      <th>Outro / Não Divulgado</th>\n",
       "      <td>11</td>\n",
       "      <td>0.481120</td>\n",
       "      <td>3.249091</td>\n",
       "    </tr>\n",
       "  </tbody>\n",
       "</table>\n",
       "</div>"
      ],
      "text/plain": [
       "                      Total de Vendas Porcetagem das Vendas Media de vendas\n",
       "                                Valor                 Valor           Valor\n",
       "Sexo                                                                       \n",
       "Feminino                          136              5.948398        2.815515\n",
       "Masculino                         633             27.686292        2.950521\n",
       "Outro / Não Divulgado              11              0.481120        3.249091"
      ]
     },
     "metadata": {},
     "output_type": "display_data"
    }
   ],
   "source": [
    "# Localizar todas as linhas das colunas sexo e valor agrupa-las por sexo\n",
    "vendas_sexo = pd.DataFrame(base[[\"Sexo\",\"Valor\"]].groupby(\"Sexo\").count())\n",
    "#realizar a porcentagem da variável anterior\n",
    "vendas_sexo_por = pd.DataFrame(base[[\"Sexo\",\"Valor\"]].groupby(\"Sexo\").count()/total_vendas*100)\n",
    "#Realizar a média das vendas por gênero\n",
    "vendas_sexo_me = base.loc[:,[\"Sexo\",\"Valor\"]].groupby(\"Sexo\").mean()\n",
    "\n",
    "# Concatenar valores em um único Dataframe\n",
    "novas_vendas = pd.concat(\n",
    "                        [vendas_sexo,vendas_sexo_por,vendas_sexo_me], \n",
    "                        axis= 1, \n",
    "                        keys= [\"Total de Vendas\", \"Porcetagem das Vendas\", \"Media de vendas\"])\n",
    "# axis = 1 indica que o dataframe será concatenado em colunas\n",
    "# Keys para definir o nome dos títulos\n",
    "\n",
    "# Formatação dos valores\n",
    "# Todo ajuste de formatação dos valores\n",
    "# Todo: testar o assign para criar colunas personalizadas de Porcentagem e Média\n",
    "# Todo: Retirar Valor e Sexo do Dataframe\n",
    "# Todo: Alinhar o texto do dataframe\n",
    "\n",
    "display(novas_vendas)\n"
   ]
  },
  {
   "cell_type": "code",
   "execution_count": null,
   "metadata": {},
   "outputs": [],
   "source": [
    "leg = [\"Feminino\",\"Masculino\",\"Outros/Não Divulgados\"]\n",
    "val = [133, 633, 11]\n",
    "\n",
    "fig, ax = plt.subplots()\n",
    "bar_colors = ['tab:red', 'tab:blue', 'tab:orange'] # colors\n",
    "bar_container = ax.bar(leg, val, color = bar_colors)\n",
    "ax.set(ylabel='Total de Vendas', title='Total por Gênero', ylim=(0, 700))\n",
    "ax.bar_label(bar_container, fmt='{:,.0f}')\n",
    "# todo - colocar a porcentagem no gráfico"
   ]
  },
  {
   "attachments": {},
   "cell_type": "markdown",
   "metadata": {},
   "source": [
    "### EDA 3 - Análise de Compras Por Gênero\n",
    "\n",
    "* Número de compras\n",
    "* Preço médio de compra\n",
    "* Valor Total de Compra\n",
    "* Compras for faixa etária"
   ]
  },
  {
   "cell_type": "code",
   "execution_count": 37,
   "metadata": {},
   "outputs": [
    {
     "data": {
      "text/html": [
       "<div>\n",
       "<style scoped>\n",
       "    .dataframe tbody tr th:only-of-type {\n",
       "        vertical-align: middle;\n",
       "    }\n",
       "\n",
       "    .dataframe tbody tr th {\n",
       "        vertical-align: top;\n",
       "    }\n",
       "\n",
       "    .dataframe thead tr th {\n",
       "        text-align: left;\n",
       "    }\n",
       "\n",
       "    .dataframe thead tr:last-of-type th {\n",
       "        text-align: right;\n",
       "    }\n",
       "</style>\n",
       "<table border=\"1\" class=\"dataframe\">\n",
       "  <thead>\n",
       "    <tr>\n",
       "      <th></th>\n",
       "      <th>Total de Vendas por Gênero</th>\n",
       "      <th>Quantidade de Vendas</th>\n",
       "      <th>Media de Vendas</th>\n",
       "      <th>Porcentagem</th>\n",
       "    </tr>\n",
       "    <tr>\n",
       "      <th></th>\n",
       "      <th>Valor</th>\n",
       "      <th>Valor</th>\n",
       "      <th>Valor</th>\n",
       "      <th>Valor</th>\n",
       "    </tr>\n",
       "    <tr>\n",
       "      <th>Sexo</th>\n",
       "      <th></th>\n",
       "      <th></th>\n",
       "      <th></th>\n",
       "      <th></th>\n",
       "    </tr>\n",
       "  </thead>\n",
       "  <tbody>\n",
       "    <tr>\n",
       "      <th>Feminino</th>\n",
       "      <td>382.91</td>\n",
       "      <td>136</td>\n",
       "      <td>2.815515</td>\n",
       "      <td>16.747801</td>\n",
       "    </tr>\n",
       "    <tr>\n",
       "      <th>Masculino</th>\n",
       "      <td>1867.68</td>\n",
       "      <td>633</td>\n",
       "      <td>2.950521</td>\n",
       "      <td>81.688995</td>\n",
       "    </tr>\n",
       "    <tr>\n",
       "      <th>Outro / Não Divulgado</th>\n",
       "      <td>35.74</td>\n",
       "      <td>11</td>\n",
       "      <td>3.249091</td>\n",
       "      <td>1.563204</td>\n",
       "    </tr>\n",
       "  </tbody>\n",
       "</table>\n",
       "</div>"
      ],
      "text/plain": [
       "                      Total de Vendas por Gênero Quantidade de Vendas  \\\n",
       "                                           Valor                Valor   \n",
       "Sexo                                                                    \n",
       "Feminino                                  382.91                  136   \n",
       "Masculino                                1867.68                  633   \n",
       "Outro / Não Divulgado                      35.74                   11   \n",
       "\n",
       "                      Media de Vendas Porcentagem  \n",
       "                                Valor       Valor  \n",
       "Sexo                                               \n",
       "Feminino                     2.815515   16.747801  \n",
       "Masculino                    2.950521   81.688995  \n",
       "Outro / Não Divulgado        3.249091    1.563204  "
      ]
     },
     "metadata": {},
     "output_type": "display_data"
    }
   ],
   "source": [
    "# Restringir a base de Dados para facilitar a análise\n",
    "base_genero = base[[\"Sexo\",\"Valor\"]]\n",
    "\n",
    "#agrupar valores por genero com o groupyby\n",
    "total_gen = base_genero.groupby(\"Sexo\").sum()\n",
    "total_qntd = base_genero.groupby(\"Sexo\").count()\n",
    "total_gen_media = base_genero.groupby(\"Sexo\").mean()\n",
    "total_gen_por = base_genero.groupby(\"Sexo\").sum()/ total_vendas*100\n",
    "\n",
    "# Concatenar todas as tabelas em um único Dataframe\n",
    "genero = pd.concat([total_gen,total_qntd,total_gen_media,total_gen_por], \n",
    "                   keys= [\"Total de Vendas por Gênero\", \"Quantidade de Vendas\", \"Media de Vendas\", \"Porcentagem\"], \n",
    "                   axis = 1)\n",
    "\n",
    "#genero.assign()\n",
    "# Todo: testar o assign para criar colunas personalizadas\n",
    "# Todo: Retirar Valor e Sexo do Dataframe\n",
    "# Todo: Alinhar o texto do dataframe\n",
    "\n",
    "display(genero)"
   ]
  },
  {
   "cell_type": "code",
   "execution_count": null,
   "metadata": {},
   "outputs": [],
   "source": [
    "# Plot\n",
    "# data from https://allisonhorst.github.io/palmerpenguins/\n",
    "\n",
    "species = (\"Feminino\", \"Masculino\", \"Outro / Não Divulgado\")\n",
    "penguin_means = {\n",
    "    'Bill Depth': (18.35, 18.43, 14.98),\n",
    "    'Bill Length': (38.79, 48.83, 47.50),\n",
    "    'Flipper Length': (189.95, 195.82, 217.19),\n",
    "}\n",
    "\n",
    "x = np.arange(len(species))  # the label locations\n",
    "width = 0.25  # the width of the bars\n",
    "multiplier = 0\n",
    "\n",
    "fig, ax = plt.subplots(layout='constrained')\n",
    "\n",
    "for attribute, measurement in penguin_means.items():\n",
    "    offset = width * multiplier\n",
    "    rects = ax.bar(x + offset, measurement, width, label=attribute)\n",
    "    ax.bar_label(rects, padding=3)\n",
    "    multiplier += 1\n",
    "\n",
    "# Add some text for labels, title and custom x-axis tick labels, etc.\n",
    "ax.set_ylabel('Length (mm)')\n",
    "ax.set_title('Penguin attributes by species')\n",
    "ax.set_xticks(x + width, species)\n",
    "ax.legend(loc='upper left', ncols=3)\n",
    "ax.set_ylim(0, 250)\n",
    "\n",
    "plt.show()"
   ]
  },
  {
   "cell_type": "code",
   "execution_count": null,
   "metadata": {},
   "outputs": [],
   "source": [
    "base"
   ]
  },
  {
   "cell_type": "code",
   "execution_count": 38,
   "metadata": {},
   "outputs": [],
   "source": [
    "# adicionando nova coluna para separar idades\n",
    "base['Faixa Idade'] = np.where((base['Idade'] > 1) & (base['Idade'] <= 20), \"1-20\",\n",
    "                np.where((base['Idade'] > 20) & (base['Idade'] <= 40), \"21-40\",\n",
    "                np.where((base['Idade'] > 40) & (base['Idade'] <= 60), \"41-60\",\n",
    "                np.where((base['Idade'] > 60) & (base['Idade'] <= 80), \"61-80\",\n",
    "                np.where((base['Idade'] > 80) & (base['Idade'] <= 100), \"80-100\", \"Acima de 100\")))))"
   ]
  },
  {
   "cell_type": "code",
   "execution_count": 39,
   "metadata": {},
   "outputs": [
    {
     "data": {
      "text/html": [
       "<div>\n",
       "<style scoped>\n",
       "    .dataframe tbody tr th:only-of-type {\n",
       "        vertical-align: middle;\n",
       "    }\n",
       "\n",
       "    .dataframe tbody tr th {\n",
       "        vertical-align: top;\n",
       "    }\n",
       "\n",
       "    .dataframe thead tr th {\n",
       "        text-align: left;\n",
       "    }\n",
       "\n",
       "    .dataframe thead tr:last-of-type th {\n",
       "        text-align: right;\n",
       "    }\n",
       "</style>\n",
       "<table border=\"1\" class=\"dataframe\">\n",
       "  <thead>\n",
       "    <tr>\n",
       "      <th></th>\n",
       "      <th>Total de Vendas por Faixa Etária</th>\n",
       "      <th>Quantidade de Vendas</th>\n",
       "      <th>Media de Vendas</th>\n",
       "      <th>Porcentagem</th>\n",
       "    </tr>\n",
       "    <tr>\n",
       "      <th></th>\n",
       "      <th>Valor</th>\n",
       "      <th>Valor</th>\n",
       "      <th>Valor</th>\n",
       "      <th>Valor</th>\n",
       "    </tr>\n",
       "    <tr>\n",
       "      <th>Faixa Idade</th>\n",
       "      <th></th>\n",
       "      <th></th>\n",
       "      <th></th>\n",
       "      <th></th>\n",
       "    </tr>\n",
       "  </thead>\n",
       "  <tbody>\n",
       "    <tr>\n",
       "      <th>1-20</th>\n",
       "      <td>849.51</td>\n",
       "      <td>294</td>\n",
       "      <td>2.889490</td>\n",
       "      <td>37.156054</td>\n",
       "    </tr>\n",
       "    <tr>\n",
       "      <th>21-40</th>\n",
       "      <td>1428.18</td>\n",
       "      <td>483</td>\n",
       "      <td>2.956894</td>\n",
       "      <td>62.466048</td>\n",
       "    </tr>\n",
       "    <tr>\n",
       "      <th>41-60</th>\n",
       "      <td>8.64</td>\n",
       "      <td>3</td>\n",
       "      <td>2.880000</td>\n",
       "      <td>0.377898</td>\n",
       "    </tr>\n",
       "  </tbody>\n",
       "</table>\n",
       "</div>"
      ],
      "text/plain": [
       "            Total de Vendas por Faixa Etária Quantidade de Vendas  \\\n",
       "                                       Valor                Valor   \n",
       "Faixa Idade                                                         \n",
       "1-20                                  849.51                  294   \n",
       "21-40                                1428.18                  483   \n",
       "41-60                                   8.64                    3   \n",
       "\n",
       "            Media de Vendas Porcentagem  \n",
       "                      Valor       Valor  \n",
       "Faixa Idade                              \n",
       "1-20               2.889490   37.156054  \n",
       "21-40              2.956894   62.466048  \n",
       "41-60              2.880000    0.377898  "
      ]
     },
     "metadata": {},
     "output_type": "display_data"
    }
   ],
   "source": [
    "# Plot\n",
    "base_idade = base[[\"Faixa Idade\",\"Valor\"]]\n",
    "\n",
    "total_id = base_idade.groupby(\"Faixa Idade\").sum();\n",
    "total_qntd_id = base_idade.groupby(\"Faixa Idade\").count()\n",
    "total_gen_media_id = base_idade.groupby(\"Faixa Idade\").mean()\n",
    "total_gen_id = base_idade.groupby(\"Faixa Idade\").sum()/ total_vendas*100\n",
    "\n",
    "idade = pd.concat([total_id,total_qntd_id,total_gen_media_id,total_gen_id], \n",
    "                   keys= [\"Total de Vendas por Faixa Etária\", \"Quantidade de Vendas\", \"Media de Vendas\", \"Porcentagem\"], \n",
    "                   axis = 1)\n",
    "\n",
    "display(idade)"
   ]
  },
  {
   "attachments": {},
   "cell_type": "markdown",
   "metadata": {},
   "source": [
    "#### EDA 5 -  Consumidores Mais Populares (Top 5)\n",
    "### Identifique os 5 principais compradores pelo valor total de compra e, em seguida, liste (em uma tabela): **\n",
    "\n",
    "* Login\n",
    "* Número de compras\n",
    "* Preço médio de compra\n",
    "* Valor Total de Compra\n",
    "* Itens mais populares"
   ]
  },
  {
   "cell_type": "code",
   "execution_count": 40,
   "metadata": {},
   "outputs": [
    {
     "name": "stderr",
     "output_type": "stream",
     "text": [
      "/tmp/ipykernel_1803/3459582330.py:5: FutureWarning: The default value of numeric_only in DataFrameGroupBy.sum is deprecated. In a future version, numeric_only will default to False. Either specify numeric_only or select only columns which should be valid for the function.\n",
      "  top5_tot = pd.DataFrame(base_consumidores.groupby(\"Login\").sum()).sort_values(by = \"Valor\", ascending= False)\n",
      "/tmp/ipykernel_1803/3459582330.py:7: FutureWarning: The default value of numeric_only in DataFrameGroupBy.mean is deprecated. In a future version, numeric_only will default to False. Either specify numeric_only or select only columns which should be valid for the function.\n",
      "  top5_med = pd.DataFrame(base_consumidores.groupby(\"Login\").mean())\n"
     ]
    },
    {
     "data": {
      "text/html": [
       "<div>\n",
       "<style scoped>\n",
       "    .dataframe tbody tr th:only-of-type {\n",
       "        vertical-align: middle;\n",
       "    }\n",
       "\n",
       "    .dataframe tbody tr th {\n",
       "        vertical-align: top;\n",
       "    }\n",
       "\n",
       "    .dataframe thead tr th {\n",
       "        text-align: left;\n",
       "    }\n",
       "</style>\n",
       "<table border=\"1\" class=\"dataframe\">\n",
       "  <thead>\n",
       "    <tr>\n",
       "      <th></th>\n",
       "      <th>Valor Total</th>\n",
       "      <th>Numero de Compras</th>\n",
       "      <th>Preço Médio de Compra</th>\n",
       "      <th colspan=\"2\" halign=\"left\">Item mais Comprado</th>\n",
       "    </tr>\n",
       "    <tr>\n",
       "      <th></th>\n",
       "      <th>Valor</th>\n",
       "      <th>Valor</th>\n",
       "      <th>Valor</th>\n",
       "      <th>0</th>\n",
       "      <th>1</th>\n",
       "    </tr>\n",
       "  </thead>\n",
       "  <tbody>\n",
       "    <tr>\n",
       "      <th>Undirrala66</th>\n",
       "      <td>17.06</td>\n",
       "      <td>5.0</td>\n",
       "      <td>3.412000</td>\n",
       "      <td>NaN</td>\n",
       "      <td>NaN</td>\n",
       "    </tr>\n",
       "    <tr>\n",
       "      <th>Saedue76</th>\n",
       "      <td>13.56</td>\n",
       "      <td>4.0</td>\n",
       "      <td>3.390000</td>\n",
       "      <td>NaN</td>\n",
       "      <td>NaN</td>\n",
       "    </tr>\n",
       "    <tr>\n",
       "      <th>Mindimnya67</th>\n",
       "      <td>12.74</td>\n",
       "      <td>4.0</td>\n",
       "      <td>3.185000</td>\n",
       "      <td>NaN</td>\n",
       "      <td>NaN</td>\n",
       "    </tr>\n",
       "    <tr>\n",
       "      <th>Haellysu29</th>\n",
       "      <td>12.73</td>\n",
       "      <td>3.0</td>\n",
       "      <td>4.243333</td>\n",
       "      <td>NaN</td>\n",
       "      <td>NaN</td>\n",
       "    </tr>\n",
       "    <tr>\n",
       "      <th>Eoda93</th>\n",
       "      <td>11.58</td>\n",
       "      <td>3.0</td>\n",
       "      <td>3.860000</td>\n",
       "      <td>NaN</td>\n",
       "      <td>NaN</td>\n",
       "    </tr>\n",
       "  </tbody>\n",
       "</table>\n",
       "</div>"
      ],
      "text/plain": [
       "            Valor Total Numero de Compras Preço Médio de Compra  \\\n",
       "                  Valor             Valor                 Valor   \n",
       "Undirrala66       17.06               5.0              3.412000   \n",
       "Saedue76          13.56               4.0              3.390000   \n",
       "Mindimnya67       12.74               4.0              3.185000   \n",
       "Haellysu29        12.73               3.0              4.243333   \n",
       "Eoda93            11.58               3.0              3.860000   \n",
       "\n",
       "            Item mais Comprado       \n",
       "                             0    1  \n",
       "Undirrala66                NaN  NaN  \n",
       "Saedue76                   NaN  NaN  \n",
       "Mindimnya67                NaN  NaN  \n",
       "Haellysu29                 NaN  NaN  \n",
       "Eoda93                     NaN  NaN  "
      ]
     },
     "metadata": {},
     "output_type": "display_data"
    }
   ],
   "source": [
    "# Restringir a base de Dados para facilitar a análise\n",
    "base_consumidores = base[[\"Login\",\"Valor\",\"Nome do Item\"]]\n",
    "\n",
    "# Agrupar o total de vendas realizado por cada consumidor, ordenandos na ordem decresente do valor total de vendas\n",
    "top5_tot = pd.DataFrame(base_consumidores.groupby(\"Login\").sum()).sort_values(by = \"Valor\", ascending= False)\n",
    "top5_cont = pd.DataFrame(base_consumidores.groupby(\"Login\")[\"Valor\"].count())\n",
    "top5_med = pd.DataFrame(base_consumidores.groupby(\"Login\").mean())\n",
    "top_item = pd.DataFrame(base_consumidores.groupby(\"Login\")[\"Nome do Item\"])\n",
    "\n",
    "\n",
    "# Contenar dataframes\n",
    "top5 = pd.concat([top5_tot,top5_cont,top5_med,top_item], axis = 1, keys= [\"Valor Total\", \"Numero de Compras\", \"Preço Médio de Compra\",\"Item mais Comprado\"])\n",
    "\n",
    "# Todo: Como retornar o nomme do item vendido\n",
    "# Todo: testar o assign para criar colunas personalizadas\n",
    "\n",
    "# Demonstrar apenas os 5 primeiros valores de dataframe\n",
    "display(top5.head(5))"
   ]
  },
  {
   "cell_type": "code",
   "execution_count": null,
   "metadata": {},
   "outputs": [],
   "source": [
    "# Plot"
   ]
  },
  {
   "attachments": {},
   "cell_type": "markdown",
   "metadata": {},
   "source": [
    "### EDA 6 - Itens Mais Populares\n",
    "### Identifique os 5 itens mais populares por contagem de compras e, em seguida, liste (em uma tabela):\n",
    "\n",
    "* ID do item\n",
    "* Nome do item\n",
    "* Número de compras\n",
    "* Preço do item\n",
    "* Valor Total de Compra\n",
    "* Itens mais lucrativos"
   ]
  },
  {
   "cell_type": "code",
   "execution_count": null,
   "metadata": {},
   "outputs": [],
   "source": [
    "# Restringir a base de Dados para facilitar a análise\n",
    "base_itens = base.loc[[\"Item ID\",\"Nome do Item\", \"Valor\"]]\n",
    "display(base_itens)"
   ]
  },
  {
   "attachments": {},
   "cell_type": "markdown",
   "metadata": {},
   "source": [
    "### EDA 7 - Itens Mais Lucrativos\n",
    "### Identifique os 5 itens mais lucrativos pelo valor total de compra e, em seguida, liste (em uma tabela): **\n",
    "\n",
    "* ID do item\n",
    "* Nome do item\n",
    "* Número de compras\n",
    "* Preço do item\n",
    "* Valor Total de Compra"
   ]
  },
  {
   "cell_type": "code",
   "execution_count": null,
   "metadata": {},
   "outputs": [],
   "source": [
    "# Restringir a base de Dados para facilitar a análise"
   ]
  },
  {
   "cell_type": "code",
   "execution_count": null,
   "metadata": {},
   "outputs": [],
   "source": [
    "# agrupar os items mais lucrativo\n",
    "item = pd.DataFrame(base_itens.groupby(\"Nome do Item\").sum(\"Valor\")).sort_values(by= \"Valor\",ascending=False)\n",
    "\n",
    "# \n",
    "\n",
    "display(item.head(5))"
   ]
  },
  {
   "cell_type": "markdown",
   "metadata": {},
   "source": [
    "ML 1 - Engenharia de Atributo"
   ]
  }
 ],
 "metadata": {
  "kernelspec": {
   "display_name": "Python 3",
   "language": "python",
   "name": "python3"
  },
  "language_info": {
   "codemirror_mode": {
    "name": "ipython",
    "version": 3
   },
   "file_extension": ".py",
   "mimetype": "text/x-python",
   "name": "python",
   "nbconvert_exporter": "python",
   "pygments_lexer": "ipython3",
   "version": "3.10.4"
  },
  "vscode": {
   "interpreter": {
    "hash": "3ad933181bd8a04b432d3370b9dc3b0662ad032c4dfaa4e4f1596c548f763858"
   }
  }
 },
 "nbformat": 4,
 "nbformat_minor": 2
}
