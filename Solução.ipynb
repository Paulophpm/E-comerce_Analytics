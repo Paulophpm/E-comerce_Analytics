{
 "cells": [
  {
   "attachments": {},
   "cell_type": "markdown",
   "metadata": {},
   "source": [
    "\n",
    "** Análise Geral de Compras **\n",
    "\n",
    "* Número total de consumidores\n",
    "* Preço médio de compra\n",
    "* Número total de compras\n",
    "* Rendimento total\n",
    "\n",
    "\n",
    "** Informações Demográficas Por Gênero **\n",
    "\n",
    "* Porcentagem e contagem de compradores masculinos\n",
    "* Porcentagem e contagem de compradores do sexo feminino\n",
    "* Porcentagem e contagem de outros / não divulgados\n",
    "\n",
    "\n",
    "** Análise de Compras Por Gênero **\n",
    "\n",
    "* Número de compras\n",
    "* Preço médio de compra\n",
    "* Valor Total de Compra\n",
    "* Compras for faixa etária\n",
    "\n",
    "\n",
    "** Identifique os 5 principais compradores pelo valor total de compra e, em seguida, liste (em uma tabela): **\n",
    "\n",
    "* Login\n",
    "* Número de compras\n",
    "* Preço médio de compra\n",
    "* Valor Total de Compra\n",
    "* Itens mais populares\n",
    "\n",
    "\n",
    "** Identifique os 5 itens mais populares por contagem de compras e, em seguida, liste (em uma tabela): **\n",
    "\n",
    "* ID do item\n",
    "* Nome do item\n",
    "* Número de compras\n",
    "* Preço do item\n",
    "* Valor Total de Compra\n",
    "* Itens mais lucrativos\n",
    "\n",
    "\n",
    "** Identifique os 5 itens mais lucrativos pelo valor total de compra e, em seguida, liste (em uma tabela): **\n",
    "\n",
    "* ID do item\n",
    "* Nome do item\n",
    "* Número de compras\n",
    "* Preço do item\n",
    "* Valor Total de Compra"
   ]
  },
  {
   "cell_type": "code",
   "execution_count": null,
   "metadata": {},
   "outputs": [],
   "source": [
    "# Importação dos pacotes python\n",
    "import pandas as pd\n",
    "import matplotlib.pyplot as mlp"
   ]
  },
  {
   "cell_type": "markdown",
   "metadata": {},
   "source": []
  },
  {
   "cell_type": "code",
   "execution_count": null,
   "metadata": {},
   "outputs": [],
   "source": [
    "# Carregando o arquivo\n",
    "arquivo = \"dados_compras.json\"\n",
    "base = pd.read_json(arquivo, orient = \"records\") # oriente usado para "
   ]
  },
  {
   "attachments": {},
   "cell_type": "markdown",
   "metadata": {},
   "source": [
    "### Análise Geral de Compras\n",
    "\n",
    "* Número total de consumidores\n",
    "* Preço médio de compra\n",
    "* Número total de compras\n",
    "* Rendimento total"
   ]
  },
  {
   "cell_type": "code",
   "execution_count": null,
   "metadata": {},
   "outputs": [],
   "source": [
    "# Restringir a base de Dados para facilitar a análise\n",
    "dados_demo = base.loc[:,[\"Login\",\"Sexo\",\"Valor\"]] #retornar todas as linhas das colunas selecionadas\n",
    "dados_demo = dados_demo.drop_duplicates(\"Login\")#retira todas os usuário que tiveram mais de uma compra"
   ]
  },
  {
   "cell_type": "code",
   "execution_count": null,
   "metadata": {},
   "outputs": [],
   "source": [
    "total_usuários = dados_demo[\"Login\"].count()# Total de usuários da base demográfica\n",
    "quantidade_vendas = base[\"Valor\"].count()# Quantidade de vendas realizadas\n",
    "media_vendas = base[\"Valor\"].mean()# Médidas das vendas realizadas\n",
    "total_vendas = base[\"Valor\"].sum()# Somatório das vendas realizadas\n",
    "\n",
    "#criar um dataframe para juntar todas as variáveis criadas \n",
    "vendas = pd.DataFrame({\"Numero Total de Usuários\":total_usuários,\n",
    "                      \"Quantidade de Vendas\":quantidade_vendas,\n",
    "                      \"Valor Médio de Vendas\": media_vendas,\n",
    "                      \"Total de vendas\":total_vendas},\n",
    "                       index= [\"Total\"])\n",
    "\n",
    "#ajustar formato dos numeros com função map\n",
    "vendas[\"Numero Total de Usuários\"] = vendas[\"Numero Total de Usuários\"].map(\"{:,}\".format)\n",
    "vendas[\"Quantidade de Vendas\"] = vendas[\"Quantidade de Vendas\"].map(\"{:}\".format)\n",
    "vendas[\"Valor Médio de Vendas\"] = vendas[\"Valor Médio de Vendas\"].map(\"R$ {:,.2f}\".format)\n",
    "vendas[\"Total de vendas\"] = vendas[\"Total de vendas\"].map(\"R$ {:,.2f}\".format)\n",
    "\n",
    "display(vendas)#display apresenta os dados em formato de tabela\n",
    "#todo - Alinhar texto do dataframe"
   ]
  },
  {
   "attachments": {},
   "cell_type": "markdown",
   "metadata": {},
   "source": [
    "### Análise Demográfica por Gênero\n",
    "\n",
    "* Porcentagem e contagem de compradores masculinos\n",
    "* Porcentagem e contagem de compradores do sexo feminino\n",
    "* Porcentagem e contagem de outros / não divulgados"
   ]
  },
  {
   "cell_type": "code",
   "execution_count": null,
   "metadata": {},
   "outputs": [],
   "source": [
    "# Localizar todas as linhas das colunas sexo e valor agrupa-las por sexo\n",
    "vendas_sexo = pd.DataFrame(base.loc[:,[\"Sexo\",\"Valor\"]].groupby(\"Sexo\").count())\n",
    "#realizar a porcentagem da variável anterior\n",
    "vendas_sexo_por = pd.DataFrame(base.loc[:,[\"Sexo\",\"Valor\"]].groupby(\"Sexo\").count()/total_vendas*100)\n",
    "#Realizar a média das vendas por gênero\n",
    "vendas_sexo_me = base.loc[:,[\"Sexo\",\"Valor\"]].groupby(\"Sexo\").mean()\n",
    "\n",
    "# Concatenar valores em um único Dataframe\n",
    "novas_vendas = pd.concat(\n",
    "                        [vendas_sexo,vendas_sexo_por,vendas_sexo_me], \n",
    "                        axis= 1, \n",
    "                        keys= [\"Total de Vendas\", \"Porcetagem das Vendas\", \"Media de vendas\"])\n",
    "# axis = 1 indica que o dataframe será concatenado em colunas\n",
    "# Keys para definir o nome dos títulos\n",
    "\n",
    "# Formatação dos valores\n",
    "# Todo ajuste de formatação dos valores\n",
    "# Todo: testar o assign para criar colunas personalizadas de Porcentagem e Média\n",
    "# Todo: Retirar Valor e Sexo do Dataframe\n",
    "# Todo: Alinhar o texto do dataframe\n",
    "\n",
    "display(novas_vendas)\n"
   ]
  },
  {
   "cell_type": "code",
   "execution_count": null,
   "metadata": {},
   "outputs": [],
   "source": [
    "#Tipo de plot\n",
    "fig, ax = mlp.subplots()\n",
    "\n",
    "#dados do plot\n",
    "gen = ['Masculino','Feminino','Outro / Não Divulgado']\n",
    "counts = sexo[\"Total\"]\n",
    "bar_colors = ['tab:red', 'tab:blue','tab:orange']\n",
    "\n",
    "#eixo x\n",
    "ax.bar(gen, counts, color=bar_colors)\n",
    "\n",
    "#eixo y\n",
    "ax.set_ylabel('Qntd')\n",
    "\n",
    "#título\n",
    "ax.set_title('Qntd por Gênero')\n",
    "\n",
    "#show\n",
    "mlp.show()"
   ]
  },
  {
   "cell_type": "code",
   "execution_count": null,
   "metadata": {},
   "outputs": [],
   "source": [
    "#plot das porcentagens\n",
    "\n",
    "labels = 'Masculino', 'Feminino', 'Outros / Não Divulgado'\n",
    "sizes = sexo[\"Total\"]\n",
    "explode = (0.2, 0.1, 0.1)  \n",
    "\n",
    "fig1, ax1 = mlp.subplots()\n",
    "ax1.pie(sizes, explode=explode, labels=labels, autopct='%1.1f%%',\n",
    "        shadow=True, startangle=90)\n",
    "ax1.axis('equal')  # Equal aspect ratio ensures that pie is drawn as a circle.\n",
    "\n",
    "mlp.show()"
   ]
  },
  {
   "attachments": {},
   "cell_type": "markdown",
   "metadata": {},
   "source": [
    "### Análise de Compras Por Gênero\n",
    "\n",
    "* Número de compras\n",
    "* Preço médio de compra\n",
    "* Valor Total de Compra\n",
    "* Compras for faixa etária"
   ]
  },
  {
   "cell_type": "code",
   "execution_count": null,
   "metadata": {},
   "outputs": [],
   "source": [
    "# Restringir a base de Dados para facilitar a análise\n",
    "base_genero = base.loc[:,[\"Sexo\",\"Valor\"]]\n",
    "display(base_genero)"
   ]
  },
  {
   "cell_type": "code",
   "execution_count": null,
   "metadata": {},
   "outputs": [],
   "source": [
    "#agrupar valores por genero com o groupyby\n",
    "total_gen = base_genero.groupby(\"Sexo\").sum()\n",
    "total_qntd = base_genero.groupby(\"Sexo\").count()\n",
    "total_gen_media = base_genero.groupby(\"Sexo\").mean()\n",
    "total_gen_por = base_genero.groupby(\"Sexo\").sum()/ total_vendas*100\n",
    "\n",
    "# Concatenar todas as tabelas em um único Dataframe\n",
    "genero = pd.concat([total_gen,total_qntd,total_gen_media,total_gen_por], \n",
    "                   keys= [\"Total de Vendas por Gênero\", \"Quantidade de Vendas\", \"Media de Vendas\", \"Porcentagem\"], \n",
    "                   axis = 1)\n",
    "\n",
    "#genero.assign()\n",
    "# Todo: testar o assign para criar colunas personalizadas\n",
    "# Todo: Retirar Valor e Sexo do Dataframe\n",
    "# Todo: Alinhar o texto do dataframe\n",
    "\n",
    "display(genero)"
   ]
  },
  {
   "cell_type": "code",
   "execution_count": null,
   "metadata": {},
   "outputs": [],
   "source": [
    "# Restringir a base de Dados para facilitar a análise\n",
    "base_idade = base.loc[:,[\"Idade\", \"Valor\"]]\n",
    "display(base_idade)"
   ]
  },
  {
   "cell_type": "code",
   "execution_count": null,
   "metadata": {
    "tags": []
   },
   "outputs": [],
   "source": [
    "id1 = [1,2,3,4,5,6,7,8,9,10,11,12,13,14,15,16,17,18,19,20]\n",
    "id2 = [21,22,23,24,25,26,27,28,29,30,31,32,33,34,35,36,37,38,39,40]\n",
    "id3 = [41,42,43,44,45,46,47,48,49,50,51,52,53,54,55,56,57,58,59,60]\n",
    "id4 = [61,62,63,64,65,66,67,68,69,70,71,72,73,74,75,76,77,78,79,80]\n",
    "\n",
    "# Agrupar a soma dos valores de idade\n",
    "idade= base_idade.groupby(\"Idade\").sum()\n",
    "\n",
    "display(idade)"
   ]
  },
  {
   "attachments": {},
   "cell_type": "markdown",
   "metadata": {},
   "source": [
    "#### Consumidores Mais Populares (Top 5)\n",
    "### Identifique os 5 principais compradores pelo valor total de compra e, em seguida, liste (em uma tabela): **\n",
    "\n",
    "* Login\n",
    "* Número de compras\n",
    "* Preço médio de compra\n",
    "* Valor Total de Compra\n",
    "* Itens mais populares"
   ]
  },
  {
   "cell_type": "code",
   "execution_count": null,
   "metadata": {},
   "outputs": [],
   "source": [
    "# Restringir a base de Dados para facilitar a análise\n",
    "base_consumidores = base.loc[:,[\"Login\",\"Valor\",\"Nome do Item\"]]\n",
    "display(base_consumidores)"
   ]
  },
  {
   "cell_type": "code",
   "execution_count": null,
   "metadata": {},
   "outputs": [],
   "source": [
    "# Agrupar o total de vendas realizado por cada consumidor, ordenandos na ordem decresente do valor total de vendas\n",
    "top5_tot = pd.DataFrame(base_consumidores.groupby(\"Login\").sum()).sort_values(by = \"Valor\", ascending= False)\n",
    "top5_cont = pd.DataFrame(base_consumidores.groupby(\"Login\").count())\n",
    "top5_med = pd.DataFrame(base_consumidores.groupby(\"Login\").mean())\n",
    "\n",
    "\n",
    "# Contenar dataframes\n",
    "top5 = pd.concat([top5_tot,top5_cont,top5_med], axis = 1, keys= [\"Valor Total\", \"Numero de Compras\", \"Preço Médio de Compra\"])\n",
    "\n",
    "# Todo: Como retornar o nomme do item vendido\n",
    "# Todo: testar o assign para criar colunas personalizadas\n",
    "# Todo: Retirar Valor e Sexo do Dataframe\n",
    "# Todo: Alinhar o texto do dataframe\n",
    "\n",
    "# Demonstrar apenas os 5 primeiros valores de dataframe\n",
    "display(top5.head(5))"
   ]
  },
  {
   "attachments": {},
   "cell_type": "markdown",
   "metadata": {},
   "source": [
    "### Itens Mais Populares\n",
    "### Identifique os 5 itens mais populares por contagem de compras e, em seguida, liste (em uma tabela):\n",
    "\n",
    "* ID do item\n",
    "* Nome do item\n",
    "* Número de compras\n",
    "* Preço do item\n",
    "* Valor Total de Compra\n",
    "* Itens mais lucrativos"
   ]
  },
  {
   "cell_type": "code",
   "execution_count": null,
   "metadata": {},
   "outputs": [],
   "source": [
    "# Restringir a base de Dados para facilitar a análise\n",
    "base_itens = base.loc[:,[\"Item ID\",\"Nome do Item\", \"Valor\"]]\n",
    "display(base_itens)"
   ]
  },
  {
   "attachments": {},
   "cell_type": "markdown",
   "metadata": {},
   "source": [
    "### Itens Mais Lucrativos\n",
    "### Identifique os 5 itens mais lucrativos pelo valor total de compra e, em seguida, liste (em uma tabela): **\n",
    "\n",
    "* ID do item\n",
    "* Nome do item\n",
    "* Número de compras\n",
    "* Preço do item\n",
    "* Valor Total de Compra"
   ]
  },
  {
   "cell_type": "code",
   "execution_count": null,
   "metadata": {},
   "outputs": [],
   "source": [
    "# Restringir a base de Dados para facilitar a análise"
   ]
  },
  {
   "cell_type": "code",
   "execution_count": null,
   "metadata": {},
   "outputs": [],
   "source": [
    "# agrupar os items mais lucrativo\n",
    "item = pd.DataFrame(base_itens.groupby(\"Nome do Item\").sum(\"Valor\")).sort_values(by= \"Valor\",ascending=False)\n",
    "\n",
    "# \n",
    "\n",
    "display(item.head(5))"
   ]
  }
 ],
 "metadata": {
  "kernelspec": {
   "display_name": "base",
   "language": "python",
   "name": "python3"
  },
  "language_info": {
   "codemirror_mode": {
    "name": "ipython",
    "version": 3
   },
   "file_extension": ".py",
   "mimetype": "text/x-python",
   "name": "python",
   "nbconvert_exporter": "python",
   "pygments_lexer": "ipython3",
   "version": "3.9.12"
  },
  "vscode": {
   "interpreter": {
    "hash": "fb8bbe35ce05a967cc1765cb51a1a815dfdecdfebe5b24f692427b5b8ca49088"
   }
  }
 },
 "nbformat": 4,
 "nbformat_minor": 2
}
