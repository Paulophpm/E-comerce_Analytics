{
 "cells": [
  {
   "cell_type": "markdown",
   "metadata": {},
   "source": [
    "# Tratamento dos dados"
   ]
  },
  {
   "cell_type": "code",
   "execution_count": 1,
   "metadata": {},
   "outputs": [],
   "source": [
    "#imports\n",
    "from pandas import Series\n",
    "import pandas as pd\n",
    "import numpy as np\n",
    "import matplotlib.pyplot as plt\n",
    "from sklearn.feature_extraction.text import CountVectorizer"
   ]
  },
  {
   "cell_type": "code",
   "execution_count": 2,
   "metadata": {},
   "outputs": [
    {
     "data": {
      "text/plain": [
       "pandas.core.frame.DataFrame"
      ]
     },
     "execution_count": 2,
     "metadata": {},
     "output_type": "execute_result"
    }
   ],
   "source": [
    "# Carregando os arquivos e salvando em um dataframe\n",
    "load_file = \"dados_compras.json\"\n",
    "purchase_file = pd.read_json(load_file, orient = \"records\")\n",
    "purchase_file.head()\n",
    "pd.DataFrame"
   ]
  },
  {
   "cell_type": "code",
   "execution_count": null,
   "metadata": {},
   "outputs": [],
   "source": [
    "#verificar se foi criado a tabela\n",
    "type(purchase_file)"
   ]
  },
  {
   "cell_type": "code",
   "execution_count": null,
   "metadata": {},
   "outputs": [],
   "source": [
    "#verificar o tamanho do dataframe\n",
    "purchase_file.shape"
   ]
  },
  {
   "cell_type": "markdown",
   "metadata": {},
   "source": [
    "# Informações dos Consumidores\n",
    "* Número total de consumidores\n",
    "* Número total de vendas"
   ]
  },
  {
   "cell_type": "code",
   "execution_count": null,
   "metadata": {},
   "outputs": [],
   "source": [
    "#verificar o total de linhas da tabela criada (vendas)\n",
    "total_vendas = purchase_file['Login'].count()\n",
    "print(\"Coluna %s tem %s carateres\" %(['Login'],total_vendas))"
   ]
  },
  {
   "cell_type": "code",
   "execution_count": null,
   "metadata": {},
   "outputs": [],
   "source": [
    "#verificar se existem um consumidor que realizou mais de uma compra\n",
    "total_consumidores = purchase_file['Login'].drop_duplicates()\n",
    "total_consumidores = total_consumidores.count()\n",
    "print(\"A empresa tem %s de consumidores\" %(total_consumidores))"
   ]
  },
  {
   "cell_type": "code",
   "execution_count": null,
   "metadata": {},
   "outputs": [],
   "source": [
    "#plotar total de consumidores vs total de vendas em um gráfico de pizza\n",
    "#style\n",
    "plt.style.use('_mpl-gallery-nogrid')\n",
    "#data\n",
    "x = [total_consumidores, total_vendas]\n",
    "#color\n",
    "colors = plt.get_cmap('Blues')(np.linspace(0.2, 0.7, len(x)))\n",
    "#plot\n",
    "fig, ax = plt.subplots()\n",
    "ax.pie(x, colors = colors, radius = 4, center = (5,5), wedgeprops = {\"linewidth\":1, \"edgecolor\":\"white\"}, frame = True)\n",
    "\n",
    "ax.set(xlim = (0,10), xticks = np.arange(1,10), ylim= (0,10), yticks = np.arange(1,10))\n",
    "\n",
    "plt.show()"
   ]
  },
  {
   "cell_type": "markdown",
   "metadata": {},
   "source": [
    "# Análise Geral de Compras\n",
    "* Número de itens exclusivos\n",
    "* Preço médio de compra\n",
    "* Número total de compras\n",
    "* Rendimento total"
   ]
  },
  {
   "cell_type": "code",
   "execution_count": null,
   "metadata": {},
   "outputs": [],
   "source": [
    "#verificando se existems valores exclusivos, eliminando duplicatas e contandoas\n",
    "def exclusivos():\n",
    "    def tabelas(): #trazer tabelas separadas de cada coluna sem itens duplicados\n",
    "        tot0 =  pd.Series(purchase_file['Login'].drop_duplicates())\n",
    "        tot1 =  pd.Series(purchase_file['Idade'].drop_duplicates())\n",
    "        tot2 =  pd.Series(purchase_file['Sexo'].drop_duplicates())\n",
    "        tot3 =  pd.Series(purchase_file['Item ID'].drop_duplicates())\n",
    "        tot4 =  pd.Series(purchase_file['Nome do Item'].drop_duplicates())\n",
    "        print(tot0, tot1, tot2, tot3, tot4)\n",
    "\n",
    "    def duplicata(): #trazer o resumo do total de valores exclusivos de cada coluna\n",
    "        tot0 =  purchase_file['Login'].drop_duplicates().count()\n",
    "        tot1 =  purchase_file['Idade'].drop_duplicates().count()\n",
    "        tot2 =  purchase_file['Sexo'].drop_duplicates().count()\n",
    "        tot3 =  purchase_file['Item ID'].drop_duplicates().count()\n",
    "        tot4 =  purchase_file['Nome do Item'].drop_duplicates().count()\n",
    "        total = {'Login': tot0, 'Idade': tot1, 'Sexo': tot2, 'Item ID': tot3, 'Nome do Item': tot4}\n",
    "        print(\"O total de itens exclusivos por coluna é: \", total)\n",
    "    tabelas()\n",
    "    duplicata()\n",
    "exclusivos()\n"
   ]
  },
  {
   "cell_type": "code",
   "execution_count": 10,
   "metadata": {},
   "outputs": [
    {
     "name": "stdout",
     "output_type": "stream",
     "text": [
      "O preço médio das vendas é de R$2.931192307692303\n"
     ]
    }
   ],
   "source": [
    "#preço médio das compras\n",
    "def preco_medio():\n",
    "    media_vendas = np.mean(purchase_file['Valor'])\n",
    "    print(\"O preço médio das vendas é de R$%s\" %(media_vendas))\n",
    "preco_medio()"
   ]
  },
  {
   "cell_type": "code",
   "execution_count": 11,
   "metadata": {},
   "outputs": [
    {
     "name": "stdout",
     "output_type": "stream",
     "text": [
      "O rendimento total foi de R$ 2286.33\n"
     ]
    }
   ],
   "source": [
    "#calculando rendimento total\n",
    "rendimento_total = np.sum(purchase_file['Valor'])\n",
    "print(\"O rendimento total foi de R$ %s\" %(rendimento_total))"
   ]
  },
  {
   "cell_type": "code",
   "execution_count": null,
   "metadata": {},
   "outputs": [],
   "source": [
    "#plot de gráfico de colunas da quantidade de itens exclusivos por coluna\n",
    " "
   ]
  },
  {
   "cell_type": "markdown",
   "metadata": {},
   "source": [
    "# Informações Demográficas Por Gênero\n",
    "\n",
    "* Porcentagem e contagem de compradores masculinos\n",
    "* Porcentagem e contagem de compradores do sexo feminino\n",
    "* Porcentagem e contagem de outros / não divulgados"
   ]
  },
  {
   "cell_type": "code",
   "execution_count": 3,
   "metadata": {},
   "outputs": [],
   "source": [
    "#def generos():\n",
    "    #filtrar coluna apenas com os gêneros\n",
    "   # gen = purchase_file.Series(data = purchase_file['Sexo']).str.lower().values\n",
    "   # def vetorizando():\n",
    "        # https://docs.python.org/3.8/library/re.html\n",
    "        # https://scikit-learn.org/stable/modules/generated/sklearn.feature_extraction.text.CountVectorizer.html\n",
    "    #    padrao = '(?u)\\\\b[\\\\w-]+\\\\b'\n",
    "     #   vetor = CountVectorizer(token_pattern= padrao, analyzer = 'word').fit(temp)"
   ]
  },
  {
   "cell_type": "code",
   "execution_count": 10,
   "metadata": {},
   "outputs": [
    {
     "name": "stdout",
     "output_type": "stream",
     "text": [
      "0      masculino\n",
      "1      masculino\n",
      "2      masculino\n",
      "3      masculino\n",
      "4      masculino\n",
      "         ...    \n",
      "775    masculino\n",
      "776    masculino\n",
      "777    masculino\n",
      "778    masculino\n",
      "779     feminino\n",
      "Name: Sexo, Length: 780, dtype: object\n"
     ]
    }
   ],
   "source": [
    "def contagem():\n",
    "   media = pd.Series(data = purchase_file['Sexo']).str.lower()\n",
    "   masc = media.groupby(level=0).sum()\n",
    "   #media dos consumidores\n",
    "   print(masc)\n",
    "contagem()"
   ]
  },
  {
   "cell_type": "markdown",
   "metadata": {},
   "source": [
    "# Análise de Compras Por Gênero \n",
    "\n",
    "* Número de compras\n",
    "* Preço médio de compra\n",
    "* Valor Total de Compra\n",
    "* Compras for faixa etária"
   ]
  },
  {
   "cell_type": "code",
   "execution_count": null,
   "metadata": {},
   "outputs": [],
   "source": []
  },
  {
   "cell_type": "markdown",
   "metadata": {},
   "source": [
    "# Identifique os 5 principais compradores pelo valor total de compra e, em seguida, liste (em uma tabela):\n",
    "\n",
    "* Login\n",
    "* Número de compras\n",
    "* Preço médio de compra\n",
    "* Valor Total de Compra\n",
    "* Itens mais populares"
   ]
  },
  {
   "cell_type": "code",
   "execution_count": null,
   "metadata": {},
   "outputs": [],
   "source": []
  },
  {
   "cell_type": "markdown",
   "metadata": {},
   "source": [
    "#  Identifique os 5 itens mais populares por contagem de compras e, em seguida, liste (em uma tabela):\n",
    "\n",
    "* ID do item\n",
    "* Nome do item\n",
    "* Número de compras\n",
    "* Preço do item\n",
    "* Valor Total de Compra\n",
    "* Itens mais lucrativos"
   ]
  },
  {
   "cell_type": "code",
   "execution_count": null,
   "metadata": {},
   "outputs": [],
   "source": []
  },
  {
   "cell_type": "markdown",
   "metadata": {},
   "source": [
    "# Identifique os 5 itens mais lucrativos pelo valor total de compra e, em seguida, liste (em uma tabela):\n",
    "\n",
    "* ID do item\n",
    "* Nome do item\n",
    "* Número de compras\n",
    "* Preço do item\n",
    "* Valor Total de Compra"
   ]
  },
  {
   "cell_type": "code",
   "execution_count": null,
   "metadata": {},
   "outputs": [],
   "source": []
  },
  {
   "cell_type": "markdown",
   "metadata": {},
   "source": []
  },
  {
   "cell_type": "markdown",
   "metadata": {},
   "source": [
    "# #Bonus - Usando modelo Machine Learning para prever futuras vendas\n",
    "* utilizando modelo de regressão linear, prevê"
   ]
  }
 ],
 "metadata": {
  "kernelspec": {
   "display_name": "Python 3.9.12 ('base')",
   "language": "python",
   "name": "python3"
  },
  "language_info": {
   "codemirror_mode": {
    "name": "ipython",
    "version": 3
   },
   "file_extension": ".py",
   "mimetype": "text/x-python",
   "name": "python",
   "nbconvert_exporter": "python",
   "pygments_lexer": "ipython3",
   "version": "3.9.12"
  },
  "orig_nbformat": 4,
  "vscode": {
   "interpreter": {
    "hash": "fb8bbe35ce05a967cc1765cb51a1a815dfdecdfebe5b24f692427b5b8ca49088"
   }
  }
 },
 "nbformat": 4,
 "nbformat_minor": 2
}
