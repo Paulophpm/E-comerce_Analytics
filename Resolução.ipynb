{
 "cells": [
  {
   "cell_type": "markdown",
   "metadata": {},
   "source": [
    "# Tratamento dos dados"
   ]
  },
  {
   "cell_type": "code",
   "execution_count": 1,
   "metadata": {},
   "outputs": [],
   "source": [
    "#imports\n",
    "from pandas import Series\n",
    "import pandas as pd\n",
    "import matplotlib.pyplot as plt\n",
    "import seaborn as sns\n",
    "#from sklearn.feature_extraction.text import CountVectorizer"
   ]
  },
  {
   "cell_type": "code",
   "execution_count": 18,
   "metadata": {},
   "outputs": [
    {
     "data": {
      "text/html": [
       "<div>\n",
       "<style scoped>\n",
       "    .dataframe tbody tr th:only-of-type {\n",
       "        vertical-align: middle;\n",
       "    }\n",
       "\n",
       "    .dataframe tbody tr th {\n",
       "        vertical-align: top;\n",
       "    }\n",
       "\n",
       "    .dataframe thead th {\n",
       "        text-align: right;\n",
       "    }\n",
       "</style>\n",
       "<table border=\"1\" class=\"dataframe\">\n",
       "  <thead>\n",
       "    <tr style=\"text-align: right;\">\n",
       "      <th></th>\n",
       "      <th>Login</th>\n",
       "      <th>Idade</th>\n",
       "      <th>Sexo</th>\n",
       "      <th>Item ID</th>\n",
       "      <th>Nome do Item</th>\n",
       "      <th>Valor</th>\n",
       "    </tr>\n",
       "  </thead>\n",
       "  <tbody>\n",
       "    <tr>\n",
       "      <th>0</th>\n",
       "      <td>Aelalis34</td>\n",
       "      <td>38</td>\n",
       "      <td>Masculino</td>\n",
       "      <td>165</td>\n",
       "      <td>Bone Crushing Silver Skewer</td>\n",
       "      <td>3.37</td>\n",
       "    </tr>\n",
       "    <tr>\n",
       "      <th>1</th>\n",
       "      <td>Eolo46</td>\n",
       "      <td>21</td>\n",
       "      <td>Masculino</td>\n",
       "      <td>119</td>\n",
       "      <td>Stormbringer, Dark Blade of Ending Misery</td>\n",
       "      <td>2.32</td>\n",
       "    </tr>\n",
       "    <tr>\n",
       "      <th>2</th>\n",
       "      <td>Assastnya25</td>\n",
       "      <td>34</td>\n",
       "      <td>Masculino</td>\n",
       "      <td>174</td>\n",
       "      <td>Primitive Blade</td>\n",
       "      <td>2.46</td>\n",
       "    </tr>\n",
       "    <tr>\n",
       "      <th>3</th>\n",
       "      <td>Pheusrical25</td>\n",
       "      <td>21</td>\n",
       "      <td>Masculino</td>\n",
       "      <td>92</td>\n",
       "      <td>Final Critic</td>\n",
       "      <td>1.36</td>\n",
       "    </tr>\n",
       "    <tr>\n",
       "      <th>4</th>\n",
       "      <td>Aela59</td>\n",
       "      <td>23</td>\n",
       "      <td>Masculino</td>\n",
       "      <td>63</td>\n",
       "      <td>Stormfury Mace</td>\n",
       "      <td>1.27</td>\n",
       "    </tr>\n",
       "  </tbody>\n",
       "</table>\n",
       "</div>"
      ],
      "text/plain": [
       "          Login  Idade       Sexo  Item ID  \\\n",
       "0     Aelalis34     38  Masculino      165   \n",
       "1        Eolo46     21  Masculino      119   \n",
       "2   Assastnya25     34  Masculino      174   \n",
       "3  Pheusrical25     21  Masculino       92   \n",
       "4        Aela59     23  Masculino       63   \n",
       "\n",
       "                                Nome do Item  Valor  \n",
       "0                Bone Crushing Silver Skewer   3.37  \n",
       "1  Stormbringer, Dark Blade of Ending Misery   2.32  \n",
       "2                            Primitive Blade   2.46  \n",
       "3                               Final Critic   1.36  \n",
       "4                             Stormfury Mace   1.27  "
      ]
     },
     "execution_count": 18,
     "metadata": {},
     "output_type": "execute_result"
    }
   ],
   "source": [
    "# Carregando os arquivos e salvando em um dataframe\n",
    "file = \"dados_compras.json\"\n",
    "compras = pd.read_json(file, orient = \"records\")\n",
    "compras.head()"
   ]
  },
  {
   "cell_type": "code",
   "execution_count": 19,
   "metadata": {},
   "outputs": [
    {
     "name": "stdout",
     "output_type": "stream",
     "text": [
      "            Idade     Item ID       Valor\n",
      "count  780.000000  780.000000  780.000000\n",
      "mean    22.729487   91.292308    2.931192\n",
      "std      6.930604   52.707897    1.115780\n",
      "min      7.000000    0.000000    1.030000\n",
      "25%     19.000000   44.000000    1.960000\n",
      "50%     22.000000   91.000000    2.880000\n",
      "75%     25.000000  135.000000    3.910000\n",
      "max     45.000000  183.000000    4.950000\n"
     ]
    }
   ],
   "source": [
    "#verificar estatísticas das colunas do dataframe (para ser utilizado mais tarde para entedner se os futuros dados obitos fazem sentido)\n",
    "print(compras.describe())"
   ]
  },
  {
   "cell_type": "markdown",
   "metadata": {},
   "source": [
    "# Informações dos Consumidores\n",
    "* Número total de consumidores\n",
    "* Número total de vendas"
   ]
  },
  {
   "cell_type": "code",
   "execution_count": 20,
   "metadata": {},
   "outputs": [
    {
     "data": {
      "text/html": [
       "<div>\n",
       "<style scoped>\n",
       "    .dataframe tbody tr th:only-of-type {\n",
       "        vertical-align: middle;\n",
       "    }\n",
       "\n",
       "    .dataframe tbody tr th {\n",
       "        vertical-align: top;\n",
       "    }\n",
       "\n",
       "    .dataframe thead th {\n",
       "        text-align: right;\n",
       "    }\n",
       "</style>\n",
       "<table border=\"1\" class=\"dataframe\">\n",
       "  <thead>\n",
       "    <tr style=\"text-align: right;\">\n",
       "      <th></th>\n",
       "      <th>Login</th>\n",
       "      <th>Sexo</th>\n",
       "      <th>Idade</th>\n",
       "    </tr>\n",
       "  </thead>\n",
       "  <tbody>\n",
       "    <tr>\n",
       "      <th>0</th>\n",
       "      <td>Aelalis34</td>\n",
       "      <td>Masculino</td>\n",
       "      <td>38</td>\n",
       "    </tr>\n",
       "    <tr>\n",
       "      <th>1</th>\n",
       "      <td>Eolo46</td>\n",
       "      <td>Masculino</td>\n",
       "      <td>21</td>\n",
       "    </tr>\n",
       "    <tr>\n",
       "      <th>2</th>\n",
       "      <td>Assastnya25</td>\n",
       "      <td>Masculino</td>\n",
       "      <td>34</td>\n",
       "    </tr>\n",
       "    <tr>\n",
       "      <th>3</th>\n",
       "      <td>Pheusrical25</td>\n",
       "      <td>Masculino</td>\n",
       "      <td>21</td>\n",
       "    </tr>\n",
       "    <tr>\n",
       "      <th>4</th>\n",
       "      <td>Aela59</td>\n",
       "      <td>Masculino</td>\n",
       "      <td>23</td>\n",
       "    </tr>\n",
       "  </tbody>\n",
       "</table>\n",
       "</div>"
      ],
      "text/plain": [
       "          Login       Sexo  Idade\n",
       "0     Aelalis34  Masculino     38\n",
       "1        Eolo46  Masculino     21\n",
       "2   Assastnya25  Masculino     34\n",
       "3  Pheusrical25  Masculino     21\n",
       "4        Aela59  Masculino     23"
      ]
     },
     "execution_count": 20,
     "metadata": {},
     "output_type": "execute_result"
    }
   ],
   "source": [
    "#verificar o total de vendas e de consumidores (se há mais de uma venda por consumidor)\n",
    "demografico = compras.loc[:, [\"Login\", \"Sexo\",\"Idade\"]]\n",
    "demografico.head()"
   ]
  },
  {
   "cell_type": "code",
   "execution_count": 21,
   "metadata": {},
   "outputs": [
    {
     "data": {
      "text/html": [
       "<div>\n",
       "<style scoped>\n",
       "    .dataframe tbody tr th:only-of-type {\n",
       "        vertical-align: middle;\n",
       "    }\n",
       "\n",
       "    .dataframe tbody tr th {\n",
       "        vertical-align: top;\n",
       "    }\n",
       "\n",
       "    .dataframe thead th {\n",
       "        text-align: right;\n",
       "    }\n",
       "</style>\n",
       "<table border=\"1\" class=\"dataframe\">\n",
       "  <thead>\n",
       "    <tr style=\"text-align: right;\">\n",
       "      <th></th>\n",
       "      <th>Login</th>\n",
       "      <th>Sexo</th>\n",
       "      <th>Idade</th>\n",
       "    </tr>\n",
       "  </thead>\n",
       "  <tbody>\n",
       "    <tr>\n",
       "      <th>0</th>\n",
       "      <td>Aelalis34</td>\n",
       "      <td>Masculino</td>\n",
       "      <td>38</td>\n",
       "    </tr>\n",
       "    <tr>\n",
       "      <th>1</th>\n",
       "      <td>Eolo46</td>\n",
       "      <td>Masculino</td>\n",
       "      <td>21</td>\n",
       "    </tr>\n",
       "    <tr>\n",
       "      <th>2</th>\n",
       "      <td>Assastnya25</td>\n",
       "      <td>Masculino</td>\n",
       "      <td>34</td>\n",
       "    </tr>\n",
       "    <tr>\n",
       "      <th>3</th>\n",
       "      <td>Pheusrical25</td>\n",
       "      <td>Masculino</td>\n",
       "      <td>21</td>\n",
       "    </tr>\n",
       "    <tr>\n",
       "      <th>4</th>\n",
       "      <td>Aela59</td>\n",
       "      <td>Masculino</td>\n",
       "      <td>23</td>\n",
       "    </tr>\n",
       "    <tr>\n",
       "      <th>...</th>\n",
       "      <td>...</td>\n",
       "      <td>...</td>\n",
       "      <td>...</td>\n",
       "    </tr>\n",
       "    <tr>\n",
       "      <th>771</th>\n",
       "      <td>Lassista97</td>\n",
       "      <td>Masculino</td>\n",
       "      <td>24</td>\n",
       "    </tr>\n",
       "    <tr>\n",
       "      <th>772</th>\n",
       "      <td>Sidap51</td>\n",
       "      <td>Masculino</td>\n",
       "      <td>15</td>\n",
       "    </tr>\n",
       "    <tr>\n",
       "      <th>773</th>\n",
       "      <td>Chamadarsda63</td>\n",
       "      <td>Masculino</td>\n",
       "      <td>21</td>\n",
       "    </tr>\n",
       "    <tr>\n",
       "      <th>778</th>\n",
       "      <td>Quelaton80</td>\n",
       "      <td>Masculino</td>\n",
       "      <td>20</td>\n",
       "    </tr>\n",
       "    <tr>\n",
       "      <th>779</th>\n",
       "      <td>Alim85</td>\n",
       "      <td>Feminino</td>\n",
       "      <td>23</td>\n",
       "    </tr>\n",
       "  </tbody>\n",
       "</table>\n",
       "<p>573 rows × 3 columns</p>\n",
       "</div>"
      ],
      "text/plain": [
       "             Login       Sexo  Idade\n",
       "0        Aelalis34  Masculino     38\n",
       "1           Eolo46  Masculino     21\n",
       "2      Assastnya25  Masculino     34\n",
       "3     Pheusrical25  Masculino     21\n",
       "4           Aela59  Masculino     23\n",
       "..             ...        ...    ...\n",
       "771     Lassista97  Masculino     24\n",
       "772        Sidap51  Masculino     15\n",
       "773  Chamadarsda63  Masculino     21\n",
       "778     Quelaton80  Masculino     20\n",
       "779         Alim85   Feminino     23\n",
       "\n",
       "[573 rows x 3 columns]"
      ]
     },
     "execution_count": 21,
     "metadata": {},
     "output_type": "execute_result"
    }
   ],
   "source": [
    "players = demografico.drop_duplicates()\n",
    "players"
   ]
  },
  {
   "cell_type": "markdown",
   "metadata": {},
   "source": [
    "# Análise Geral de Compras\n",
    "* Número de itens exclusivos\n",
    "* Preço médio de compra\n",
    "* Número total de compras\n",
    "* Rendimento total"
   ]
  },
  {
   "cell_type": "code",
   "execution_count": 36,
   "metadata": {},
   "outputs": [
    {
     "name": "stdout",
     "output_type": "stream",
     "text": [
      "preço médio das vendas: $2.93\n",
      "numero compras: $2,286.33\n",
      "numero total de vendas: 780\n"
     ]
    }
   ],
   "source": [
    "def analise():\n",
    "    media_vendas = compras['Valor'].mean()\n",
    "    numero_compras = compras['Valor'].sum()\n",
    "    numero_vendas = compras['Valor'].count()\n",
    "    \n",
    "    print(f\"preço médio das vendas: ${media_vendas:.2f}\")\n",
    "    print(f\"numero compras: ${numero_compras:,.2f}\")\n",
    "    print(f\"numero total de vendas: {numero_vendas:}\")\n",
    "    #O ponto é para indicar que temos um separador decimal;\n",
    "    #O N é o número de casas decimais que vamos ter;\n",
    "    #E o f é para indicar que temos um float, ou seja, um número com casas decimais.\n",
    "analise()"
   ]
  },
  {
   "cell_type": "code",
   "execution_count": 42,
   "metadata": {},
   "outputs": [
    {
     "name": "stdout",
     "output_type": "stream",
     "text": [
      "iten únicos: 183\n"
     ]
    }
   ],
   "source": [
    "#itens únicos\n",
    "item_unicos = len(compras[\"Item ID\"].unique())#retorna valores únicos da serie\n",
    "print(f\"iten únicos: {item_unicos}\")"
   ]
  },
  {
   "cell_type": "markdown",
   "metadata": {},
   "source": [
    "# Informações Demográficas Por Gênero\n",
    "\n",
    "* Porcentagem e contagem de compradores masculinos\n",
    "* Porcentagem e contagem de compradores do sexo feminino\n",
    "* Porcentagem e contagem de outros / não divulgados"
   ]
  },
  {
   "cell_type": "code",
   "execution_count": 43,
   "metadata": {},
   "outputs": [
    {
     "data": {
      "text/html": [
       "<div>\n",
       "<style scoped>\n",
       "    .dataframe tbody tr th:only-of-type {\n",
       "        vertical-align: middle;\n",
       "    }\n",
       "\n",
       "    .dataframe tbody tr th {\n",
       "        vertical-align: top;\n",
       "    }\n",
       "\n",
       "    .dataframe thead th {\n",
       "        text-align: right;\n",
       "    }\n",
       "</style>\n",
       "<table border=\"1\" class=\"dataframe\">\n",
       "  <thead>\n",
       "    <tr style=\"text-align: right;\">\n",
       "      <th></th>\n",
       "      <th>Login</th>\n",
       "      <th>Sexo</th>\n",
       "      <th>Idade</th>\n",
       "    </tr>\n",
       "  </thead>\n",
       "  <tbody>\n",
       "    <tr>\n",
       "      <th>0</th>\n",
       "      <td>Aelalis34</td>\n",
       "      <td>Masculino</td>\n",
       "      <td>38</td>\n",
       "    </tr>\n",
       "    <tr>\n",
       "      <th>1</th>\n",
       "      <td>Eolo46</td>\n",
       "      <td>Masculino</td>\n",
       "      <td>21</td>\n",
       "    </tr>\n",
       "    <tr>\n",
       "      <th>2</th>\n",
       "      <td>Assastnya25</td>\n",
       "      <td>Masculino</td>\n",
       "      <td>34</td>\n",
       "    </tr>\n",
       "    <tr>\n",
       "      <th>3</th>\n",
       "      <td>Pheusrical25</td>\n",
       "      <td>Masculino</td>\n",
       "      <td>21</td>\n",
       "    </tr>\n",
       "    <tr>\n",
       "      <th>4</th>\n",
       "      <td>Aela59</td>\n",
       "      <td>Masculino</td>\n",
       "      <td>23</td>\n",
       "    </tr>\n",
       "  </tbody>\n",
       "</table>\n",
       "</div>"
      ],
      "text/plain": [
       "          Login       Sexo  Idade\n",
       "0     Aelalis34  Masculino     38\n",
       "1        Eolo46  Masculino     21\n",
       "2   Assastnya25  Masculino     34\n",
       "3  Pheusrical25  Masculino     21\n",
       "4        Aela59  Masculino     23"
      ]
     },
     "execution_count": 43,
     "metadata": {},
     "output_type": "execute_result"
    }
   ],
   "source": [
    "demografico.head()"
   ]
  },
  {
   "cell_type": "code",
   "execution_count": 48,
   "metadata": {},
   "outputs": [],
   "source": [
    "def contagem():##lembrete: testar com pd.DataFrame\n",
    "    masc = len(compras.loc[compras['Sexo'] == 'Masculino'])\n",
    "    fem = len(compras.loc[compras[\"Sexo\"] == 'Feminino'])\n",
    "    others = len(compras.loc[compras['Sexo'] == 'Outro / Não Divulgado'])\n",
    "    print(\"Sexo Masculino: {0} ({1:.2f}%)\".format(masc, (masc / (masc + fem + others))*100))#poderia ser usado o map\n",
    "    print(\"Sexo Feminino: {0} ({1:.2f}%)\".format(fem, (fem / (masc + fem + others))*100))\n",
    "    print(\"Outros / Não divulgaram: {0} ({1:.2f}%)\".format(others, (others/ (masc + fem + others))*100))"
   ]
  },
  {
   "cell_type": "code",
   "execution_count": 49,
   "metadata": {},
   "outputs": [
    {
     "name": "stdout",
     "output_type": "stream",
     "text": [
      "Sexo Masculino: 633 (81.15%)\n",
      "Sexo Feminino: 136 (17.44%)\n",
      "Outros / Não divulgaram: 11 (1.41%)\n"
     ]
    }
   ],
   "source": [
    "contagem()"
   ]
  },
  {
   "cell_type": "code",
   "execution_count": 50,
   "metadata": {},
   "outputs": [
    {
     "data": {
      "text/plain": [
       "<AxesSubplot:>"
      ]
     },
     "execution_count": 50,
     "metadata": {},
     "output_type": "execute_result"
    },
    {
     "data": {
      "image/png": "[encoded data removed]",
      "text/plain": [
       "<Figure size 432x288 with 1 Axes>"
      ]
     },
     "metadata": {
      "needs_background": "light"
     },
     "output_type": "display_data"
    }
   ],
   "source": [
    "#histograma para visualizar a quantidade de dados\n",
    "##lembrete:pesquisar algum gráfico no seaborn\n",
    "compras.Sexo.hist()"
   ]
  },
  {
   "cell_type": "markdown",
   "metadata": {},
   "source": [
    "# Análise de Compras Por Gênero \n",
    "\n",
    "* Número de compras\n",
    "* Preço médio de compra\n",
    "* Valor Total de Compra\n",
    "* Compras for faixa etária"
   ]
  },
  {
   "cell_type": "code",
   "execution_count": 62,
   "metadata": {},
   "outputs": [],
   "source": [
    "#puxar uma séria filtrando apenas o gênero e calcular o preço médio das compras\n",
    "def genero():##lembrete: \n",
    "    gen_masc = compras.loc[compras['Sexo'] == 'Masculino']\n",
    "    gen_fem = compras.loc[compras['Sexo'] == 'Feminino']\n",
    "    def analises():\n",
    "        masc_media = pd.DataFrame(data = gen_masc, columns = ['Valor']).median().map(\"${:.2f}\".format)#\n",
    "        masc_sum = pd.DataFrame(data = gen_masc, columns = ['Valor']).sum()\n",
    "        masc_compras = pd.DataFrame(data = gen_masc, columns= ['Valor']).count()\n",
    "        fem_media = pd.DataFrame(data = gen_fem, columns = ['Valor']).median()\n",
    "        fem_sum = pd.DataFrame(data = gen_fem, columns = ['Valor']).sum()\n",
    "        fem_compras = pd.DataFrame(data = gen_fem, columns= ['Valor']).count()\n",
    "        result = pd.DataFrame(data = {'Masculino':[masc_media, masc_sum, masc_compras],\n",
    "                                      'Feminino': [fem_media,fem_sum, fem_compras]} , \n",
    "                                       index= ['Média', 'Soma', 'Total de Compras'])\n",
    "        display(result)##lebrete: descobrir como retirar o texto dtype, tentar map ou .format\n",
    "        #data munging\n",
    "    analises()"
   ]
  },
  {
   "cell_type": "code",
   "execution_count": 63,
   "metadata": {},
   "outputs": [
    {
     "data": {
      "text/html": [
       "<div>\n",
       "<style scoped>\n",
       "    .dataframe tbody tr th:only-of-type {\n",
       "        vertical-align: middle;\n",
       "    }\n",
       "\n",
       "    .dataframe tbody tr th {\n",
       "        vertical-align: top;\n",
       "    }\n",
       "\n",
       "    .dataframe thead th {\n",
       "        text-align: right;\n",
       "    }\n",
       "</style>\n",
       "<table border=\"1\" class=\"dataframe\">\n",
       "  <thead>\n",
       "    <tr style=\"text-align: right;\">\n",
       "      <th></th>\n",
       "      <th>Masculino</th>\n",
       "      <th>Feminino</th>\n",
       "    </tr>\n",
       "  </thead>\n",
       "  <tbody>\n",
       "    <tr>\n",
       "      <th>Média</th>\n",
       "      <td>Valor    $2.91\n",
       "dtype: object</td>\n",
       "      <td>Valor    2.615\n",
       "dtype: float64</td>\n",
       "    </tr>\n",
       "    <tr>\n",
       "      <th>Soma</th>\n",
       "      <td>Valor    1867.68\n",
       "dtype: float64</td>\n",
       "      <td>Valor    382.91\n",
       "dtype: float64</td>\n",
       "    </tr>\n",
       "    <tr>\n",
       "      <th>Total de Compras</th>\n",
       "      <td>Valor    633\n",
       "dtype: int64</td>\n",
       "      <td>Valor    136\n",
       "dtype: int64</td>\n",
       "    </tr>\n",
       "  </tbody>\n",
       "</table>\n",
       "</div>"
      ],
      "text/plain": [
       "                                        Masculino  \\\n",
       "Média                Valor    $2.91\n",
       "dtype: object   \n",
       "Soma              Valor    1867.68\n",
       "dtype: float64   \n",
       "Total de Compras        Valor    633\n",
       "dtype: int64   \n",
       "\n",
       "                                        Feminino  \n",
       "Média              Valor    2.615\n",
       "dtype: float64  \n",
       "Soma              Valor    382.91\n",
       "dtype: float64  \n",
       "Total de Compras       Valor    136\n",
       "dtype: int64  "
      ]
     },
     "metadata": {},
     "output_type": "display_data"
    }
   ],
   "source": [
    "genero()"
   ]
  },
  {
   "cell_type": "markdown",
   "metadata": {},
   "source": [
    "# Identifique os 5 principais compradores pelo valor total de compra e, em seguida, liste (em uma tabela):\n",
    "\n",
    "* Login\n",
    "* Número de compras\n",
    "* Preço médio de compra\n",
    "* Valor Total de Compra\n",
    "* Itens mais populares"
   ]
  },
  {
   "cell_type": "code",
   "execution_count": 90,
   "metadata": {},
   "outputs": [
    {
     "data": {
      "text/html": [
       "<div>\n",
       "<style scoped>\n",
       "    .dataframe tbody tr th:only-of-type {\n",
       "        vertical-align: middle;\n",
       "    }\n",
       "\n",
       "    .dataframe tbody tr th {\n",
       "        vertical-align: top;\n",
       "    }\n",
       "\n",
       "    .dataframe thead th {\n",
       "        text-align: right;\n",
       "    }\n",
       "</style>\n",
       "<table border=\"1\" class=\"dataframe\">\n",
       "  <thead>\n",
       "    <tr style=\"text-align: right;\">\n",
       "      <th></th>\n",
       "      <th>Total compras</th>\n",
       "      <th>Numero compras</th>\n",
       "      <th>media_compras</th>\n",
       "      <th>Média compras</th>\n",
       "    </tr>\n",
       "  </thead>\n",
       "  <tbody>\n",
       "    <tr>\n",
       "      <th>Adairialis76</th>\n",
       "      <td>2.46</td>\n",
       "      <td>1.0</td>\n",
       "      <td>2.46</td>\n",
       "      <td>NaN</td>\n",
       "    </tr>\n",
       "    <tr>\n",
       "      <th>Aduephos78</th>\n",
       "      <td>6.70</td>\n",
       "      <td>3.0</td>\n",
       "      <td>2.46</td>\n",
       "      <td>NaN</td>\n",
       "    </tr>\n",
       "    <tr>\n",
       "      <th>Aeduera68</th>\n",
       "      <td>5.80</td>\n",
       "      <td>3.0</td>\n",
       "      <td>2.29</td>\n",
       "      <td>NaN</td>\n",
       "    </tr>\n",
       "    <tr>\n",
       "      <th>Aela49</th>\n",
       "      <td>2.46</td>\n",
       "      <td>1.0</td>\n",
       "      <td>2.46</td>\n",
       "      <td>NaN</td>\n",
       "    </tr>\n",
       "  </tbody>\n",
       "</table>\n",
       "</div>"
      ],
      "text/plain": [
       "              Total compras  Numero compras  media_compras Média compras\n",
       "Adairialis76           2.46             1.0           2.46           NaN\n",
       "Aduephos78             6.70             3.0           2.46           NaN\n",
       "Aeduera68              5.80             3.0           2.29           NaN\n",
       "Aela49                 2.46             1.0           2.46           NaN"
      ]
     },
     "execution_count": 90,
     "metadata": {},
     "output_type": "execute_result"
    }
   ],
   "source": [
    "total_compras = compras.groupby([\"Login\"]).sum()[\"Valor\"]\n",
    "media_compras = compras.groupby([\"Login\"]).median()[\"Valor\"] \n",
    "qntd_compras = compras.groupby([\"Login\"]).count()[\"Valor\"]\n",
    "media = total_compras / compras[\"Login\"]\n",
    "\n",
    "tabela = pd.DataFrame({\"Total compras\": total_compras,\n",
    "                           \"Numero compras\": qntd_compras,\n",
    "                           \"media_compras\": media_compras,\n",
    "                           \"Média compras\": media})\n",
    "tabela.head(4)"
   ]
  },
  {
   "cell_type": "markdown",
   "metadata": {},
   "source": [
    "#  Identifique os 5 itens mais populares por contagem de compras e, em seguida, liste (em uma tabela):\n",
    "\n",
    "* ID do item\n",
    "* Nome do item\n",
    "* Número de compras\n",
    "* Preço do item\n",
    "* Valor Total de Compra\n",
    "* Itens mais lucrativos"
   ]
  },
  {
   "cell_type": "code",
   "execution_count": null,
   "metadata": {},
   "outputs": [],
   "source": [
    "# Cálculos básicos\n",
    "user_total = purchase_file.groupby([\"Login\"]).sum()[\"Valor\"].rename(\"Valor Total de Compra\")\n",
    "user_average = purchase_file.groupby([\"Login\"]).mean()[\"Valor\"].rename(\"Valor Médio de Compra\")\n",
    "user_count = purchase_file.groupby([\"Login\"]).count()[\"Valor\"].rename(\"Número de Compras\")\n",
    "\n",
    "# Dataframe para os resultados\n",
    "user_data = pd.DataFrame({\"Valor Total de Compra\": user_total, \"Valor Médio de Compra\": user_average, \"Número de Compras\": user_count})\n",
    "\n",
    "# Data Munging\n",
    "user_data [\"Valor Total de Compra\"] = user_data[\"Valor Total de Compra\"].map(\"${:,.2f}\".format)\n",
    "user_data [\"Valor Médio de Compra\"] = user_data[\"Valor Médio de Compra\"].map(\"${:,.2f}\".format)\n",
    "user_data.sort_values(\"Valor Total de Compra\", ascending=False).head(5)"
   ]
  },
  {
   "cell_type": "markdown",
   "metadata": {},
   "source": [
    "# Identifique os 5 itens mais lucrativos pelo valor total de compra e, em seguida, liste (em uma tabela):\n",
    "\n",
    "* ID do item\n",
    "* Nome do item\n",
    "* Número de compras\n",
    "* Preço do item\n",
    "* Valor Total de Compra"
   ]
  },
  {
   "cell_type": "code",
   "execution_count": null,
   "metadata": {},
   "outputs": [],
   "source": []
  }
 ],
 "metadata": {
  "kernelspec": {
   "display_name": "Python 3.9.12 ('base')",
   "language": "python",
   "name": "python3"
  },
  "language_info": {
   "codemirror_mode": {
    "name": "ipython",
    "version": 3
   },
   "file_extension": ".py",
   "mimetype": "text/x-python",
   "name": "python",
   "nbconvert_exporter": "python",
   "pygments_lexer": "ipython3",
   "version": "3.9.12"
  },
  "orig_nbformat": 4,
  "vscode": {
   "interpreter": {
    "hash": "fb8bbe35ce05a967cc1765cb51a1a815dfdecdfebe5b24f692427b5b8ca49088"
   }
  }
 },
 "nbformat": 4,
 "nbformat_minor": 2
}
