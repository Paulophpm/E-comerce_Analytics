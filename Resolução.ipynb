{
 "cells": [
  {
   "cell_type": "markdown",
   "metadata": {},
   "source": [
    "# Tratamento dos dados"
   ]
  },
  {
   "cell_type": "code",
   "execution_count": 1,
   "metadata": {},
   "outputs": [],
   "source": [
    "#imports\n",
    "import pandas as pd\n",
    "import matplotlib.pyplot as plt\n",
    "import seaborn as sns"
   ]
  },
  {
   "cell_type": "code",
   "execution_count": 2,
   "metadata": {},
   "outputs": [
    {
     "data": {
      "text/html": [
       "<div>\n",
       "<style scoped>\n",
       "    .dataframe tbody tr th:only-of-type {\n",
       "        vertical-align: middle;\n",
       "    }\n",
       "\n",
       "    .dataframe tbody tr th {\n",
       "        vertical-align: top;\n",
       "    }\n",
       "\n",
       "    .dataframe thead th {\n",
       "        text-align: right;\n",
       "    }\n",
       "</style>\n",
       "<table border=\"1\" class=\"dataframe\">\n",
       "  <thead>\n",
       "    <tr style=\"text-align: right;\">\n",
       "      <th></th>\n",
       "      <th>Login</th>\n",
       "      <th>Idade</th>\n",
       "      <th>Sexo</th>\n",
       "      <th>Item ID</th>\n",
       "      <th>Nome do Item</th>\n",
       "      <th>Valor</th>\n",
       "    </tr>\n",
       "  </thead>\n",
       "  <tbody>\n",
       "    <tr>\n",
       "      <th>0</th>\n",
       "      <td>Aelalis34</td>\n",
       "      <td>38</td>\n",
       "      <td>Masculino</td>\n",
       "      <td>165</td>\n",
       "      <td>Bone Crushing Silver Skewer</td>\n",
       "      <td>3.37</td>\n",
       "    </tr>\n",
       "    <tr>\n",
       "      <th>1</th>\n",
       "      <td>Eolo46</td>\n",
       "      <td>21</td>\n",
       "      <td>Masculino</td>\n",
       "      <td>119</td>\n",
       "      <td>Stormbringer, Dark Blade of Ending Misery</td>\n",
       "      <td>2.32</td>\n",
       "    </tr>\n",
       "    <tr>\n",
       "      <th>2</th>\n",
       "      <td>Assastnya25</td>\n",
       "      <td>34</td>\n",
       "      <td>Masculino</td>\n",
       "      <td>174</td>\n",
       "      <td>Primitive Blade</td>\n",
       "      <td>2.46</td>\n",
       "    </tr>\n",
       "    <tr>\n",
       "      <th>3</th>\n",
       "      <td>Pheusrical25</td>\n",
       "      <td>21</td>\n",
       "      <td>Masculino</td>\n",
       "      <td>92</td>\n",
       "      <td>Final Critic</td>\n",
       "      <td>1.36</td>\n",
       "    </tr>\n",
       "    <tr>\n",
       "      <th>4</th>\n",
       "      <td>Aela59</td>\n",
       "      <td>23</td>\n",
       "      <td>Masculino</td>\n",
       "      <td>63</td>\n",
       "      <td>Stormfury Mace</td>\n",
       "      <td>1.27</td>\n",
       "    </tr>\n",
       "  </tbody>\n",
       "</table>\n",
       "</div>"
      ],
      "text/plain": [
       "          Login  Idade       Sexo  Item ID  \\\n",
       "0     Aelalis34     38  Masculino      165   \n",
       "1        Eolo46     21  Masculino      119   \n",
       "2   Assastnya25     34  Masculino      174   \n",
       "3  Pheusrical25     21  Masculino       92   \n",
       "4        Aela59     23  Masculino       63   \n",
       "\n",
       "                                Nome do Item  Valor  \n",
       "0                Bone Crushing Silver Skewer   3.37  \n",
       "1  Stormbringer, Dark Blade of Ending Misery   2.32  \n",
       "2                            Primitive Blade   2.46  \n",
       "3                               Final Critic   1.36  \n",
       "4                             Stormfury Mace   1.27  "
      ]
     },
     "execution_count": 2,
     "metadata": {},
     "output_type": "execute_result"
    }
   ],
   "source": [
    "# Carregando os arquivos e salvando em um dataframe\n",
    "file = \"dados_compras.json\"\n",
    "compras = pd.read_json(file, orient = \"records\")\n",
    "compras.head()"
   ]
  },
  {
   "cell_type": "code",
   "execution_count": null,
   "metadata": {},
   "outputs": [],
   "source": [
    "#verificar estatísticas das colunas do dataframe (para ser utilizado mais tarde para entedner se os futuros dados obitos fazem sentido)\n",
    "print(compras.describe())"
   ]
  },
  {
   "cell_type": "markdown",
   "metadata": {},
   "source": [
    "# Informações dos Consumidores\n",
    "* Número total de consumidores\n",
    "* Número total de vendas"
   ]
  },
  {
   "cell_type": "code",
   "execution_count": null,
   "metadata": {},
   "outputs": [],
   "source": [
    "#verificar o total de vendas e de consumidores (se há mais de uma venda por consumidor)\n",
    "demografico = compras.loc[:, [\"Login\", \"Sexo\",\"Idade\"]]\n",
    "demografico.head()"
   ]
  },
  {
   "cell_type": "code",
   "execution_count": null,
   "metadata": {},
   "outputs": [],
   "source": [
    "players = demografico.drop_duplicates()\n",
    "players"
   ]
  },
  {
   "cell_type": "markdown",
   "metadata": {},
   "source": [
    "# Análise Geral de Compras\n",
    "* Número de itens exclusivos\n",
    "* Preço médio de compra\n",
    "* Número total de compras\n",
    "* Rendimento total"
   ]
  },
  {
   "cell_type": "code",
   "execution_count": 43,
   "metadata": {},
   "outputs": [
    {
     "data": {
      "text/html": [
       "<div>\n",
       "<style scoped>\n",
       "    .dataframe tbody tr th:only-of-type {\n",
       "        vertical-align: middle;\n",
       "    }\n",
       "\n",
       "    .dataframe tbody tr th {\n",
       "        vertical-align: top;\n",
       "    }\n",
       "\n",
       "    .dataframe thead th {\n",
       "        text-align: right;\n",
       "    }\n",
       "</style>\n",
       "<table border=\"1\" class=\"dataframe\">\n",
       "  <thead>\n",
       "    <tr style=\"text-align: right;\">\n",
       "      <th></th>\n",
       "      <th>Media de Vendas</th>\n",
       "      <th>Total de Vendas</th>\n",
       "      <th>Numero de Vendas</th>\n",
       "      <th>Itens Únicos</th>\n",
       "    </tr>\n",
       "  </thead>\n",
       "  <tbody>\n",
       "    <tr>\n",
       "      <th>0</th>\n",
       "      <td>$2.93</td>\n",
       "      <td>$2,286.33</td>\n",
       "      <td>780</td>\n",
       "      <td>183</td>\n",
       "    </tr>\n",
       "  </tbody>\n",
       "</table>\n",
       "</div>"
      ],
      "text/plain": [
       "  Media de Vendas Total de Vendas Numero de Vendas Itens Únicos\n",
       "0           $2.93       $2,286.33              780          183"
      ]
     },
     "execution_count": 43,
     "metadata": {},
     "output_type": "execute_result"
    }
   ],
   "source": [
    "media_vendas = compras['Valor'].mean()\n",
    "total_vendas = compras['Valor'].sum()\n",
    "numero_vendas = compras['Valor'].count()\n",
    "item_unicos = len(compras[\"Item ID\"].unique())#contagem de str\n",
    "\n",
    "vendas = pd.DataFrame({\"Media de Vendas\": [media_vendas],# valores escalares entre []\n",
    "                      \"Total de Vendas\": total_vendas,  \n",
    "                      \"Numero de Vendas\": numero_vendas,\n",
    "                      \"Itens Únicos\": item_unicos})\n",
    "\n",
    "vendas[\"Media de Vendas\"] = vendas[\"Media de Vendas\"].map(\"${:,.2f}\".format)\n",
    "vendas[\"Total de Vendas\"] = vendas[\"Total de Vendas\"].map(\"${:,.2f}\".format)\n",
    "vendas[\"Numero de Vendas\"] = vendas[\"Numero de Vendas\"].map(\"{:}\".format)\n",
    "vendas[\"Itens Únicos\"] = vendas[\"Itens Únicos\"].map(\"{:}\".format)\n",
    "vendas\n"
   ]
  },
  {
   "cell_type": "markdown",
   "metadata": {},
   "source": [
    "# Informações Demográficas Por Gênero\n",
    "\n",
    "* Porcentagem e contagem de compradores masculinos\n",
    "* Porcentagem e contagem de compradores do sexo feminino\n",
    "* Porcentagem e contagem de outros / não divulgados"
   ]
  },
  {
   "cell_type": "code",
   "execution_count": 42,
   "metadata": {},
   "outputs": [
    {
     "data": {
      "text/html": [
       "<div>\n",
       "<style scoped>\n",
       "    .dataframe tbody tr th:only-of-type {\n",
       "        vertical-align: middle;\n",
       "    }\n",
       "\n",
       "    .dataframe tbody tr th {\n",
       "        vertical-align: top;\n",
       "    }\n",
       "\n",
       "    .dataframe thead th {\n",
       "        text-align: right;\n",
       "    }\n",
       "</style>\n",
       "<table border=\"1\" class=\"dataframe\">\n",
       "  <thead>\n",
       "    <tr style=\"text-align: right;\">\n",
       "      <th></th>\n",
       "      <th>Quantidade</th>\n",
       "      <th>%</th>\n",
       "    </tr>\n",
       "  </thead>\n",
       "  <tbody>\n",
       "    <tr>\n",
       "      <th>Masculino</th>\n",
       "      <td>633</td>\n",
       "      <td>81.15%</td>\n",
       "    </tr>\n",
       "    <tr>\n",
       "      <th>Feminino</th>\n",
       "      <td>136</td>\n",
       "      <td>17.44%</td>\n",
       "    </tr>\n",
       "    <tr>\n",
       "      <th>Outros / Não Divulgado</th>\n",
       "      <td>11</td>\n",
       "      <td>1.41%</td>\n",
       "    </tr>\n",
       "  </tbody>\n",
       "</table>\n",
       "</div>"
      ],
      "text/plain": [
       "                        Quantidade       %\n",
       "Masculino                      633  81.15%\n",
       "Feminino                       136  17.44%\n",
       "Outros / Não Divulgado          11   1.41%"
      ]
     },
     "execution_count": 42,
     "metadata": {},
     "output_type": "execute_result"
    }
   ],
   "source": [
    "masc = len(compras.loc[compras['Sexo'] == 'Masculino'])\n",
    "fem = len(compras.loc[compras[\"Sexo\"] == 'Feminino'])\n",
    "others = len(compras.loc[compras['Sexo'] == 'Outro / Não Divulgado'])\n",
    "total_sex = compras['Sexo'].count()\n",
    "masc_por = (masc / total_sex)*100\n",
    "fem_por = (fem / total_sex)*100\n",
    "others_por = (others / total_sex)*100\n",
    "generos = pd.DataFrame({\"Quantidade\": [masc, fem, others],\n",
    "                        \"%\": [masc_por,fem_por, others_por]}, \n",
    "                        index= [\"Masculino\", \"Feminino\", \"Outros / Não Divulgado\"])\n",
    "generos['%'] = generos['%'].map(\"{:.2f}%\".format)\n",
    "generos"
   ]
  },
  {
   "cell_type": "markdown",
   "metadata": {},
   "source": [
    "# Análise de Compras Por Gênero \n",
    "\n",
    "* Número de compras\n",
    "* Preço médio de compra\n",
    "* Valor Total de Compra\n",
    "* Compras for faixa etária"
   ]
  },
  {
   "cell_type": "code",
   "execution_count": 9,
   "metadata": {},
   "outputs": [
    {
     "data": {
      "text/html": [
       "<div>\n",
       "<style scoped>\n",
       "    .dataframe tbody tr th:only-of-type {\n",
       "        vertical-align: middle;\n",
       "    }\n",
       "\n",
       "    .dataframe tbody tr th {\n",
       "        vertical-align: top;\n",
       "    }\n",
       "\n",
       "    .dataframe thead th {\n",
       "        text-align: right;\n",
       "    }\n",
       "</style>\n",
       "<table border=\"1\" class=\"dataframe\">\n",
       "  <thead>\n",
       "    <tr style=\"text-align: right;\">\n",
       "      <th></th>\n",
       "      <th>Total de Compras</th>\n",
       "      <th>Preço Médio</th>\n",
       "      <th>Quantidade de Compras</th>\n",
       "    </tr>\n",
       "    <tr>\n",
       "      <th>Sexo</th>\n",
       "      <th></th>\n",
       "      <th></th>\n",
       "      <th></th>\n",
       "    </tr>\n",
       "  </thead>\n",
       "  <tbody>\n",
       "    <tr>\n",
       "      <th>Feminino</th>\n",
       "      <td>$ 382.91</td>\n",
       "      <td>$ 2.82</td>\n",
       "      <td>136</td>\n",
       "    </tr>\n",
       "    <tr>\n",
       "      <th>Masculino</th>\n",
       "      <td>$ 1,867.68</td>\n",
       "      <td>$ 2.95</td>\n",
       "      <td>633</td>\n",
       "    </tr>\n",
       "    <tr>\n",
       "      <th>Outro / Não Divulgado</th>\n",
       "      <td>$ 35.74</td>\n",
       "      <td>$ 3.25</td>\n",
       "      <td>11</td>\n",
       "    </tr>\n",
       "  </tbody>\n",
       "</table>\n",
       "</div>"
      ],
      "text/plain": [
       "                      Total de Compras Preço Médio  Quantidade de Compras\n",
       "Sexo                                                                     \n",
       "Feminino                      $ 382.91      $ 2.82                    136\n",
       "Masculino                   $ 1,867.68      $ 2.95                    633\n",
       "Outro / Não Divulgado          $ 35.74      $ 3.25                     11"
      ]
     },
     "execution_count": 9,
     "metadata": {},
     "output_type": "execute_result"
    }
   ],
   "source": [
    "total = compras.groupby(['Sexo']).sum()['Valor'].map(\"$ {:,.2f}\".format)\n",
    "media = compras.groupby(['Sexo']).mean()['Valor'].map(\"$ {:.2f}\".format)\n",
    "qntd = compras.groupby(['Sexo']).count()['Valor']\n",
    "genero = pd.DataFrame({\"Total de Compras\": total,\n",
    "                        \"Preço Médio\": media,\n",
    "                        \"Quantidade de Compras\": qntd})\n",
    "genero\n"
   ]
  },
  {
   "cell_type": "code",
   "execution_count": null,
   "metadata": {},
   "outputs": [],
   "source": [
    "#faixa etária ##lemberet tentar groupyby com listas das idades\n",
    "total = compras.groupby(['Sexo']).sum()['Valor'].map(\"$ {:,.2f}\".format)\n",
    "media = compras.groupby(['Sexo']).mean()['Valor'].map(\"$ {:.2f}\".format)\n",
    "qntd = compras.groupby(['Sexo']).count()['Valor']\n",
    "genero = pd.DataFrame({\"Total de Compras\": total,\n",
    "                        \"Preço Médio\": media,\n",
    "                        \"Quantidade de Compras\": qntd})\n",
    "genero\n"
   ]
  },
  {
   "cell_type": "markdown",
   "metadata": {},
   "source": [
    "# Identifique os 5 principais compradores pelo valor total de compra e, em seguida, liste (em uma tabela):\n",
    "\n",
    "* Login\n",
    "* Número de compras\n",
    "* Preço médio de compra\n",
    "* Valor Total de Compra\n",
    "* Itens mais populares"
   ]
  },
  {
   "cell_type": "code",
   "execution_count": null,
   "metadata": {},
   "outputs": [],
   "source": [
    "total_compras = compras.groupby([\"Login\"]).sum()[\"Valor\"].map(\"${:.2f}\".format)\n",
    "media_compras = compras.groupby([\"Login\"]).mean()[\"Valor\"].map(\"${:.2f}\".format) \n",
    "qntd_compras = compras.groupby([\"Login\"]).count()[\"Valor\"]\n",
    "\n",
    "tabela = pd.DataFrame({\"Total Compras\": total_compras,\n",
    "                       \"Numero Compras\": qntd_compras,\n",
    "                       \"Media Compras\": media_compras,})\n",
    "tabela.sort_values(\"Total Compras\", ascending=False).head(5)##inserir nome da coluna a ser ordenada"
   ]
  },
  {
   "cell_type": "markdown",
   "metadata": {},
   "source": [
    "#  Identifique os 5 itens mais populares por contagem de compras e, em seguida, liste (em uma tabela):\n",
    "\n",
    "* ID do item\n",
    "* Nome do item\n",
    "* Número de compras\n",
    "* Preço do item\n",
    "* Valor Total de Compra\n",
    "* Itens mais lucrativos"
   ]
  },
  {
   "cell_type": "code",
   "execution_count": 26,
   "metadata": {},
   "outputs": [
    {
     "data": {
      "text/plain": [
       "array(['Bone Crushing Silver Skewer',\n",
       "       'Stormbringer, Dark Blade of Ending Misery', 'Primitive Blade',\n",
       "       'Final Critic', 'Stormfury Mace', 'Sleepwalker', 'Mercenary Sabre',\n",
       "       'Interrogator, Blood Blade of the Queen',\n",
       "       'Ghost Reaver, Longsword of Magic',\n",
       "       'Expiration, Warscythe Of Lost Worlds',\n",
       "       'Despair, Favor of Due Diligence', 'Alpha, Reach of Ending Hope',\n",
       "       'Dreamkiss', 'Piety, Guardian of Riddles', 'Bonecarvin Battle Axe',\n",
       "       'Blood-Forged Skeletal Spine', \"Twilight's Carver\",\n",
       "       'Lightning, Etcher of the King', 'Celeste',\n",
       "       'Winterthorn, Defender of Shifting Worlds',\n",
       "       'Glimmer, Ender of the Moon', 'Phantomlight', 'Brimstone',\n",
       "       \"Dragon's Greatsword\", 'Conqueror Adamantite Mace', 'Persuasion',\n",
       "       'Crying Steel Sickle', 'The Oculus, Token of Lost Worlds',\n",
       "       'Glinting Glass Edge', 'War-Forged Gold Deflector',\n",
       "       'Shadow Strike, Glory of Ending Hope',\n",
       "       'Rage, Legacy of the Lone Victor', 'Betrayer', 'Serenity',\n",
       "       'Scalpel', 'Hero Cane', 'Thorn, Satchel of Dark Souls',\n",
       "       'Venom Claymore', 'Storm-Weaver, Slayer of Inception',\n",
       "       'Malificent Bag', 'Agatha', 'Lazarus, Terror of the Earth',\n",
       "       'Ritual Mace', 'Severance', 'Orenmir', 'Endbringer', 'Striker',\n",
       "       'Trickster', 'Retribution Axe', 'Verdict', 'Stormfury Lantern',\n",
       "       'Betrayal, Whisper of Grieving Widows',\n",
       "       'Flux, Destroyer of Due Diligence', 'Azurewrath',\n",
       "       'Undead Crusader', 'Lifebender',\n",
       "       'The Void, Vengeance of Dark Magic',\n",
       "       'Darkheart, Butcher of the Champion', 'Suspension',\n",
       "       'Unending Tyranny', 'Eternal Cleaver',\n",
       "       'Hailstorm Shadowsteel Scythe', 'Deluge, Edge of the West',\n",
       "       'Crucifer', 'Blood Infused Guardian',\n",
       "       'Blazeguard, Reach of Eternity', 'Woeful Adamantite Claymore',\n",
       "       'Hopeless Ebon Dualblade', 'Deathraze', 'Darkheart',\n",
       "       'Extraction, Quickblade Of Trembling Hands', 'Blade of the Grave',\n",
       "       'Malice, Legacy of the Queen', \"Reaper's Toll\", 'Netherbane',\n",
       "       'Alpha', \"Misery's End\", 'Singed Scalpel', 'Stormcaller',\n",
       "       'Mercy, Katana of Dismay', 'Stormfury Longsword',\n",
       "       'Vindictive Glass Edge', 'Spectral Diamond Doomblade',\n",
       "       'Heartless Bone Dualblade', 'The Decapitator',\n",
       "       'Thorn, Conqueror of the Corrupted', 'Arcane Gem', 'Avenger',\n",
       "       'Vengeance Cleaver', 'Torchlight, Bond of Storms',\n",
       "       'Yearning Crusher', 'Exiled Mithril Longsword', 'Dawn',\n",
       "       'Piece Maker', 'Whistling Mithril Warblade', 'Massacre',\n",
       "       'Fate, Vengeance of Eternal Justice',\n",
       "       'Tranquility, Razor of Black Magic', 'Dawne', 'Demise',\n",
       "       'Possessed Core', \"Freak's Bite, Favor of Holy Might\",\n",
       "       'Riddle, Tribute of Ended Dreams', 'Hatred', 'Victor Iron Spikes',\n",
       "       'Blindscythe', 'Worldbreaker', 'Warped Fetish', 'Mourning Blade',\n",
       "       'Splitter, Foe Of Subtlety', 'Splinter', 'Toothpick',\n",
       "       'Swan Song, Gouger Of Terror', \"Hope's End\",\n",
       "       'Blazefury, Protector of Delusions', 'Shadowsteel',\n",
       "       'Apocalyptic Battlescythe', 'Wolf, Promise of the Moonwalker',\n",
       "       'Spectral Bone Axe', 'Brutality Ivory Warmace',\n",
       "       'Frenzied Scimitar', 'Aetherius, Boon of the Blessed',\n",
       "       'Relentless Iron Skewer', \"Warmonger, Gift of Suffering's End\",\n",
       "       'Heartseeker, Reaver of Souls',\n",
       "       'Hellreaver, Heirloom of Inception', 'Devine', 'Feral Katana',\n",
       "       'Spada, Etcher of Hatred', 'Renewed Skeletal Katana', 'Ragnarok',\n",
       "       'Fury', 'Orbit', 'Fiery Glass Crusader', 'Wolf', 'Abyssal Shard',\n",
       "       'Warped Diamond Crusader', 'Purgatory, Gem of Regret',\n",
       "       'Second Chance', 'Soul Infused Crystal', 'Chaos, Ender of the End',\n",
       "       \"Winter's Bite\", 'Yearning Mageblade',\n",
       "       'Heartstriker, Legacy of the Light', 'Alpha, Oath of Zeal',\n",
       "       'Emberling, Defender of Delusions', \"Gladiator's Glaive\",\n",
       "       'Singed Onyx Warscythe', 'Fusion Pummel',\n",
       "       'Deadline, Voice Of Subtlety', 'Curved Axe',\n",
       "       'Haunted Bronzed Bludgeon', 'Warped Iron Scimitar',\n",
       "       'Thirsty Iron Reaver', 'Foul Titanium Battle Axe', 'Amnesia',\n",
       "       'Souleater', 'Restored Bauble',\n",
       "       'Celeste, Incarnation of the Corrupted', \"Faith's Scimitar\",\n",
       "       'Frenzy, Defender of the Harvest',\n",
       "       'Oathbreaker, Spellblade of Trials', 'Nirvana',\n",
       "       \"Solitude's Reaver\", 'Exiled Doomblade', 'Rusty Skull',\n",
       "       'Thunderfury Scimitar', 'Putrid Fan',\n",
       "       'Pursuit, Cudgel of Necromancy',\n",
       "       'Sun Strike, Jaws of Twisted Visions',\n",
       "       'Ghastly Adamantite Protector', 'Dreamsong', 'Unholy Wand',\n",
       "       'Righteous Might', 'Oathbreaker, Last Hope of the Breaking Storm',\n",
       "       'Soul-Forged Steel Shortsword', 'Downfall, Scalpel Of The Emperor',\n",
       "       'Foul Edge', \"Bloodlord's Fetish\"], dtype=object)"
      ]
     },
     "execution_count": 26,
     "metadata": {},
     "output_type": "execute_result"
    }
   ],
   "source": [
    "items = compras['Nome do Item'].drop_duplicates().unique()\n",
    "items"
   ]
  },
  {
   "cell_type": "code",
   "execution_count": null,
   "metadata": {},
   "outputs": [],
   "source": [
    "# Cálculos básicos\n",
    "item_total = items.groupby([\"Nome do Item\"]).sum()[\"Valor\"]\n",
    "item_medio = items.groupby([\"Nome do Item\"]).mean()[\"Valor\"]\n",
    "item_qntd = items.groupby([\"Nome do Item\"]).count()[\"Valor\"]\n",
    "\n",
    "# Dataframe para os resultados\n",
    "table = pd.DataFrame({\"Valor Total de Compra\": [item_total],\n",
    "                          \"Valor Médio de Compra\": [item_medio],\n",
    "                          \"Número de Compras\": [item_qntd]})\n",
    "\n",
    "table.sort_values(\"Valor Total de Compra\", ascending=True).head(5)"
   ]
  },
  {
   "cell_type": "markdown",
   "metadata": {},
   "source": [
    "# Identifique os 5 itens mais lucrativos pelo valor total de compra e, em seguida, liste (em uma tabela):\n",
    "\n",
    "* ID do item\n",
    "* Nome do item\n",
    "* Número de compras\n",
    "* Preço do item\n",
    "* Valor Total de Compra"
   ]
  },
  {
   "cell_type": "code",
   "execution_count": null,
   "metadata": {},
   "outputs": [],
   "source": []
  }
 ],
 "metadata": {
  "kernelspec": {
   "display_name": "Python 3.9.12 ('base')",
   "language": "python",
   "name": "python3"
  },
  "language_info": {
   "codemirror_mode": {
    "name": "ipython",
    "version": 3
   },
   "file_extension": ".py",
   "mimetype": "text/x-python",
   "name": "python",
   "nbconvert_exporter": "python",
   "pygments_lexer": "ipython3",
   "version": "3.9.12"
  },
  "orig_nbformat": 4,
  "vscode": {
   "interpreter": {
    "hash": "fb8bbe35ce05a967cc1765cb51a1a815dfdecdfebe5b24f692427b5b8ca49088"
   }
  }
 },
 "nbformat": 4,
 "nbformat_minor": 2
}
