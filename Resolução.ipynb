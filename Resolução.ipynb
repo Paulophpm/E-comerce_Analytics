{
 "cells": [
  {
   "cell_type": "markdown",
   "metadata": {},
   "source": [
    "# Tratamento dos dados"
   ]
  },
  {
   "cell_type": "code",
   "execution_count": 25,
   "metadata": {},
   "outputs": [],
   "source": [
    "#imports\n",
    "from pandas import Series\n",
    "import pandas as pd\n",
    "import numpy as np\n",
    "import matplotlib.pyplot as plt\n",
    "import seaborn as sns\n",
    "#from sklearn.feature_extraction.text import CountVectorizer"
   ]
  },
  {
   "cell_type": "code",
   "execution_count": 26,
   "metadata": {},
   "outputs": [
    {
     "data": {
      "text/html": [
       "<div>\n",
       "<style scoped>\n",
       "    .dataframe tbody tr th:only-of-type {\n",
       "        vertical-align: middle;\n",
       "    }\n",
       "\n",
       "    .dataframe tbody tr th {\n",
       "        vertical-align: top;\n",
       "    }\n",
       "\n",
       "    .dataframe thead th {\n",
       "        text-align: right;\n",
       "    }\n",
       "</style>\n",
       "<table border=\"1\" class=\"dataframe\">\n",
       "  <thead>\n",
       "    <tr style=\"text-align: right;\">\n",
       "      <th></th>\n",
       "      <th>Login</th>\n",
       "      <th>Idade</th>\n",
       "      <th>Sexo</th>\n",
       "      <th>Item ID</th>\n",
       "      <th>Nome do Item</th>\n",
       "      <th>Valor</th>\n",
       "    </tr>\n",
       "  </thead>\n",
       "  <tbody>\n",
       "    <tr>\n",
       "      <th>0</th>\n",
       "      <td>Aelalis34</td>\n",
       "      <td>38</td>\n",
       "      <td>Masculino</td>\n",
       "      <td>165</td>\n",
       "      <td>Bone Crushing Silver Skewer</td>\n",
       "      <td>3.37</td>\n",
       "    </tr>\n",
       "    <tr>\n",
       "      <th>1</th>\n",
       "      <td>Eolo46</td>\n",
       "      <td>21</td>\n",
       "      <td>Masculino</td>\n",
       "      <td>119</td>\n",
       "      <td>Stormbringer, Dark Blade of Ending Misery</td>\n",
       "      <td>2.32</td>\n",
       "    </tr>\n",
       "    <tr>\n",
       "      <th>2</th>\n",
       "      <td>Assastnya25</td>\n",
       "      <td>34</td>\n",
       "      <td>Masculino</td>\n",
       "      <td>174</td>\n",
       "      <td>Primitive Blade</td>\n",
       "      <td>2.46</td>\n",
       "    </tr>\n",
       "    <tr>\n",
       "      <th>3</th>\n",
       "      <td>Pheusrical25</td>\n",
       "      <td>21</td>\n",
       "      <td>Masculino</td>\n",
       "      <td>92</td>\n",
       "      <td>Final Critic</td>\n",
       "      <td>1.36</td>\n",
       "    </tr>\n",
       "    <tr>\n",
       "      <th>4</th>\n",
       "      <td>Aela59</td>\n",
       "      <td>23</td>\n",
       "      <td>Masculino</td>\n",
       "      <td>63</td>\n",
       "      <td>Stormfury Mace</td>\n",
       "      <td>1.27</td>\n",
       "    </tr>\n",
       "  </tbody>\n",
       "</table>\n",
       "</div>"
      ],
      "text/plain": [
       "          Login  Idade       Sexo  Item ID  \\\n",
       "0     Aelalis34     38  Masculino      165   \n",
       "1        Eolo46     21  Masculino      119   \n",
       "2   Assastnya25     34  Masculino      174   \n",
       "3  Pheusrical25     21  Masculino       92   \n",
       "4        Aela59     23  Masculino       63   \n",
       "\n",
       "                                Nome do Item  Valor  \n",
       "0                Bone Crushing Silver Skewer   3.37  \n",
       "1  Stormbringer, Dark Blade of Ending Misery   2.32  \n",
       "2                            Primitive Blade   2.46  \n",
       "3                               Final Critic   1.36  \n",
       "4                             Stormfury Mace   1.27  "
      ]
     },
     "execution_count": 26,
     "metadata": {},
     "output_type": "execute_result"
    }
   ],
   "source": [
    "# Carregando os arquivos e salvando em um dataframe\n",
    "load_file = \"dados_compras.json\"\n",
    "purchase_file = pd.read_json(load_file, orient = \"records\")\n",
    "purchase_file.head()"
   ]
  },
  {
   "cell_type": "code",
   "execution_count": 27,
   "metadata": {},
   "outputs": [
    {
     "data": {
      "text/plain": [
       "pandas.core.frame.DataFrame"
      ]
     },
     "execution_count": 27,
     "metadata": {},
     "output_type": "execute_result"
    }
   ],
   "source": [
    "#verificar se foi criado a tabela\n",
    "type(purchase_file)"
   ]
  },
  {
   "cell_type": "code",
   "execution_count": 28,
   "metadata": {},
   "outputs": [
    {
     "data": {
      "text/plain": [
       "(780, 6)"
      ]
     },
     "execution_count": 28,
     "metadata": {},
     "output_type": "execute_result"
    }
   ],
   "source": [
    "# verificar a quantidade de linhas e da colunas do dataframe\n",
    "purchase_file.shape"
   ]
  },
  {
   "cell_type": "code",
   "execution_count": null,
   "metadata": {},
   "outputs": [],
   "source": [
    "#verificar estatísticas das colunas do dataframe (para ser utilizado mais tarde para entedner se os futuros dados obitos fazem sentido)\n",
    "print(purchase_file.describe())"
   ]
  },
  {
   "cell_type": "markdown",
   "metadata": {},
   "source": [
    "# Informações dos Consumidores\n",
    "* Número total de consumidores\n",
    "* Número total de vendas"
   ]
  },
  {
   "cell_type": "code",
   "execution_count": 30,
   "metadata": {},
   "outputs": [
    {
     "name": "stdout",
     "output_type": "stream",
     "text": [
      "A quantidade total de vendas foi de 780 e o total de consumidores é de 573 consumidores \n"
     ]
    }
   ],
   "source": [
    "#verificar o total de vendas e de consumidores (se há mais de uma venda por consumidor)\n",
    "total_vendas = purchase_file['Login'].count()\n",
    "total_consumidores = purchase_file['Login'].drop_duplicates().count()\n",
    "print(\"A quantidade total de vendas foi de %s e o total de consumidores é de %s consumidores \" % (total_vendas, total_consumidores))"
   ]
  },
  {
   "cell_type": "code",
   "execution_count": 31,
   "metadata": {},
   "outputs": [
    {
     "data": {
      "image/png": "[encoded data removed]",
      "text/plain": [
       "<Figure size 144x144 with 1 Axes>"
      ]
     },
     "metadata": {
      "needs_background": "light"
     },
     "output_type": "display_data"
    }
   ],
   "source": [
    "#plotar total de consumidores vs total de vendas em um gráfico de pizza\n",
    "#style\n",
    "plt.style.use('_mpl-gallery-nogrid')\n",
    "#data\n",
    "x = [total_consumidores, total_vendas]\n",
    "#color\n",
    "colors = plt.get_cmap('Blues')(np.linspace(0.2, 0.7, len(x)))\n",
    "#plot\n",
    "#mehorar label\n",
    "label = [ 'Total de Consumidores', 'Total de vendas']\n",
    "fig, ax = plt.subplots()\n",
    "ax.pie(x, colors = colors, radius = 4, center = (5,5), wedgeprops = {\"linewidth\":1, \"edgecolor\":\"white\"}, frame = True, labels= label)\n",
    "\n",
    "ax.set(xlim = (0,10), xticks = np.arange(1,10), ylim= (0,10), yticks = np.arange(1,10))\n",
    "\n",
    "plt.show()"
   ]
  },
  {
   "cell_type": "markdown",
   "metadata": {},
   "source": [
    "# Análise Geral de Compras\n",
    "* Número de itens exclusivos\n",
    "* Preço médio de compra\n",
    "* Número total de compras\n",
    "* Rendimento total"
   ]
  },
  {
   "cell_type": "code",
   "execution_count": null,
   "metadata": {},
   "outputs": [],
   "source": [
    "#verificando se existems valores exclusivos, eliminando duplicatas e contandoas\n",
    "def exclusivos():\n",
    "    def tabelas(): #trazer tabelas separadas de cada coluna sem itens duplicados\n",
    "        tot0 = pd.DataFrame(data = purchase_file['Login']).drop_duplicates()\n",
    "        tot1 = pd.DataFrame(data = purchase_file['Idade']).drop_duplicates()\n",
    "        tot2 = pd.DataFrame(data = purchase_file['Sexo']).drop_duplicates()\n",
    "        tot3 = pd.DataFrame(data = purchase_file['Item ID']).drop_duplicates()\n",
    "        tot4 = pd.DataFrame(data = purchase_file['Nome do Item']).drop_duplicates()\n",
    "        display(tot0, tot1, tot2, tot3, tot4)\n",
    "\n",
    "    def duplicata(): #trazer o resumo do total de valores exclusivos de cada coluna\n",
    "        tot0 =  purchase_file['Login'].drop_duplicates().count()\n",
    "        tot1 =  purchase_file['Idade'].drop_duplicates().count()\n",
    "        tot2 =  purchase_file['Sexo'].drop_duplicates().count()\n",
    "        tot3 =  purchase_file['Item ID'].drop_duplicates().count()\n",
    "        tot4 =  purchase_file['Nome do Item'].drop_duplicates().count()\n",
    "        print({'Login': tot0, 'Idade': tot1, 'Sexo': tot2, 'Item ID': tot3, 'Nome do Item': tot4})\n",
    "    tabelas()\n",
    "    duplicata()\n",
    "exclusivos()\n"
   ]
  },
  {
   "cell_type": "code",
   "execution_count": 33,
   "metadata": {},
   "outputs": [
    {
     "name": "stdout",
     "output_type": "stream",
     "text": [
      " O preço médio das vendas é de R$2.93\n"
     ]
    }
   ],
   "source": [
    "#preço médio das compras\n",
    "def preco_medio():\n",
    "    media_vendas = np.mean(purchase_file['Valor'])\n",
    "    print(f\" O preço médio das vendas é de R${media_vendas:.2f}\")\n",
    "    #O ponto é para indicar que temos um separador decimal;\n",
    "    #O N é o número de casas decimais que vamos ter;\n",
    "    #E o f é para indicar que temos um float, ou seja, um número com casas decimais.\n",
    "preco_medio()"
   ]
  },
  {
   "cell_type": "code",
   "execution_count": 34,
   "metadata": {},
   "outputs": [
    {
     "name": "stdout",
     "output_type": "stream",
     "text": [
      "O rendimento total foi de R$ 2,286.33\n"
     ]
    }
   ],
   "source": [
    "#calculando rendimento total\n",
    "rendimento_total = np.sum(purchase_file['Valor'])\n",
    "print(f\"O rendimento total foi de R$ {rendimento_total:,.2f}\")"
   ]
  },
  {
   "cell_type": "markdown",
   "metadata": {},
   "source": [
    "# Informações Demográficas Por Gênero\n",
    "\n",
    "* Porcentagem e contagem de compradores masculinos\n",
    "* Porcentagem e contagem de compradores do sexo feminino\n",
    "* Porcentagem e contagem de outros / não divulgados"
   ]
  },
  {
   "cell_type": "code",
   "execution_count": 35,
   "metadata": {},
   "outputs": [],
   "source": [
    "def contagem():\n",
    "    masc = len(purchase_file.loc[purchase_file['Sexo'] == 'Masculino'])\n",
    "    fem = len(purchase_file.loc[purchase_file[\"Sexo\"] == 'Feminino'])\n",
    "    others = len(purchase_file.loc[purchase_file['Sexo'] == 'Outro / Não Divulgado'])\n",
    "    print(\"Número de pessoas do sexo masculino: {0} ({1:.2f}%)\".format(masc, (masc / (masc + fem + others))*100))# configurar a visualização de valores\n",
    "    print(\"Número de pessoas do sexo feminino: {0} ({1:.2f}%)\".format(fem, (masc / (masc + fem + others))*100))\n",
    "    print(\"Número de pessoas que não divulgaram: {0} ({1:.2f}%)\".format(others, (masc / (masc + fem + others))*100))"
   ]
  },
  {
   "cell_type": "code",
   "execution_count": 36,
   "metadata": {},
   "outputs": [
    {
     "name": "stdout",
     "output_type": "stream",
     "text": [
      "Número de pessoas do sexo masculino: 633 (81.15%)\n",
      "Número de pessoas do sexo feminino: 136 (81.15%)\n",
      "Número de pessoas que não divulgaram: 11 (81.15%)\n"
     ]
    }
   ],
   "source": [
    "contagem()"
   ]
  },
  {
   "cell_type": "code",
   "execution_count": 37,
   "metadata": {},
   "outputs": [
    {
     "data": {
      "text/plain": [
       "<AxesSubplot:>"
      ]
     },
     "execution_count": 37,
     "metadata": {},
     "output_type": "execute_result"
    },
    {
     "data": {
      "image/png": "[encoded data removed]",
      "text/plain": [
       "<Figure size 144x144 with 1 Axes>"
      ]
     },
     "metadata": {
      "needs_background": "light"
     },
     "output_type": "display_data"
    }
   ],
   "source": [
    "#histograma para visualizar a quantidade de dados\n",
    "# pesquisar alguma gráfico no seaborn\n",
    "purchase_file.Sexo.hist()"
   ]
  },
  {
   "cell_type": "markdown",
   "metadata": {},
   "source": [
    "# Análise de Compras Por Gênero \n",
    "\n",
    "* Número de compras\n",
    "* Preço médio de compra\n",
    "* Valor Total de Compra\n",
    "* Compras for faixa etária"
   ]
  },
  {
   "cell_type": "code",
   "execution_count": 38,
   "metadata": {},
   "outputs": [],
   "source": [
    "#puxar uma séria filtrando apenas o gênero e calcular o preço médio das compras\n",
    "def genero():\n",
    "    gen_masc = purchase_file.loc[purchase_file['Sexo'] == 'Masculino']\n",
    "    gen_fem = purchase_file.loc[purchase_file['Sexo'] == 'Feminino']\n",
    "    def analises():\n",
    "        masc_media = pd.DataFrame(data = gen_masc, columns = ['Valor']).median()\n",
    "        masc_sum = pd.DataFrame(data = gen_masc, columns = ['Valor']).sum()\n",
    "        masc_compras = pd.DataFrame(data = gen_masc, columns= ['Valor']).count()\n",
    "        fem_media = pd.DataFrame(data = gen_fem, columns = ['Valor']).median()\n",
    "        fem_sum = pd.DataFrame(data = gen_fem, columns = ['Valor']).sum()\n",
    "        fem_compras = pd.DataFrame(data = gen_fem, columns= ['Valor']).count()\n",
    "        result = pd.DataFrame(data = {'Masculino':[masc_media, masc_sum, masc_compras],'Feminino': [fem_media,fem_sum, fem_compras]} , index= ['Média', 'Soma', 'Total de Compras'])\n",
    "        display(result) # retirar o texto de objetc\n",
    "    analises()"
   ]
  },
  {
   "cell_type": "code",
   "execution_count": 39,
   "metadata": {},
   "outputs": [
    {
     "data": {
      "text/html": [
       "<div>\n",
       "<style scoped>\n",
       "    .dataframe tbody tr th:only-of-type {\n",
       "        vertical-align: middle;\n",
       "    }\n",
       "\n",
       "    .dataframe tbody tr th {\n",
       "        vertical-align: top;\n",
       "    }\n",
       "\n",
       "    .dataframe thead th {\n",
       "        text-align: right;\n",
       "    }\n",
       "</style>\n",
       "<table border=\"1\" class=\"dataframe\">\n",
       "  <thead>\n",
       "    <tr style=\"text-align: right;\">\n",
       "      <th></th>\n",
       "      <th>Masculino</th>\n",
       "      <th>Feminino</th>\n",
       "    </tr>\n",
       "  </thead>\n",
       "  <tbody>\n",
       "    <tr>\n",
       "      <th>Média</th>\n",
       "      <td>Valor    2.91\n",
       "dtype: float64</td>\n",
       "      <td>Valor    2.615\n",
       "dtype: float64</td>\n",
       "    </tr>\n",
       "    <tr>\n",
       "      <th>Soma</th>\n",
       "      <td>Valor    1867.68\n",
       "dtype: float64</td>\n",
       "      <td>Valor    382.91\n",
       "dtype: float64</td>\n",
       "    </tr>\n",
       "    <tr>\n",
       "      <th>Total de Compras</th>\n",
       "      <td>Valor    633\n",
       "dtype: int64</td>\n",
       "      <td>Valor    136\n",
       "dtype: int64</td>\n",
       "    </tr>\n",
       "  </tbody>\n",
       "</table>\n",
       "</div>"
      ],
      "text/plain": [
       "                                        Masculino  \\\n",
       "Média                Valor    2.91\n",
       "dtype: float64   \n",
       "Soma              Valor    1867.68\n",
       "dtype: float64   \n",
       "Total de Compras        Valor    633\n",
       "dtype: int64   \n",
       "\n",
       "                                        Feminino  \n",
       "Média              Valor    2.615\n",
       "dtype: float64  \n",
       "Soma              Valor    382.91\n",
       "dtype: float64  \n",
       "Total de Compras       Valor    136\n",
       "dtype: int64  "
      ]
     },
     "metadata": {},
     "output_type": "display_data"
    }
   ],
   "source": [
    "genero()# colocar tabelas personalizadas do matplotlib"
   ]
  },
  {
   "cell_type": "markdown",
   "metadata": {},
   "source": [
    "# Identifique os 5 principais compradores pelo valor total de compra e, em seguida, liste (em uma tabela):\n",
    "\n",
    "* Login\n",
    "* Número de compras\n",
    "* Preço médio de compra\n",
    "* Valor Total de Compra\n",
    "* Itens mais populares"
   ]
  },
  {
   "cell_type": "code",
   "execution_count": 40,
   "metadata": {},
   "outputs": [
    {
     "data": {
      "text/plain": [
       "0      3.37\n",
       "1      2.32\n",
       "2      2.46\n",
       "3      1.36\n",
       "4      1.27\n",
       "       ... \n",
       "775    3.62\n",
       "776    1.36\n",
       "777    4.15\n",
       "778    1.72\n",
       "779    3.61\n",
       "Name: Valor, Length: 780, dtype: float64"
      ]
     },
     "execution_count": 40,
     "metadata": {},
     "output_type": "execute_result"
    }
   ],
   "source": [
    "principais = pd.DataFrame(data= purchase_file).groupby(['Login'])[\"Valor\"]\n",
    "principais.head(5)\n"
   ]
  },
  {
   "cell_type": "markdown",
   "metadata": {},
   "source": [
    "#  Identifique os 5 itens mais populares por contagem de compras e, em seguida, liste (em uma tabela):\n",
    "\n",
    "* ID do item\n",
    "* Nome do item\n",
    "* Número de compras\n",
    "* Preço do item\n",
    "* Valor Total de Compra\n",
    "* Itens mais lucrativos"
   ]
  },
  {
   "cell_type": "code",
   "execution_count": 42,
   "metadata": {},
   "outputs": [
    {
     "data": {
      "text/html": [
       "<div>\n",
       "<style scoped>\n",
       "    .dataframe tbody tr th:only-of-type {\n",
       "        vertical-align: middle;\n",
       "    }\n",
       "\n",
       "    .dataframe tbody tr th {\n",
       "        vertical-align: top;\n",
       "    }\n",
       "\n",
       "    .dataframe thead th {\n",
       "        text-align: right;\n",
       "    }\n",
       "</style>\n",
       "<table border=\"1\" class=\"dataframe\">\n",
       "  <thead>\n",
       "    <tr style=\"text-align: right;\">\n",
       "      <th></th>\n",
       "      <th>Valor Total de Compra</th>\n",
       "      <th>Valor Médio de Compra</th>\n",
       "      <th>Número de Compras</th>\n",
       "    </tr>\n",
       "    <tr>\n",
       "      <th>Login</th>\n",
       "      <th></th>\n",
       "      <th></th>\n",
       "      <th></th>\n",
       "    </tr>\n",
       "  </thead>\n",
       "  <tbody>\n",
       "    <tr>\n",
       "      <th>Qarwen67</th>\n",
       "      <td>$9.97</td>\n",
       "      <td>$2.49</td>\n",
       "      <td>4</td>\n",
       "    </tr>\n",
       "    <tr>\n",
       "      <th>Sondim43</th>\n",
       "      <td>$9.38</td>\n",
       "      <td>$3.13</td>\n",
       "      <td>3</td>\n",
       "    </tr>\n",
       "    <tr>\n",
       "      <th>Tillyrin30</th>\n",
       "      <td>$9.19</td>\n",
       "      <td>$3.06</td>\n",
       "      <td>3</td>\n",
       "    </tr>\n",
       "    <tr>\n",
       "      <th>Lisistaya47</th>\n",
       "      <td>$9.19</td>\n",
       "      <td>$3.06</td>\n",
       "      <td>3</td>\n",
       "    </tr>\n",
       "    <tr>\n",
       "      <th>Tyisriphos58</th>\n",
       "      <td>$9.18</td>\n",
       "      <td>$4.59</td>\n",
       "      <td>2</td>\n",
       "    </tr>\n",
       "  </tbody>\n",
       "</table>\n",
       "</div>"
      ],
      "text/plain": [
       "             Valor Total de Compra Valor Médio de Compra  Número de Compras\n",
       "Login                                                                      \n",
       "Qarwen67                     $9.97                 $2.49                  4\n",
       "Sondim43                     $9.38                 $3.13                  3\n",
       "Tillyrin30                   $9.19                 $3.06                  3\n",
       "Lisistaya47                  $9.19                 $3.06                  3\n",
       "Tyisriphos58                 $9.18                 $4.59                  2"
      ]
     },
     "execution_count": 42,
     "metadata": {},
     "output_type": "execute_result"
    }
   ],
   "source": [
    "# Cálculos básicos\n",
    "user_total = purchase_file.groupby([\"Login\"]).sum()[\"Valor\"].rename(\"Valor Total de Compra\")\n",
    "user_average = purchase_file.groupby([\"Login\"]).mean()[\"Valor\"].rename(\"Valor Médio de Compra\")\n",
    "user_count = purchase_file.groupby([\"Login\"]).count()[\"Valor\"].rename(\"Número de Compras\")\n",
    "\n",
    "# Dataframe para os resultados\n",
    "user_data = pd.DataFrame({\"Valor Total de Compra\": user_total, \"Valor Médio de Compra\": user_average, \"Número de Compras\": user_count})\n",
    "\n",
    "# Data Munging\n",
    "user_data [\"Valor Total de Compra\"] = user_data[\"Valor Total de Compra\"].map(\"${:,.2f}\".format)\n",
    "user_data [\"Valor Médio de Compra\"] = user_data[\"Valor Médio de Compra\"].map(\"${:,.2f}\".format)\n",
    "user_data.sort_values(\"Valor Total de Compra\", ascending=False).head(5)"
   ]
  },
  {
   "cell_type": "markdown",
   "metadata": {},
   "source": [
    "# Identifique os 5 itens mais lucrativos pelo valor total de compra e, em seguida, liste (em uma tabela):\n",
    "\n",
    "* ID do item\n",
    "* Nome do item\n",
    "* Número de compras\n",
    "* Preço do item\n",
    "* Valor Total de Compra"
   ]
  },
  {
   "cell_type": "code",
   "execution_count": null,
   "metadata": {},
   "outputs": [],
   "source": []
  }
 ],
 "metadata": {
  "kernelspec": {
   "display_name": "Python 3.9.12 ('base')",
   "language": "python",
   "name": "python3"
  },
  "language_info": {
   "codemirror_mode": {
    "name": "ipython",
    "version": 3
   },
   "file_extension": ".py",
   "mimetype": "text/x-python",
   "name": "python",
   "nbconvert_exporter": "python",
   "pygments_lexer": "ipython3",
   "version": "3.9.12"
  },
  "orig_nbformat": 4,
  "vscode": {
   "interpreter": {
    "hash": "fb8bbe35ce05a967cc1765cb51a1a815dfdecdfebe5b24f692427b5b8ca49088"
   }
  }
 },
 "nbformat": 4,
 "nbformat_minor": 2
}
