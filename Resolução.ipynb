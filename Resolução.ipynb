{
 "cells": [
  {
   "cell_type": "markdown",
   "metadata": {},
   "source": [
    "# Tratamento dos dados"
   ]
  },
  {
   "cell_type": "code",
   "execution_count": null,
   "metadata": {},
   "outputs": [],
   "source": [
    "#imports\n",
    "from pandas import Series\n",
    "import pandas as pd\n",
    "import numpy as np\n",
    "import matplotlib.pyplot as plt\n",
    "import seaborn as sns\n",
    "#from sklearn.feature_extraction.text import CountVectorizer"
   ]
  },
  {
   "cell_type": "code",
   "execution_count": null,
   "metadata": {},
   "outputs": [],
   "source": [
    "# Carregando os arquivos e salvando em um dataframe\n",
    "load_file = \"dados_compras.json\"\n",
    "purchase_file = pd.read_json(load_file, orient = \"records\")\n",
    "purchase_file.head()"
   ]
  },
  {
   "cell_type": "code",
   "execution_count": null,
   "metadata": {},
   "outputs": [],
   "source": [
    "#verificar se foi criado a tabela\n",
    "type(purchase_file)"
   ]
  },
  {
   "cell_type": "code",
   "execution_count": null,
   "metadata": {},
   "outputs": [],
   "source": [
    "# verificar a quantidade de linhas e da colunas do dataframe\n",
    "purchase_file.shape"
   ]
  },
  {
   "cell_type": "code",
   "execution_count": null,
   "metadata": {},
   "outputs": [],
   "source": [
    "#verificar estatísticas das colunas do dataframe (para ser utilizado mais tarde para entedner se os futuros dados obitos fazem sentido)\n",
    "print(purchase_file.describe())"
   ]
  },
  {
   "cell_type": "markdown",
   "metadata": {},
   "source": [
    "# Informações dos Consumidores\n",
    "* Número total de consumidores\n",
    "* Número total de vendas"
   ]
  },
  {
   "cell_type": "code",
   "execution_count": null,
   "metadata": {},
   "outputs": [],
   "source": [
    "#verificar o total de vendas e de consumidores (se há mais de uma venda por consumidor)\n",
    "def total():\n",
    "    total_vendas = purchase_file['Login'].count()\n",
    "    total_consumidores = purchase_file['Login'].drop_duplicates().count()\n",
    "    print(\"A quantidade total de venddas foi de %s e o total de consumidores é de %s consumidores \" % (total_vendas, total_consumidores))\n",
    "total()"
   ]
  },
  {
   "cell_type": "code",
   "execution_count": null,
   "metadata": {},
   "outputs": [],
   "source": [
    "#plotar total de consumidores vs total de vendas em um gráfico de pizza\n",
    "#style\n",
    "plt.style.use('_mpl-gallery-nogrid')\n",
    "#data\n",
    "x = [total_consumidores, total_vendas]\n",
    "#color\n",
    "colors = plt.get_cmap('Blues')(np.linspace(0.2, 0.7, len(x)))\n",
    "#plot\n",
    "#mehorar label\n",
    "label = [ 'Total de Consumidores', 'Total de vendas']\n",
    "fig, ax = plt.subplots()\n",
    "ax.pie(x, colors = colors, radius = 4, center = (5,5), wedgeprops = {\"linewidth\":1, \"edgecolor\":\"white\"}, frame = True, labels= label)\n",
    "\n",
    "ax.set(xlim = (0,10), xticks = np.arange(1,10), ylim= (0,10), yticks = np.arange(1,10))\n",
    "\n",
    "plt.show()"
   ]
  },
  {
   "cell_type": "markdown",
   "metadata": {},
   "source": [
    "# Análise Geral de Compras\n",
    "* Número de itens exclusivos\n",
    "* Preço médio de compra\n",
    "* Número total de compras\n",
    "* Rendimento total"
   ]
  },
  {
   "cell_type": "code",
   "execution_count": null,
   "metadata": {},
   "outputs": [],
   "source": [
    "#verificando se existems valores exclusivos, eliminando duplicatas e contandoas\n",
    "def exclusivos():\n",
    "    def tabelas(): #trazer tabelas separadas de cada coluna sem itens duplicados\n",
    "        tot0 =  pd.Series(purchase_file['Login'].drop_duplicates())\n",
    "        tot1 =  pd.Series(purchase_file['Idade'].drop_duplicates())\n",
    "        tot2 =  pd.Series(purchase_file['Sexo'].drop_duplicates())\n",
    "        tot3 =  pd.Series(purchase_file['Item ID'].drop_duplicates())\n",
    "        tot4 =  pd.Series(purchase_file['Nome do Item'].drop_duplicates())\n",
    "        print(tot0, tot1, tot2, tot3, tot4)\n",
    "\n",
    "    def duplicata(): #trazer o resumo do total de valores exclusivos de cada coluna\n",
    "        tot0 =  purchase_file['Login'].drop_duplicates().count()\n",
    "        tot1 =  purchase_file['Idade'].drop_duplicates().count()\n",
    "        tot2 =  purchase_file['Sexo'].drop_duplicates().count()\n",
    "        tot3 =  purchase_file['Item ID'].drop_duplicates().count()\n",
    "        tot4 =  purchase_file['Nome do Item'].drop_duplicates().count()\n",
    "        total = {'Login': tot0, 'Idade': tot1, 'Sexo': tot2, 'Item ID': tot3, 'Nome do Item': tot4}\n",
    "        print(\"O total de itens exclusivos por coluna é: \", total)\n",
    "    tabelas()\n",
    "    duplicata()\n",
    "exclusivos()\n"
   ]
  },
  {
   "cell_type": "code",
   "execution_count": null,
   "metadata": {},
   "outputs": [],
   "source": [
    "#preço médio das compras\n",
    "def preco_medio():\n",
    "    media_vendas = np.mean(purchase_file['Valor'])\n",
    "    print(\"O preço médio das vendas é de R$%s\" %(media_vendas))\n",
    "preco_medio()"
   ]
  },
  {
   "cell_type": "code",
   "execution_count": null,
   "metadata": {},
   "outputs": [],
   "source": [
    "#calculando rendimento total\n",
    "rendimento_total = np.sum(purchase_file['Valor'])\n",
    "print(\"O rendimento total foi de R$ %s\" %(rendimento_total))"
   ]
  },
  {
   "cell_type": "code",
   "execution_count": null,
   "metadata": {},
   "outputs": [],
   "source": [
    "#plot de gráfico de colunas da quantidade de itens exclusivos por coluna\n",
    " "
   ]
  },
  {
   "cell_type": "markdown",
   "metadata": {},
   "source": [
    "# Informações Demográficas Por Gênero\n",
    "\n",
    "* Porcentagem e contagem de compradores masculinos\n",
    "* Porcentagem e contagem de compradores do sexo feminino\n",
    "* Porcentagem e contagem de outros / não divulgados"
   ]
  },
  {
   "cell_type": "code",
   "execution_count": null,
   "metadata": {},
   "outputs": [],
   "source": [
    "def contagem():\n",
    "    masc = len(purchase_file.loc[purchase_file['Sexo'] == 'Masculino'])\n",
    "    fem = len(purchase_file.loc[purchase_file[\"Sexo\"] == 'Feminino'])\n",
    "    others = len(purchase_file.loc[purchase_file['Sexo'] == 'Outro / Não Divulgado'])\n",
    "    print(\"Número de pessoas do sexo masculino: {0} ({1:2}%)\".format(masc, (masc / (masc + fem + others))*100))# verificar formato de platagem de valores\n",
    "    print(\"Número de pessoas do sexo feminino: {0} ({1:2}%)\".format(fem, (masc / (masc + fem + others))*100))\n",
    "    print(\"Número de pessoas que não divulgaram: {0} ({1:2}%)\".format(others, (masc / (masc + fem + others))*100))"
   ]
  },
  {
   "cell_type": "code",
   "execution_count": null,
   "metadata": {},
   "outputs": [],
   "source": [
    "contagem()"
   ]
  },
  {
   "cell_type": "code",
   "execution_count": null,
   "metadata": {},
   "outputs": [],
   "source": [
    "#histograma para visualizar a quantidade de dados\n",
    "# pesquisar alguma gráfico no seaborn\n",
    "purchase_file.Sexo.hist()"
   ]
  },
  {
   "cell_type": "markdown",
   "metadata": {},
   "source": [
    "# Análise de Compras Por Gênero \n",
    "\n",
    "* Número de compras\n",
    "* Preço médio de compra\n",
    "* Valor Total de Compra\n",
    "* Compras for faixa etária"
   ]
  },
  {
   "cell_type": "code",
   "execution_count": null,
   "metadata": {},
   "outputs": [],
   "source": [
    "#puxar uma séria filtrando apenas o gênero e calcular o preço médio das compras\n",
    "def genero_masc():\n",
    "    gen_mas = purchase_file.filter(items = purchase_file ,like = 'Masculino', axis = 1)\n",
    "    print(gen_mas)"
   ]
  },
  {
   "cell_type": "code",
   "execution_count": null,
   "metadata": {},
   "outputs": [],
   "source": [
    "genero_masc()"
   ]
  },
  {
   "cell_type": "markdown",
   "metadata": {},
   "source": [
    "# Identifique os 5 principais compradores pelo valor total de compra e, em seguida, liste (em uma tabela):\n",
    "\n",
    "* Login\n",
    "* Número de compras\n",
    "* Preço médio de compra\n",
    "* Valor Total de Compra\n",
    "* Itens mais populares"
   ]
  },
  {
   "cell_type": "code",
   "execution_count": null,
   "metadata": {},
   "outputs": [],
   "source": []
  },
  {
   "cell_type": "markdown",
   "metadata": {},
   "source": [
    "#  Identifique os 5 itens mais populares por contagem de compras e, em seguida, liste (em uma tabela):\n",
    "\n",
    "* ID do item\n",
    "* Nome do item\n",
    "* Número de compras\n",
    "* Preço do item\n",
    "* Valor Total de Compra\n",
    "* Itens mais lucrativos"
   ]
  },
  {
   "cell_type": "code",
   "execution_count": null,
   "metadata": {},
   "outputs": [],
   "source": []
  },
  {
   "cell_type": "markdown",
   "metadata": {},
   "source": [
    "# Identifique os 5 itens mais lucrativos pelo valor total de compra e, em seguida, liste (em uma tabela):\n",
    "\n",
    "* ID do item\n",
    "* Nome do item\n",
    "* Número de compras\n",
    "* Preço do item\n",
    "* Valor Total de Compra"
   ]
  },
  {
   "cell_type": "code",
   "execution_count": null,
   "metadata": {},
   "outputs": [],
   "source": []
  },
  {
   "cell_type": "markdown",
   "metadata": {},
   "source": []
  },
  {
   "cell_type": "markdown",
   "metadata": {},
   "source": [
    "# #Bonus - Usando modelo Machine Learning para prever futuras vendas\n",
    "* utilizando modelo de regressão linear, prevê"
   ]
  }
 ],
 "metadata": {
  "kernelspec": {
   "display_name": "Python 3.9.12 ('base')",
   "language": "python",
   "name": "python3"
  },
  "language_info": {
   "codemirror_mode": {
    "name": "ipython",
    "version": 3
   },
   "file_extension": ".py",
   "mimetype": "text/x-python",
   "name": "python",
   "nbconvert_exporter": "python",
   "pygments_lexer": "ipython3",
   "version": "3.9.12"
  },
  "orig_nbformat": 4,
  "vscode": {
   "interpreter": {
    "hash": "fb8bbe35ce05a967cc1765cb51a1a815dfdecdfebe5b24f692427b5b8ca49088"
   }
  }
 },
 "nbformat": 4,
 "nbformat_minor": 2
}
