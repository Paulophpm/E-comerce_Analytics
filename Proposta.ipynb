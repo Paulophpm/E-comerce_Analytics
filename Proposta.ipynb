{
 "cells": [
  {
   "cell_type": "markdown",
   "metadata": {},
   "source": [
    "# Tratamento dos dados"
   ]
  },
  {
   "cell_type": "code",
   "execution_count": 1,
   "metadata": {},
   "outputs": [],
   "source": [
    "#imports\n",
    "import pandas as pd\n",
    "import matplotlib.pyplot as plt\n",
    "import seaborn as sns"
   ]
  },
  {
   "cell_type": "code",
   "execution_count": null,
   "metadata": {},
   "outputs": [],
   "source": [
    "# Carregando os arquivos e salvando em um dataframe\n",
    "file = \"dados_compras.json\"\n",
    "compras = pd.read_json(file, orient = \"records\")\n",
    "compras.head()"
   ]
  },
  {
   "cell_type": "code",
   "execution_count": null,
   "metadata": {},
   "outputs": [],
   "source": [
    "#verificar estatísticas das colunas do dataframe (para ser utilizado mais tarde para entedner se os futuros dados obitos fazem sentido)\n",
    "print(compras.describe())"
   ]
  },
  {
   "cell_type": "markdown",
   "metadata": {},
   "source": [
    "# Informações dos Consumidores\n",
    "* Número total de consumidores\n",
    "* Número total de vendas"
   ]
  },
  {
   "cell_type": "code",
   "execution_count": null,
   "metadata": {},
   "outputs": [],
   "source": [
    "#verificar o total de vendas e de consumidores (se há mais de uma venda por consumidor)\n",
    "demografico = compras.loc[:, [\"Login\", \"Sexo\",\"Idade\"]]\n",
    "demografico.head()"
   ]
  },
  {
   "cell_type": "code",
   "execution_count": null,
   "metadata": {},
   "outputs": [],
   "source": [
    "players = demografico.drop_duplicates()\n",
    "players"
   ]
  },
  {
   "cell_type": "markdown",
   "metadata": {},
   "source": [
    "# Análise Geral de Compras\n",
    "* Número de itens exclusivos\n",
    "* Preço médio de compra\n",
    "* Número total de compras\n",
    "* Rendimento total"
   ]
  },
  {
   "cell_type": "code",
   "execution_count": null,
   "metadata": {},
   "outputs": [],
   "source": [
    "media_vendas = compras['Valor'].mean()\n",
    "total_vendas = compras['Valor'].sum()\n",
    "numero_vendas = compras['Valor'].count()\n",
    "item_unicos = len(compras[\"Item ID\"].unique())#contagem de str\n",
    "\n",
    "vendas = pd.DataFrame({\"Media de Vendas\": [media_vendas],# valores escalares entre []\n",
    "                      \"Total de Vendas\": total_vendas,  \n",
    "                      \"Numero de Vendas\": numero_vendas,\n",
    "                      \"Itens Únicos\": item_unicos})\n",
    "\n",
    "vendas[\"Media de Vendas\"] = vendas[\"Media de Vendas\"].map(\"${:,.2f}\".format)\n",
    "vendas[\"Total de Vendas\"] = vendas[\"Total de Vendas\"].map(\"${:,.2f}\".format)\n",
    "vendas[\"Numero de Vendas\"] = vendas[\"Numero de Vendas\"].map(\"{:}\".format)\n",
    "vendas[\"Itens Únicos\"] = vendas[\"Itens Únicos\"].map(\"{:}\".format)\n",
    "vendas\n"
   ]
  },
  {
   "cell_type": "markdown",
   "metadata": {},
   "source": [
    "# Informações Demográficas Por Gênero\n",
    "\n",
    "* Porcentagem e contagem de compradores masculinos\n",
    "* Porcentagem e contagem de compradores do sexo feminino\n",
    "* Porcentagem e contagem de outros / não divulgados"
   ]
  },
  {
   "cell_type": "code",
   "execution_count": null,
   "metadata": {},
   "outputs": [],
   "source": [
    "masc = len(players.loc[compras['Sexo'] == 'Masculino'])\n",
    "fem = len(players.loc[compras[\"Sexo\"] == 'Feminino'])\n",
    "others = len(players.loc[compras['Sexo'] == 'Outro / Não Divulgado'])\n",
    "total_sex = players['Sexo'].count()\n",
    "masc_por = (masc / total_sex)*100\n",
    "fem_por = (fem / total_sex)*100\n",
    "others_por = (others / total_sex)*100\n",
    "generos = pd.DataFrame({\"Quantidade\": [masc, fem, others],\n",
    "                        \"%\": [masc_por,fem_por, others_por]}, \n",
    "                        index= [\"Masculino\", \"Feminino\", \"Outros / Não Divulgado\"])\n",
    "generos['%'] = generos['%'].map(\"{:.2f}%\".format)\n",
    "generos"
   ]
  },
  {
   "cell_type": "markdown",
   "metadata": {},
   "source": [
    "# Análise de Compras Por Gênero \n",
    "\n",
    "* Número de compras\n",
    "* Preço médio de compra\n",
    "* Valor Total de Compra\n",
    "* Compras for faixa etária"
   ]
  },
  {
   "cell_type": "code",
   "execution_count": null,
   "metadata": {},
   "outputs": [],
   "source": [
    "total = compras.groupby(['Sexo']).sum()['Valor'].map(\"$ {:,.2f}\".format)\n",
    "media = compras.groupby(['Sexo']).mean()['Valor'].map(\"$ {:.2f}\".format)\n",
    "qntd = compras.groupby(['Sexo']).count()['Valor']\n",
    "genero = pd.DataFrame({\"Total de Compras\": total,\n",
    "                        \"Preço Médio\": media,\n",
    "                        \"Quantidade de Compras\": qntd})\n",
    "genero\n"
   ]
  },
  {
   "cell_type": "code",
   "execution_count": null,
   "metadata": {},
   "outputs": [],
   "source": [
    "#faixa etária ##lemberet tentar groupyby com listas das idades\n",
    "id1 = [1,2,3,4,5,6,7,8,9,10,11,12,13,14,15,16,17,18,19,20]\n",
    "id2 = [21,22,23,24,25,26,27,28,29,30,31,32,33,34,35,36,37,38,39]\n",
    "total = compras.groupby(['Idade'], by = [id1]).count()\n",
    "\n",
    "genero = pd.DataFrame({\"Total de Compras\": total})  \n",
    "genero\n"
   ]
  },
  {
   "cell_type": "markdown",
   "metadata": {},
   "source": [
    "# Identifique os 5 principais compradores pelo valor total de compra e, em seguida, liste (em uma tabela):\n",
    "\n",
    "* Login\n",
    "* Número de compras\n",
    "* Preço médio de compra\n",
    "* Valor Total de Compra\n",
    "* Itens mais populares"
   ]
  },
  {
   "cell_type": "code",
   "execution_count": null,
   "metadata": {},
   "outputs": [],
   "source": [
    "total_compras = compras.groupby([\"Login\"]).sum()[\"Valor\"].map(\"${:.2f}\".format)\n",
    "media_compras = compras.groupby([\"Login\"]).mean()[\"Valor\"].map(\"${:.2f}\".format) \n",
    "qntd_compras = compras.groupby([\"Login\"]).count()[\"Valor\"]\n",
    "\n",
    "tabela = pd.DataFrame({\"Total Compras\": total_compras,\n",
    "                       \"Numero Compras\": qntd_compras,\n",
    "                       \"Media Compras\": media_compras,})\n",
    "tabela.sort_values(\"Total Compras\", ascending=False).head(5)##inserir nome da coluna a ser ordenada"
   ]
  },
  {
   "cell_type": "markdown",
   "metadata": {},
   "source": [
    "#  Identifique os 5 itens mais populares por contagem de compras e, em seguida, liste (em uma tabela):\n",
    "\n",
    "* ID do item\n",
    "* Nome do item\n",
    "* Número de compras\n",
    "* Preço do item\n",
    "* Valor Total de Compra\n",
    "* Itens mais lucrativos"
   ]
  },
  {
   "cell_type": "code",
   "execution_count": null,
   "metadata": {},
   "outputs": [],
   "source": [
    "# Cálculos básicos\n",
    "item_total = compras.groupby([\"Nome do Item\"]).sum()[\"Valor\"]\n",
    "item_medio = compras.groupby([\"Nome do Item\"]).mean()[\"Valor\"]\n",
    "item_qntd = compras.groupby([\"Nome do Item\"]).count()[\"Valor\"]\n",
    "\n",
    "# Dataframe para os resultados\n",
    "table = pd.DataFrame({\"Valor Total de Compra\": item_total,\n",
    "                      \"Valor Médio de Compra\": item_medio,\n",
    "                      \"Número de Compra\": item_qntd})\n",
    "table[\"Valor Total de Compra\"] = table[\"Valor Total de Compra\"].map(\"${:,.2f}\".format)\n",
    "table[\"Valor Médio de Compra\"] = table[\"Valor Médio de Compra\"].map(\"${:,.2f}\".format)\n",
    "table.sort_values(\"Número de Compra\", ascending=False).head(5)"
   ]
  },
  {
   "cell_type": "markdown",
   "metadata": {},
   "source": [
    "# Identifique os 5 itens mais lucrativos pelo valor total de compra e, em seguida, liste (em uma tabela):\n",
    "\n",
    "* ID do item\n",
    "* Nome do item\n",
    "* Número de compras\n",
    "* Preço do item\n",
    "* Valor Total de Compra"
   ]
  },
  {
   "cell_type": "code",
   "execution_count": null,
   "metadata": {},
   "outputs": [],
   "source": [
    "table.sort_values(\"Valor Total de Compra\", ascending=False).head(5)"
   ]
  }
 ],
 "metadata": {
  "kernelspec": {
   "display_name": "Python 3.9.12 ('base')",
   "language": "python",
   "name": "python3"
  },
  "language_info": {
   "codemirror_mode": {
    "name": "ipython",
    "version": 3
   },
   "file_extension": ".py",
   "mimetype": "text/x-python",
   "name": "python",
   "nbconvert_exporter": "python",
   "pygments_lexer": "ipython3",
   "version": "3.9.12"
  },
  "orig_nbformat": 4,
  "vscode": {
   "interpreter": {
    "hash": "fb8bbe35ce05a967cc1765cb51a1a815dfdecdfebe5b24f692427b5b8ca49088"
   }
  }
 },
 "nbformat": 4,
 "nbformat_minor": 2
}
